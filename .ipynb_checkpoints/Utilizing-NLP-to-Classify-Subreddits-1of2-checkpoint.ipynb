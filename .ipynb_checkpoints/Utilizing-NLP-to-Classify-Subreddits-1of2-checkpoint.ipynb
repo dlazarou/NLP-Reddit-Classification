{
 "cells": [
  {
   "cell_type": "markdown",
   "metadata": {},
   "source": [
    "\n",
    "# Utilizing NLP to Classify Political Subreddits (Democrats vs Republicans)\n",
    "## Content List- Part 1"
   ]
  },
  {
   "cell_type": "markdown",
   "metadata": {},
   "source": [
    "- [Problem Statement](#Problem-Statement)\n",
    "- [Executive Summary](#Executive-Summary)\n",
    "- [Data Collection](#Data-Collection)\n",
    "- [Data Cleaning and EDA](#Data-Cleaning-and-EDA)"
   ]
  },
  {
   "cell_type": "markdown",
   "metadata": {},
   "source": [
    "## Problem Statement\n",
    "\n",
    "What patterns exist in online text that we can extract, analyze and use to refine online business models? I will be utilizing Natural Language Processing (NLP) to determine whether the author would be closer aligned to the Democratic or Conservative parties, by analyzing /r/Democrats and /r/Conservative on Reddit. \n",
    "The goal will be to build and test an assortment of classification models that can predict whether the author is more likely to hold conservative or liberal views, so that we can advise an online advertiser which ads to run for which audiences.\n"
   ]
  },
  {
   "cell_type": "markdown",
   "metadata": {},
   "source": [
    "## Executive Summary"
   ]
  },
  {
   "cell_type": "markdown",
   "metadata": {},
   "source": [
    "Part 1 of this project focuses on the data gathering, wrangling, cleaning and processing from \"Natural Language\" to something that computers can interpret and model, specifically numerical values. \n",
    "\n",
    "The source of our data is one of the current most popular websites for conversations, discussions and arguments on the internet, none other than www.Reddit.com. Home to over 26 Million monthly users, 850,000 subreddits and 18 billion monthly pageviews, Reddit is one of the premier locations on the internet for distribution, manipulation and consumption of data. What better way for us to test a model's ability to classify input into discrete classes than the hotbed of online discussion itself?\n",
    "\n",
    "In our efforts to classify the text, we will be combining the text from the title as well as the body of the post in order to maximize our analytical process' capacity. This will provide a larger corpus for each post, which will result in a largely and hopefully more robust corpora to train our algorithm. In comparing the subreddits by the numbers, r/Democrats has less subscribers with 91k as compared to /r/Conservative’s 205k, but how do their word usages stack up?\n",
    "\n",
    "We begin by utilizing the Reddit API to scrape the information from two politically themed subreddits: /r/Democrats and /r/Republicans. In total, we will attempt to pull 1000 posts per subreddit for a total of 2000, but understand that we may fall short due to duplicates or issues with the API's limits. \n",
    "\n",
    "After reading in the data, we ensure there are no duplicate posts, we utilize the Pandas library to convert all title and post text dictionaries into dataframes where the text and subreddit location are included, but the subreddit itself is binarized in order to make it feasible for our model to understand. \n",
    "\n",
    "Our dataset is then split up into train and test partitions before being fed into a series of models in order to determine the most apt model for our use. The vectorizers that we will employ in order to tokenize the words and additionally clean the text are: CountVectorizer as well as TF-IDF Vectorizer. Although similar to CountVectorizer, TF-IDF is being utilized due to the vectorizer's purpose in controlling the frequency of terms across documents and datasets alike, introducing penalties for reoccuring words. This will help us in our attempts to understand the online text that we have scraped.\n",
    "\n",
    "For the model selection, we have many at our disposal but will be utilizing the following: LogisticRegression, MultinomialNaiveBayes, RandomForest and finally AdaBoost. These are models that are adept at classification problems in which we are seeking to understand if something is one of two possibilities, with success being measured in Accuracy.\n",
    "\n",
    "Before getting to the modeling however, we will save the dataframe to a .csv file, in order to lower the potential for needing to rescrape the data and subsequently starting over on the analytical process. Part 2 of this Notebook will pick up from where the end of Part 1 leaves off, with importing the newly formed .csv files and proceeding as planned."
   ]
  },
  {
   "cell_type": "markdown",
   "metadata": {},
   "source": [
    "## Data Collection"
   ]
  },
  {
   "cell_type": "markdown",
   "metadata": {},
   "source": [
    "#### Import libraries"
   ]
  },
  {
   "cell_type": "code",
   "execution_count": 57,
   "metadata": {
    "ExecuteTime": {
     "end_time": "2019-07-07T19:34:30.658458Z",
     "start_time": "2019-07-07T19:34:30.653066Z"
    }
   },
   "outputs": [],
   "source": [
    "import matplotlib.pyplot as plt\n",
    "\n",
    "from nltk.stem import WordNetLemmatizer\n",
    "import warnings\n",
    "warnings.filterwarnings('ignore')\n",
    "import requests\n",
    "import time\n",
    "import numpy as np\n",
    "import pandas as pd"
   ]
  },
  {
   "cell_type": "code",
   "execution_count": 58,
   "metadata": {
    "ExecuteTime": {
     "end_time": "2019-07-07T19:34:31.087728Z",
     "start_time": "2019-07-07T19:34:31.073707Z"
    }
   },
   "outputs": [],
   "source": [
    "# Define URL and username\n",
    "url_democrats = \"https://www.reddit.com/r/Democrats/.json\" # change subreddit here\n",
    "url_republicans = \"https://www.reddit.com/r/Republicans/.json\"\n",
    "username = {\"User-agent\": 'omgitsjonnn'}      # header to prevent 429 error```"
   ]
  },
  {
   "cell_type": "code",
   "execution_count": 59,
   "metadata": {
    "ExecuteTime": {
     "end_time": "2019-07-07T19:34:31.331575Z",
     "start_time": "2019-07-07T19:34:31.322578Z"
    }
   },
   "outputs": [],
   "source": [
    "# Function to pull subreddit posts\n",
    "def get_subreddit(url, n_pulls, headers):    \n",
    "\n",
    "    # Create empty templates\n",
    "    posts = []\n",
    "    after = None\n",
    "    duplicates = []\n",
    "    # Create a loop that does max 25 requests per pull\n",
    "    for pull_num in range(n_pulls):\n",
    "        print(\"Pulling data attempted\", pull_num+1,\"time(s)\")\n",
    "\n",
    "        if after == None:\n",
    "            new_url = url                 # base case\n",
    "        else:\n",
    "            new_url = url+\"?after=\"+after # subsequent iterations\n",
    "\n",
    "        res = requests.get(new_url, headers=headers)\n",
    "\n",
    "        if res.status_code == 200:\n",
    "            subreddit_json = res.json()                      # Pull JSON\n",
    "            posts.extend(subreddit_json['data']['children']) # Get subreddit posts\n",
    "            after = subreddit_json['data']['after']          # 'after' = ID of the last post in this iteration\n",
    "        else:\n",
    "            print(\"We've run into an error. The status code is:\", res.status_code)\n",
    "            break\n",
    "\n",
    "        time.sleep(1)\n",
    "        \n",
    "    return(posts)\n"
   ]
  },
  {
   "cell_type": "code",
   "execution_count": 60,
   "metadata": {
    "ExecuteTime": {
     "end_time": "2019-07-07T19:35:47.351369Z",
     "start_time": "2019-07-07T19:34:31.796852Z"
    },
    "scrolled": true
   },
   "outputs": [
    {
     "name": "stdout",
     "output_type": "stream",
     "text": [
      "Pulling data attempted 1 time(s)\n",
      "Pulling data attempted 2 time(s)\n",
      "Pulling data attempted 3 time(s)\n",
      "Pulling data attempted 4 time(s)\n",
      "Pulling data attempted 5 time(s)\n",
      "Pulling data attempted 6 time(s)\n",
      "Pulling data attempted 7 time(s)\n",
      "Pulling data attempted 8 time(s)\n",
      "Pulling data attempted 9 time(s)\n",
      "Pulling data attempted 10 time(s)\n",
      "Pulling data attempted 11 time(s)\n",
      "Pulling data attempted 12 time(s)\n",
      "Pulling data attempted 13 time(s)\n",
      "Pulling data attempted 14 time(s)\n",
      "Pulling data attempted 15 time(s)\n",
      "Pulling data attempted 16 time(s)\n",
      "Pulling data attempted 17 time(s)\n",
      "Pulling data attempted 18 time(s)\n",
      "Pulling data attempted 19 time(s)\n",
      "Pulling data attempted 20 time(s)\n",
      "Pulling data attempted 21 time(s)\n",
      "Pulling data attempted 22 time(s)\n",
      "Pulling data attempted 23 time(s)\n",
      "Pulling data attempted 24 time(s)\n",
      "Pulling data attempted 25 time(s)\n",
      "Pulling data attempted 26 time(s)\n",
      "Pulling data attempted 27 time(s)\n",
      "Pulling data attempted 28 time(s)\n",
      "Pulling data attempted 29 time(s)\n",
      "Pulling data attempted 30 time(s)\n",
      "Pulling data attempted 31 time(s)\n",
      "Pulling data attempted 32 time(s)\n",
      "Pulling data attempted 33 time(s)\n",
      "Pulling data attempted 34 time(s)\n",
      "Pulling data attempted 35 time(s)\n",
      "Pulling data attempted 36 time(s)\n",
      "Pulling data attempted 37 time(s)\n",
      "Pulling data attempted 38 time(s)\n",
      "Pulling data attempted 39 time(s)\n",
      "Pulling data attempted 40 time(s)\n",
      "Pulling data attempted 41 time(s)\n",
      "Pulling data attempted 42 time(s)\n",
      "Pulling data attempted 43 time(s)\n",
      "Pulling data attempted 44 time(s)\n",
      "Pulling data attempted 45 time(s)\n",
      "Pulling data attempted 46 time(s)\n",
      "Pulling data attempted 47 time(s)\n",
      "Pulling data attempted 48 time(s)\n",
      "Pulling data attempted 49 time(s)\n",
      "Pulling data attempted 50 time(s)\n"
     ]
    }
   ],
   "source": [
    "get_republicans = get_subreddit(url_republicans, n_pulls = 50, headers= username)"
   ]
  },
  {
   "cell_type": "code",
   "execution_count": 61,
   "metadata": {
    "ExecuteTime": {
     "end_time": "2019-07-07T19:36:58.824678Z",
     "start_time": "2019-07-07T19:35:47.354009Z"
    },
    "scrolled": true
   },
   "outputs": [
    {
     "name": "stdout",
     "output_type": "stream",
     "text": [
      "Pulling data attempted 1 time(s)\n",
      "Pulling data attempted 2 time(s)\n",
      "Pulling data attempted 3 time(s)\n",
      "Pulling data attempted 4 time(s)\n",
      "Pulling data attempted 5 time(s)\n",
      "Pulling data attempted 6 time(s)\n",
      "Pulling data attempted 7 time(s)\n",
      "Pulling data attempted 8 time(s)\n",
      "Pulling data attempted 9 time(s)\n",
      "Pulling data attempted 10 time(s)\n",
      "Pulling data attempted 11 time(s)\n",
      "Pulling data attempted 12 time(s)\n",
      "Pulling data attempted 13 time(s)\n",
      "Pulling data attempted 14 time(s)\n",
      "Pulling data attempted 15 time(s)\n",
      "Pulling data attempted 16 time(s)\n",
      "Pulling data attempted 17 time(s)\n",
      "Pulling data attempted 18 time(s)\n",
      "Pulling data attempted 19 time(s)\n",
      "Pulling data attempted 20 time(s)\n",
      "Pulling data attempted 21 time(s)\n",
      "Pulling data attempted 22 time(s)\n",
      "Pulling data attempted 23 time(s)\n",
      "Pulling data attempted 24 time(s)\n",
      "Pulling data attempted 25 time(s)\n",
      "Pulling data attempted 26 time(s)\n",
      "Pulling data attempted 27 time(s)\n",
      "Pulling data attempted 28 time(s)\n",
      "Pulling data attempted 29 time(s)\n",
      "Pulling data attempted 30 time(s)\n",
      "Pulling data attempted 31 time(s)\n",
      "Pulling data attempted 32 time(s)\n",
      "Pulling data attempted 33 time(s)\n",
      "Pulling data attempted 34 time(s)\n",
      "Pulling data attempted 35 time(s)\n",
      "Pulling data attempted 36 time(s)\n",
      "Pulling data attempted 37 time(s)\n",
      "Pulling data attempted 38 time(s)\n",
      "Pulling data attempted 39 time(s)\n",
      "Pulling data attempted 40 time(s)\n",
      "Pulling data attempted 41 time(s)\n",
      "Pulling data attempted 42 time(s)\n",
      "Pulling data attempted 43 time(s)\n",
      "Pulling data attempted 44 time(s)\n",
      "Pulling data attempted 45 time(s)\n",
      "Pulling data attempted 46 time(s)\n",
      "Pulling data attempted 47 time(s)\n",
      "Pulling data attempted 48 time(s)\n",
      "Pulling data attempted 49 time(s)\n",
      "Pulling data attempted 50 time(s)\n"
     ]
    }
   ],
   "source": [
    "# Call function to get democrats data\n",
    "get_democrats = get_subreddit(url_democrats, n_pulls = 50, headers = username)"
   ]
  },
  {
   "cell_type": "code",
   "execution_count": 62,
   "metadata": {
    "ExecuteTime": {
     "end_time": "2019-07-07T19:39:37.930003Z",
     "start_time": "2019-07-07T19:39:37.917629Z"
    },
    "scrolled": false
   },
   "outputs": [
    {
     "data": {
      "text/plain": [
       "{'kind': 't3',\n",
       " 'data': {'approved_at_utc': None,\n",
       "  'subreddit': 'democrats',\n",
       "  'selftext': '',\n",
       "  'author_fullname': 't2_12z4up',\n",
       "  'saved': False,\n",
       "  'mod_reason_title': None,\n",
       "  'gilded': 0,\n",
       "  'clicked': False,\n",
       "  'title': 'Tim O\\'Brien on Twitter: \"“I’ve known Jeff for fifteen years. Terrific guy. He’s a lot of fun to be with. It is even said that he likes beautiful women as much as I do, and many of them are on the younger side.” - Donald Trump, 2002\"',\n",
       "  'link_flair_richtext': [],\n",
       "  'subreddit_name_prefixed': 'r/democrats',\n",
       "  'hidden': False,\n",
       "  'pwls': 6,\n",
       "  'link_flair_css_class': None,\n",
       "  'downs': 0,\n",
       "  'thumbnail_height': 140,\n",
       "  'hide_score': False,\n",
       "  'name': 't3_ca7cpa',\n",
       "  'quarantine': False,\n",
       "  'link_flair_text_color': 'dark',\n",
       "  'author_flair_background_color': None,\n",
       "  'subreddit_type': 'public',\n",
       "  'ups': 217,\n",
       "  'total_awards_received': 0,\n",
       "  'media_embed': {},\n",
       "  'thumbnail_width': 140,\n",
       "  'author_flair_template_id': None,\n",
       "  'is_original_content': False,\n",
       "  'user_reports': [],\n",
       "  'secure_media': None,\n",
       "  'is_reddit_media_domain': False,\n",
       "  'is_meta': False,\n",
       "  'category': None,\n",
       "  'secure_media_embed': {},\n",
       "  'link_flair_text': None,\n",
       "  'can_mod_post': False,\n",
       "  'score': 217,\n",
       "  'approved_by': None,\n",
       "  'thumbnail': 'https://b.thumbs.redditmedia.com/zg8bKq2pyyLJSy4qVlOIMeQXJnHLGMs8XWkj3QbvTuk.jpg',\n",
       "  'edited': False,\n",
       "  'author_flair_css_class': None,\n",
       "  'author_flair_richtext': [],\n",
       "  'gildings': {},\n",
       "  'post_hint': 'link',\n",
       "  'content_categories': None,\n",
       "  'is_self': False,\n",
       "  'mod_note': None,\n",
       "  'created': 1562538259.0,\n",
       "  'link_flair_type': 'text',\n",
       "  'wls': 6,\n",
       "  'banned_by': None,\n",
       "  'author_flair_type': 'text',\n",
       "  'domain': 'twitter.com',\n",
       "  'allow_live_comments': False,\n",
       "  'selftext_html': None,\n",
       "  'likes': None,\n",
       "  'suggested_sort': None,\n",
       "  'banned_at_utc': None,\n",
       "  'view_count': None,\n",
       "  'archived': False,\n",
       "  'no_follow': False,\n",
       "  'is_crosspostable': False,\n",
       "  'pinned': False,\n",
       "  'over_18': False,\n",
       "  'preview': {'images': [{'source': {'url': 'https://external-preview.redd.it/cHukKtEeBL6EBBulTKOwH56kMSfu4sbHJUJMxbGcH0w.jpg?auto=webp&amp;s=a2059874a291d7c8c6703647a7870935216fb1d0',\n",
       "      'width': 259,\n",
       "      'height': 259},\n",
       "     'resolutions': [{'url': 'https://external-preview.redd.it/cHukKtEeBL6EBBulTKOwH56kMSfu4sbHJUJMxbGcH0w.jpg?width=108&amp;crop=smart&amp;auto=webp&amp;s=c92173c00d37d499028cbb009161382b1939076f',\n",
       "       'width': 108,\n",
       "       'height': 108},\n",
       "      {'url': 'https://external-preview.redd.it/cHukKtEeBL6EBBulTKOwH56kMSfu4sbHJUJMxbGcH0w.jpg?width=216&amp;crop=smart&amp;auto=webp&amp;s=312a8e4eab6a4edc76f427934faf6c8115d913c6',\n",
       "       'width': 216,\n",
       "       'height': 216}],\n",
       "     'variants': {},\n",
       "     'id': 'a5vZHlfl-SVU_E4i6Ca2L9LD0UVHumzKCygCdPHfkgU'}],\n",
       "   'enabled': False},\n",
       "  'all_awardings': [],\n",
       "  'media_only': False,\n",
       "  'can_gild': False,\n",
       "  'spoiler': False,\n",
       "  'locked': False,\n",
       "  'author_flair_text': None,\n",
       "  'visited': False,\n",
       "  'num_reports': None,\n",
       "  'distinguished': None,\n",
       "  'subreddit_id': 't5_2qn70',\n",
       "  'mod_reason_by': None,\n",
       "  'removal_reason': None,\n",
       "  'link_flair_background_color': '',\n",
       "  'id': 'ca7cpa',\n",
       "  'is_robot_indexable': True,\n",
       "  'report_reasons': None,\n",
       "  'author': 'therecordcorrected',\n",
       "  'num_crossposts': 0,\n",
       "  'num_comments': 8,\n",
       "  'send_replies': False,\n",
       "  'whitelist_status': 'all_ads',\n",
       "  'contest_mode': False,\n",
       "  'mod_reports': [],\n",
       "  'author_patreon_flair': False,\n",
       "  'author_flair_text_color': None,\n",
       "  'permalink': '/r/democrats/comments/ca7cpa/tim_obrien_on_twitter_ive_known_jeff_for_fifteen/',\n",
       "  'parent_whitelist_status': 'all_ads',\n",
       "  'stickied': False,\n",
       "  'url': 'https://twitter.com/TimOBrien/status/1147688866289262592',\n",
       "  'subreddit_subscribers': 98098,\n",
       "  'created_utc': 1562509459.0,\n",
       "  'discussion_type': None,\n",
       "  'media': None,\n",
       "  'is_video': False}}"
      ]
     },
     "execution_count": 62,
     "metadata": {},
     "output_type": "execute_result"
    }
   ],
   "source": [
    "# choosing what information we should be extracting for our analysis\n",
    "get_democrats[1]"
   ]
  },
  {
   "cell_type": "code",
   "execution_count": 63,
   "metadata": {
    "ExecuteTime": {
     "end_time": "2019-07-07T19:39:38.750334Z",
     "start_time": "2019-07-07T19:39:38.740633Z"
    }
   },
   "outputs": [
    {
     "data": {
      "text/plain": [
       "'t3_c926ee'"
      ]
     },
     "execution_count": 63,
     "metadata": {},
     "output_type": "execute_result"
    }
   ],
   "source": [
    "#displaying the unique identifier that we will use to differentiate posts\n",
    "get_republicans[1]['data']['name']"
   ]
  },
  {
   "cell_type": "code",
   "execution_count": 64,
   "metadata": {
    "ExecuteTime": {
     "end_time": "2019-07-07T19:39:39.097465Z",
     "start_time": "2019-07-07T19:39:39.087822Z"
    }
   },
   "outputs": [],
   "source": [
    "#build a function to automatically convert the data from post lists to df\n",
    "def df_posts(post_list):\n",
    "    post_titles = []\n",
    "    dupes = []\n",
    "    \n",
    "    for i in range(len(post_list)):\n",
    "        if post_list[i]['data']['name'] in dupes:\n",
    "            pass\n",
    "        else:\n",
    "            title_dict = {}\n",
    "            if type(post_list[i]['data']['selftext']) == str:\n",
    "                title_dict['Post Text']= post_list[i]['data']['title'] + '\\n' + post_list[i]['data']['selftext']\n",
    "            \n",
    "            else:\n",
    "                title_dict['Post Text'] = post_list[i]['data']['title']\n",
    "            title_dict['Subreddit'] = post_list[i]['data']['subreddit']\n",
    "            title_dict['Length of Title'] = len(post_list[i]['data']['title'])\n",
    "            title_dict['ID'] = post_list[i]['data']['name']\n",
    "            post_titles.append(title_dict)\n",
    "            dupes.append(post_list[i]['data']['name'])\n",
    "\n",
    "    return pd.DataFrame(post_titles)"
   ]
  },
  {
   "cell_type": "code",
   "execution_count": 65,
   "metadata": {
    "ExecuteTime": {
     "end_time": "2019-07-07T19:39:39.423832Z",
     "start_time": "2019-07-07T19:39:39.384085Z"
    }
   },
   "outputs": [
    {
     "data": {
      "text/html": [
       "<div>\n",
       "<style scoped>\n",
       "    .dataframe tbody tr th:only-of-type {\n",
       "        vertical-align: middle;\n",
       "    }\n",
       "\n",
       "    .dataframe tbody tr th {\n",
       "        vertical-align: top;\n",
       "    }\n",
       "\n",
       "    .dataframe thead th {\n",
       "        text-align: right;\n",
       "    }\n",
       "</style>\n",
       "<table border=\"1\" class=\"dataframe\">\n",
       "  <thead>\n",
       "    <tr style=\"text-align: right;\">\n",
       "      <th></th>\n",
       "      <th>ID</th>\n",
       "      <th>Length of Title</th>\n",
       "      <th>Post Text</th>\n",
       "      <th>Subreddit</th>\n",
       "    </tr>\n",
       "  </thead>\n",
       "  <tbody>\n",
       "    <tr>\n",
       "      <th>0</th>\n",
       "      <td>t3_ca90wq</td>\n",
       "      <td>110</td>\n",
       "      <td>Hillary Clinton: World champs—again!! To the a...</td>\n",
       "      <td>democrats</td>\n",
       "    </tr>\n",
       "    <tr>\n",
       "      <th>1</th>\n",
       "      <td>t3_ca7cpa</td>\n",
       "      <td>232</td>\n",
       "      <td>Tim O'Brien on Twitter: \"“I’ve known Jeff for ...</td>\n",
       "      <td>democrats</td>\n",
       "    </tr>\n",
       "    <tr>\n",
       "      <th>2</th>\n",
       "      <td>t3_ca2vp8</td>\n",
       "      <td>180</td>\n",
       "      <td>Stephen King on Twitter: \"“Took over the airpo...</td>\n",
       "      <td>democrats</td>\n",
       "    </tr>\n",
       "    <tr>\n",
       "      <th>3</th>\n",
       "      <td>t3_ca6ixc</td>\n",
       "      <td>64</td>\n",
       "      <td>Trump administration is 'inept and insecure', ...</td>\n",
       "      <td>democrats</td>\n",
       "    </tr>\n",
       "    <tr>\n",
       "      <th>4</th>\n",
       "      <td>t3_ca7im1</td>\n",
       "      <td>280</td>\n",
       "      <td>Donald Trump's legacy will be \"tolerating abus...</td>\n",
       "      <td>democrats</td>\n",
       "    </tr>\n",
       "  </tbody>\n",
       "</table>\n",
       "</div>"
      ],
      "text/plain": [
       "          ID  Length of Title  \\\n",
       "0  t3_ca90wq              110   \n",
       "1  t3_ca7cpa              232   \n",
       "2  t3_ca2vp8              180   \n",
       "3  t3_ca6ixc               64   \n",
       "4  t3_ca7im1              280   \n",
       "\n",
       "                                           Post Text  Subreddit  \n",
       "0  Hillary Clinton: World champs—again!! To the a...  democrats  \n",
       "1  Tim O'Brien on Twitter: \"“I’ve known Jeff for ...  democrats  \n",
       "2  Stephen King on Twitter: \"“Took over the airpo...  democrats  \n",
       "3  Trump administration is 'inept and insecure', ...  democrats  \n",
       "4  Donald Trump's legacy will be \"tolerating abus...  democrats  "
      ]
     },
     "execution_count": 65,
     "metadata": {},
     "output_type": "execute_result"
    }
   ],
   "source": [
    "#convert the list of democrat posts to a dataframe\n",
    "dem_df = df_posts(get_democrats)\n",
    "dem_df.head()"
   ]
  },
  {
   "cell_type": "code",
   "execution_count": 66,
   "metadata": {
    "ExecuteTime": {
     "end_time": "2019-07-07T19:39:39.724727Z",
     "start_time": "2019-07-07T19:39:39.701078Z"
    }
   },
   "outputs": [
    {
     "data": {
      "text/plain": [
       "(806, 4)"
      ]
     },
     "execution_count": 66,
     "metadata": {},
     "output_type": "execute_result"
    }
   ],
   "source": [
    "#convert the list of conservative posts to a dataframe\n",
    "rep_df = df_posts(get_republicans)\n",
    "rep_df.shape"
   ]
  },
  {
   "cell_type": "code",
   "execution_count": 67,
   "metadata": {
    "ExecuteTime": {
     "end_time": "2019-07-07T19:39:39.960398Z",
     "start_time": "2019-07-07T19:39:39.945627Z"
    },
    "scrolled": true
   },
   "outputs": [
    {
     "data": {
      "text/html": [
       "<div>\n",
       "<style scoped>\n",
       "    .dataframe tbody tr th:only-of-type {\n",
       "        vertical-align: middle;\n",
       "    }\n",
       "\n",
       "    .dataframe tbody tr th {\n",
       "        vertical-align: top;\n",
       "    }\n",
       "\n",
       "    .dataframe thead th {\n",
       "        text-align: right;\n",
       "    }\n",
       "</style>\n",
       "<table border=\"1\" class=\"dataframe\">\n",
       "  <thead>\n",
       "    <tr style=\"text-align: right;\">\n",
       "      <th></th>\n",
       "      <th>ID</th>\n",
       "      <th>Length of Title</th>\n",
       "      <th>Post Text</th>\n",
       "      <th>Subreddit</th>\n",
       "    </tr>\n",
       "  </thead>\n",
       "  <tbody>\n",
       "    <tr>\n",
       "      <th>0</th>\n",
       "      <td>t3_ca90wq</td>\n",
       "      <td>110</td>\n",
       "      <td>Hillary Clinton: World champs—again!! To the a...</td>\n",
       "      <td>democrats</td>\n",
       "    </tr>\n",
       "    <tr>\n",
       "      <th>1</th>\n",
       "      <td>t3_ca7cpa</td>\n",
       "      <td>232</td>\n",
       "      <td>Tim O'Brien on Twitter: \"“I’ve known Jeff for ...</td>\n",
       "      <td>democrats</td>\n",
       "    </tr>\n",
       "    <tr>\n",
       "      <th>2</th>\n",
       "      <td>t3_ca2vp8</td>\n",
       "      <td>180</td>\n",
       "      <td>Stephen King on Twitter: \"“Took over the airpo...</td>\n",
       "      <td>democrats</td>\n",
       "    </tr>\n",
       "    <tr>\n",
       "      <th>3</th>\n",
       "      <td>t3_ca6ixc</td>\n",
       "      <td>64</td>\n",
       "      <td>Trump administration is 'inept and insecure', ...</td>\n",
       "      <td>democrats</td>\n",
       "    </tr>\n",
       "    <tr>\n",
       "      <th>4</th>\n",
       "      <td>t3_ca7im1</td>\n",
       "      <td>280</td>\n",
       "      <td>Donald Trump's legacy will be \"tolerating abus...</td>\n",
       "      <td>democrats</td>\n",
       "    </tr>\n",
       "  </tbody>\n",
       "</table>\n",
       "</div>"
      ],
      "text/plain": [
       "          ID  Length of Title  \\\n",
       "0  t3_ca90wq              110   \n",
       "1  t3_ca7cpa              232   \n",
       "2  t3_ca2vp8              180   \n",
       "3  t3_ca6ixc               64   \n",
       "4  t3_ca7im1              280   \n",
       "\n",
       "                                           Post Text  Subreddit  \n",
       "0  Hillary Clinton: World champs—again!! To the a...  democrats  \n",
       "1  Tim O'Brien on Twitter: \"“I’ve known Jeff for ...  democrats  \n",
       "2  Stephen King on Twitter: \"“Took over the airpo...  democrats  \n",
       "3  Trump administration is 'inept and insecure', ...  democrats  \n",
       "4  Donald Trump's legacy will be \"tolerating abus...  democrats  "
      ]
     },
     "execution_count": 67,
     "metadata": {},
     "output_type": "execute_result"
    }
   ],
   "source": [
    "dem_df.head()"
   ]
  },
  {
   "cell_type": "code",
   "execution_count": 68,
   "metadata": {
    "ExecuteTime": {
     "end_time": "2019-07-07T19:39:40.237667Z",
     "start_time": "2019-07-07T19:39:40.217027Z"
    }
   },
   "outputs": [
    {
     "data": {
      "text/html": [
       "<div>\n",
       "<style scoped>\n",
       "    .dataframe tbody tr th:only-of-type {\n",
       "        vertical-align: middle;\n",
       "    }\n",
       "\n",
       "    .dataframe tbody tr th {\n",
       "        vertical-align: top;\n",
       "    }\n",
       "\n",
       "    .dataframe thead th {\n",
       "        text-align: right;\n",
       "    }\n",
       "</style>\n",
       "<table border=\"1\" class=\"dataframe\">\n",
       "  <thead>\n",
       "    <tr style=\"text-align: right;\">\n",
       "      <th></th>\n",
       "      <th>ID</th>\n",
       "      <th>Length of Title</th>\n",
       "      <th>Post Text</th>\n",
       "      <th>Subreddit</th>\n",
       "    </tr>\n",
       "  </thead>\n",
       "  <tbody>\n",
       "    <tr>\n",
       "      <th>0</th>\n",
       "      <td>t3_bu8owc</td>\n",
       "      <td>63</td>\n",
       "      <td>Research Confirms It: Weak Men Are More Likely...</td>\n",
       "      <td>republicans</td>\n",
       "    </tr>\n",
       "    <tr>\n",
       "      <th>1</th>\n",
       "      <td>t3_c926ee</td>\n",
       "      <td>60</td>\n",
       "      <td>The 3 Big Differences Between Conservatives an...</td>\n",
       "      <td>republicans</td>\n",
       "    </tr>\n",
       "    <tr>\n",
       "      <th>2</th>\n",
       "      <td>t3_c9upog</td>\n",
       "      <td>273</td>\n",
       "      <td>It's time for trump to do more than lip Servic...</td>\n",
       "      <td>republicans</td>\n",
       "    </tr>\n",
       "    <tr>\n",
       "      <th>3</th>\n",
       "      <td>t3_c9lci0</td>\n",
       "      <td>65</td>\n",
       "      <td>Koch Groups Renew Push to Reform ‘Broken’ U.S....</td>\n",
       "      <td>republicans</td>\n",
       "    </tr>\n",
       "    <tr>\n",
       "      <th>4</th>\n",
       "      <td>t3_c9i6zr</td>\n",
       "      <td>95</td>\n",
       "      <td>30 people have been shot in Chicago since the ...</td>\n",
       "      <td>republicans</td>\n",
       "    </tr>\n",
       "  </tbody>\n",
       "</table>\n",
       "</div>"
      ],
      "text/plain": [
       "          ID  Length of Title  \\\n",
       "0  t3_bu8owc               63   \n",
       "1  t3_c926ee               60   \n",
       "2  t3_c9upog              273   \n",
       "3  t3_c9lci0               65   \n",
       "4  t3_c9i6zr               95   \n",
       "\n",
       "                                           Post Text    Subreddit  \n",
       "0  Research Confirms It: Weak Men Are More Likely...  republicans  \n",
       "1  The 3 Big Differences Between Conservatives an...  republicans  \n",
       "2  It's time for trump to do more than lip Servic...  republicans  \n",
       "3  Koch Groups Renew Push to Reform ‘Broken’ U.S....  republicans  \n",
       "4  30 people have been shot in Chicago since the ...  republicans  "
      ]
     },
     "execution_count": 68,
     "metadata": {},
     "output_type": "execute_result"
    }
   ],
   "source": [
    "rep_df.head()"
   ]
  },
  {
   "cell_type": "code",
   "execution_count": 69,
   "metadata": {
    "ExecuteTime": {
     "end_time": "2019-07-07T19:39:40.438340Z",
     "start_time": "2019-07-07T19:39:40.426938Z"
    }
   },
   "outputs": [
    {
     "data": {
      "text/plain": [
       "806"
      ]
     },
     "execution_count": 69,
     "metadata": {},
     "output_type": "execute_result"
    }
   ],
   "source": [
    "#check length of Conservative posts dataframe\n",
    "len(set(rep_df['ID']))"
   ]
  },
  {
   "cell_type": "code",
   "execution_count": 70,
   "metadata": {
    "ExecuteTime": {
     "end_time": "2019-07-07T19:39:40.649936Z",
     "start_time": "2019-07-07T19:39:40.639757Z"
    },
    "scrolled": true
   },
   "outputs": [
    {
     "data": {
      "text/plain": [
       "993"
      ]
     },
     "execution_count": 70,
     "metadata": {},
     "output_type": "execute_result"
    }
   ],
   "source": [
    "#check length of Democrats posts dataframe\n",
    "len(set(dem_df['ID']))"
   ]
  },
  {
   "cell_type": "markdown",
   "metadata": {},
   "source": [
    "## Data Cleaning and EDA"
   ]
  },
  {
   "cell_type": "code",
   "execution_count": 71,
   "metadata": {
    "ExecuteTime": {
     "end_time": "2019-07-07T19:39:41.061546Z",
     "start_time": "2019-07-07T19:39:41.019795Z"
    }
   },
   "outputs": [],
   "source": [
    "#concatenate each df into one master_df\n",
    "master_df = pd.merge(rep_df, dem_df, how= 'outer')"
   ]
  },
  {
   "cell_type": "code",
   "execution_count": 72,
   "metadata": {
    "ExecuteTime": {
     "end_time": "2019-07-07T19:39:41.222614Z",
     "start_time": "2019-07-07T19:39:41.208342Z"
    }
   },
   "outputs": [
    {
     "data": {
      "text/plain": [
       "1799"
      ]
     },
     "execution_count": 72,
     "metadata": {},
     "output_type": "execute_result"
    }
   ],
   "source": [
    "len(master_df)"
   ]
  },
  {
   "cell_type": "code",
   "execution_count": 73,
   "metadata": {
    "ExecuteTime": {
     "end_time": "2019-07-07T19:39:41.397332Z",
     "start_time": "2019-07-07T19:39:41.384659Z"
    },
    "scrolled": false
   },
   "outputs": [
    {
     "data": {
      "text/plain": [
       "ID                 0\n",
       "Length of Title    0\n",
       "Post Text          0\n",
       "Subreddit          0\n",
       "dtype: int64"
      ]
     },
     "execution_count": 73,
     "metadata": {},
     "output_type": "execute_result"
    }
   ],
   "source": [
    "#check for nulls\n",
    "master_df.isnull().sum()"
   ]
  },
  {
   "cell_type": "markdown",
   "metadata": {},
   "source": [
    "#### Binarizing Target Features: Democrats vs Republicans"
   ]
  },
  {
   "cell_type": "code",
   "execution_count": 74,
   "metadata": {
    "ExecuteTime": {
     "end_time": "2019-07-07T19:39:41.774023Z",
     "start_time": "2019-07-07T19:39:41.763589Z"
    }
   },
   "outputs": [],
   "source": [
    "#transforming the target into 1 for Democrats and 0 for Conservative\n",
    "master_df['Subreddit'] = master_df['Subreddit'].map(lambda x : 1 if x == \"democrats\" else 0)"
   ]
  },
  {
   "cell_type": "code",
   "execution_count": 75,
   "metadata": {
    "ExecuteTime": {
     "end_time": "2019-07-07T19:39:41.964176Z",
     "start_time": "2019-07-07T19:39:41.949520Z"
    },
    "scrolled": false
   },
   "outputs": [
    {
     "data": {
      "text/html": [
       "<div>\n",
       "<style scoped>\n",
       "    .dataframe tbody tr th:only-of-type {\n",
       "        vertical-align: middle;\n",
       "    }\n",
       "\n",
       "    .dataframe tbody tr th {\n",
       "        vertical-align: top;\n",
       "    }\n",
       "\n",
       "    .dataframe thead th {\n",
       "        text-align: right;\n",
       "    }\n",
       "</style>\n",
       "<table border=\"1\" class=\"dataframe\">\n",
       "  <thead>\n",
       "    <tr style=\"text-align: right;\">\n",
       "      <th></th>\n",
       "      <th>ID</th>\n",
       "      <th>Length of Title</th>\n",
       "      <th>Post Text</th>\n",
       "      <th>Subreddit</th>\n",
       "    </tr>\n",
       "  </thead>\n",
       "  <tbody>\n",
       "    <tr>\n",
       "      <th>1794</th>\n",
       "      <td>t3_c0aud3</td>\n",
       "      <td>95</td>\n",
       "      <td>\"What Can You Say in 60 Seconds?\": As the Firs...</td>\n",
       "      <td>1</td>\n",
       "    </tr>\n",
       "    <tr>\n",
       "      <th>1795</th>\n",
       "      <td>t3_c05hwb</td>\n",
       "      <td>87</td>\n",
       "      <td>Brennan slams Trump after ABC interview: Unfit...</td>\n",
       "      <td>1</td>\n",
       "    </tr>\n",
       "    <tr>\n",
       "      <th>1796</th>\n",
       "      <td>t3_c0103l</td>\n",
       "      <td>285</td>\n",
       "      <td>Trump picked Kim Jong Un over the CIA. Is anyo...</td>\n",
       "      <td>1</td>\n",
       "    </tr>\n",
       "    <tr>\n",
       "      <th>1797</th>\n",
       "      <td>t3_bzwa10</td>\n",
       "      <td>78</td>\n",
       "      <td>McConnell Blocks Election Security, Takes Chec...</td>\n",
       "      <td>1</td>\n",
       "    </tr>\n",
       "    <tr>\n",
       "      <th>1798</th>\n",
       "      <td>t3_c09nbl</td>\n",
       "      <td>277</td>\n",
       "      <td>I'm assuming Pelosi wants to impeach however t...</td>\n",
       "      <td>1</td>\n",
       "    </tr>\n",
       "  </tbody>\n",
       "</table>\n",
       "</div>"
      ],
      "text/plain": [
       "             ID  Length of Title  \\\n",
       "1794  t3_c0aud3               95   \n",
       "1795  t3_c05hwb               87   \n",
       "1796  t3_c0103l              285   \n",
       "1797  t3_bzwa10               78   \n",
       "1798  t3_c09nbl              277   \n",
       "\n",
       "                                              Post Text  Subreddit  \n",
       "1794  \"What Can You Say in 60 Seconds?\": As the Firs...          1  \n",
       "1795  Brennan slams Trump after ABC interview: Unfit...          1  \n",
       "1796  Trump picked Kim Jong Un over the CIA. Is anyo...          1  \n",
       "1797  McConnell Blocks Election Security, Takes Chec...          1  \n",
       "1798  I'm assuming Pelosi wants to impeach however t...          1  "
      ]
     },
     "execution_count": 75,
     "metadata": {},
     "output_type": "execute_result"
    }
   ],
   "source": [
    "#verify that the mapping worked\n",
    "master_df.tail()"
   ]
  },
  {
   "cell_type": "code",
   "execution_count": 76,
   "metadata": {
    "ExecuteTime": {
     "end_time": "2019-07-07T19:39:42.176980Z",
     "start_time": "2019-07-07T19:39:42.149069Z"
    }
   },
   "outputs": [
    {
     "data": {
      "text/html": [
       "<div>\n",
       "<style scoped>\n",
       "    .dataframe tbody tr th:only-of-type {\n",
       "        vertical-align: middle;\n",
       "    }\n",
       "\n",
       "    .dataframe tbody tr th {\n",
       "        vertical-align: top;\n",
       "    }\n",
       "\n",
       "    .dataframe thead th {\n",
       "        text-align: right;\n",
       "    }\n",
       "</style>\n",
       "<table border=\"1\" class=\"dataframe\">\n",
       "  <thead>\n",
       "    <tr style=\"text-align: right;\">\n",
       "      <th></th>\n",
       "      <th>ID</th>\n",
       "      <th>Length of Title</th>\n",
       "      <th>Post Text</th>\n",
       "      <th>Subreddit</th>\n",
       "    </tr>\n",
       "  </thead>\n",
       "  <tbody>\n",
       "    <tr>\n",
       "      <th>1428</th>\n",
       "      <td>t3_c3vmhu</td>\n",
       "      <td>4</td>\n",
       "      <td>Yup!\\nTrump claims 74,000 supporters requested...</td>\n",
       "      <td>1</td>\n",
       "    </tr>\n",
       "    <tr>\n",
       "      <th>217</th>\n",
       "      <td>t3_b5tnpf</td>\n",
       "      <td>6</td>\n",
       "      <td>The UK\\n</td>\n",
       "      <td>0</td>\n",
       "    </tr>\n",
       "    <tr>\n",
       "      <th>1694</th>\n",
       "      <td>t3_c1elbn</td>\n",
       "      <td>11</td>\n",
       "      <td>Dear Nancy:\\nAlthough I see the logic in holdi...</td>\n",
       "      <td>1</td>\n",
       "    </tr>\n",
       "    <tr>\n",
       "      <th>259</th>\n",
       "      <td>t3_b3v8eb</td>\n",
       "      <td>12</td>\n",
       "      <td>War changes.\\n</td>\n",
       "      <td>0</td>\n",
       "    </tr>\n",
       "    <tr>\n",
       "      <th>976</th>\n",
       "      <td>t3_c8oudd</td>\n",
       "      <td>13</td>\n",
       "      <td>We need memes\\nI was talking to some Democrats...</td>\n",
       "      <td>1</td>\n",
       "    </tr>\n",
       "    <tr>\n",
       "      <th>433</th>\n",
       "      <td>t3_aeqdp7</td>\n",
       "      <td>14</td>\n",
       "      <td>Build The Wall\\n</td>\n",
       "      <td>0</td>\n",
       "    </tr>\n",
       "    <tr>\n",
       "      <th>422</th>\n",
       "      <td>t3_afbjwj</td>\n",
       "      <td>15</td>\n",
       "      <td>Dump Steve King\\n</td>\n",
       "      <td>0</td>\n",
       "    </tr>\n",
       "    <tr>\n",
       "      <th>16</th>\n",
       "      <td>t3_c6qa95</td>\n",
       "      <td>15</td>\n",
       "      <td>... Waitress?!?\\n</td>\n",
       "      <td>0</td>\n",
       "    </tr>\n",
       "    <tr>\n",
       "      <th>636</th>\n",
       "      <td>t3_9lptd2</td>\n",
       "      <td>16</td>\n",
       "      <td>COLLINS IS A YES\\n</td>\n",
       "      <td>0</td>\n",
       "    </tr>\n",
       "    <tr>\n",
       "      <th>637</th>\n",
       "      <td>t3_9lpst6</td>\n",
       "      <td>16</td>\n",
       "      <td>MANCHIN IS A YES\\n</td>\n",
       "      <td>0</td>\n",
       "    </tr>\n",
       "    <tr>\n",
       "      <th>194</th>\n",
       "      <td>t3_b9359q</td>\n",
       "      <td>16</td>\n",
       "      <td>Pull The Strings\\n</td>\n",
       "      <td>0</td>\n",
       "    </tr>\n",
       "    <tr>\n",
       "      <th>592</th>\n",
       "      <td>t3_9revbt</td>\n",
       "      <td>17</td>\n",
       "      <td>Vote November 6th\\n</td>\n",
       "      <td>0</td>\n",
       "    </tr>\n",
       "    <tr>\n",
       "      <th>700</th>\n",
       "      <td>t3_9dhfou</td>\n",
       "      <td>17</td>\n",
       "      <td>talks are back on\\n</td>\n",
       "      <td>0</td>\n",
       "    </tr>\n",
       "    <tr>\n",
       "      <th>258</th>\n",
       "      <td>t3_b3vlx8</td>\n",
       "      <td>17</td>\n",
       "      <td>The New Red Scare\\n</td>\n",
       "      <td>0</td>\n",
       "    </tr>\n",
       "    <tr>\n",
       "      <th>320</th>\n",
       "      <td>t3_arweiq</td>\n",
       "      <td>17</td>\n",
       "      <td>Actual hate crime\\n</td>\n",
       "      <td>0</td>\n",
       "    </tr>\n",
       "    <tr>\n",
       "      <th>185</th>\n",
       "      <td>t3_b93iy4</td>\n",
       "      <td>18</td>\n",
       "      <td>Victim Level +1000\\n</td>\n",
       "      <td>0</td>\n",
       "    </tr>\n",
       "    <tr>\n",
       "      <th>1573</th>\n",
       "      <td>t3_c2i2oa</td>\n",
       "      <td>18</td>\n",
       "      <td>Bernie Sanders AMA\\nHey everyone, this is a cr...</td>\n",
       "      <td>1</td>\n",
       "    </tr>\n",
       "    <tr>\n",
       "      <th>804</th>\n",
       "      <td>t3_8xkhqc</td>\n",
       "      <td>19</td>\n",
       "      <td>KAVANAUGH CONFIRMED\\n</td>\n",
       "      <td>0</td>\n",
       "    </tr>\n",
       "    <tr>\n",
       "      <th>972</th>\n",
       "      <td>t3_c8hilt</td>\n",
       "      <td>20</td>\n",
       "      <td>Beto Than Advertised\\n</td>\n",
       "      <td>1</td>\n",
       "    </tr>\n",
       "    <tr>\n",
       "      <th>8</th>\n",
       "      <td>t3_c8pptb</td>\n",
       "      <td>20</td>\n",
       "      <td>Mission Accomplished\\n</td>\n",
       "      <td>0</td>\n",
       "    </tr>\n",
       "    <tr>\n",
       "      <th>138</th>\n",
       "      <td>t3_bertg0</td>\n",
       "      <td>20</td>\n",
       "      <td>Now it's their turn.\\n</td>\n",
       "      <td>0</td>\n",
       "    </tr>\n",
       "    <tr>\n",
       "      <th>165</th>\n",
       "      <td>t3_bax4xp</td>\n",
       "      <td>21</td>\n",
       "      <td>It's No Covfefe Time!\\n</td>\n",
       "      <td>0</td>\n",
       "    </tr>\n",
       "    <tr>\n",
       "      <th>701</th>\n",
       "      <td>t3_9dkzb4</td>\n",
       "      <td>21</td>\n",
       "      <td>Memes are Racist?????\\n</td>\n",
       "      <td>0</td>\n",
       "    </tr>\n",
       "    <tr>\n",
       "      <th>51</th>\n",
       "      <td>t3_bvamt2</td>\n",
       "      <td>21</td>\n",
       "      <td>It's getting stupider\\n</td>\n",
       "      <td>0</td>\n",
       "    </tr>\n",
       "    <tr>\n",
       "      <th>1204</th>\n",
       "      <td>t3_c5tu1h</td>\n",
       "      <td>21</td>\n",
       "      <td>The_Donald is Gonald.\\n</td>\n",
       "      <td>1</td>\n",
       "    </tr>\n",
       "  </tbody>\n",
       "</table>\n",
       "</div>"
      ],
      "text/plain": [
       "             ID  Length of Title  \\\n",
       "1428  t3_c3vmhu                4   \n",
       "217   t3_b5tnpf                6   \n",
       "1694  t3_c1elbn               11   \n",
       "259   t3_b3v8eb               12   \n",
       "976   t3_c8oudd               13   \n",
       "433   t3_aeqdp7               14   \n",
       "422   t3_afbjwj               15   \n",
       "16    t3_c6qa95               15   \n",
       "636   t3_9lptd2               16   \n",
       "637   t3_9lpst6               16   \n",
       "194   t3_b9359q               16   \n",
       "592   t3_9revbt               17   \n",
       "700   t3_9dhfou               17   \n",
       "258   t3_b3vlx8               17   \n",
       "320   t3_arweiq               17   \n",
       "185   t3_b93iy4               18   \n",
       "1573  t3_c2i2oa               18   \n",
       "804   t3_8xkhqc               19   \n",
       "972   t3_c8hilt               20   \n",
       "8     t3_c8pptb               20   \n",
       "138   t3_bertg0               20   \n",
       "165   t3_bax4xp               21   \n",
       "701   t3_9dkzb4               21   \n",
       "51    t3_bvamt2               21   \n",
       "1204  t3_c5tu1h               21   \n",
       "\n",
       "                                              Post Text  Subreddit  \n",
       "1428  Yup!\\nTrump claims 74,000 supporters requested...          1  \n",
       "217                                            The UK\\n          0  \n",
       "1694  Dear Nancy:\\nAlthough I see the logic in holdi...          1  \n",
       "259                                      War changes.\\n          0  \n",
       "976   We need memes\\nI was talking to some Democrats...          1  \n",
       "433                                    Build The Wall\\n          0  \n",
       "422                                   Dump Steve King\\n          0  \n",
       "16                                    ... Waitress?!?\\n          0  \n",
       "636                                  COLLINS IS A YES\\n          0  \n",
       "637                                  MANCHIN IS A YES\\n          0  \n",
       "194                                  Pull The Strings\\n          0  \n",
       "592                                 Vote November 6th\\n          0  \n",
       "700                                 talks are back on\\n          0  \n",
       "258                                 The New Red Scare\\n          0  \n",
       "320                                 Actual hate crime\\n          0  \n",
       "185                                Victim Level +1000\\n          0  \n",
       "1573  Bernie Sanders AMA\\nHey everyone, this is a cr...          1  \n",
       "804                               KAVANAUGH CONFIRMED\\n          0  \n",
       "972                              Beto Than Advertised\\n          1  \n",
       "8                                Mission Accomplished\\n          0  \n",
       "138                              Now it's their turn.\\n          0  \n",
       "165                             It's No Covfefe Time!\\n          0  \n",
       "701                             Memes are Racist?????\\n          0  \n",
       "51                              It's getting stupider\\n          0  \n",
       "1204                            The_Donald is Gonald.\\n          1  "
      ]
     },
     "execution_count": 76,
     "metadata": {},
     "output_type": "execute_result"
    }
   ],
   "source": [
    "# checking to see if any nulls on the Length of Title\n",
    "master_df.sort_values('Length of Title').head(25)"
   ]
  },
  {
   "cell_type": "markdown",
   "metadata": {},
   "source": [
    "Here we can see quite clearly that there is a correlation between length of post text and class, as 20 out of 25 of the lowest length text are of the Conservative party. This may indicate a higher prevalence of meme usage and thus shorter posts."
   ]
  },
  {
   "cell_type": "code",
   "execution_count": 77,
   "metadata": {
    "ExecuteTime": {
     "end_time": "2019-07-07T19:39:42.534764Z",
     "start_time": "2019-07-07T19:39:42.500020Z"
    }
   },
   "outputs": [],
   "source": [
    "### Export dataframe to use \n",
    "master_df.to_csv('./data/master_df.csv')"
   ]
  },
  {
   "cell_type": "markdown",
   "metadata": {},
   "source": [
    "#### Top Frequencies for Subreddits"
   ]
  },
  {
   "cell_type": "code",
   "execution_count": 78,
   "metadata": {
    "ExecuteTime": {
     "end_time": "2019-07-07T19:39:42.886025Z",
     "start_time": "2019-07-07T19:39:42.880900Z"
    },
    "scrolled": true
   },
   "outputs": [],
   "source": [
    "# import text based modules\n",
    "from sklearn.feature_extraction.text import CountVectorizer,TfidfVectorizer\n",
    "from sklearn.feature_extraction import text, stop_words"
   ]
  },
  {
   "cell_type": "code",
   "execution_count": 79,
   "metadata": {
    "ExecuteTime": {
     "end_time": "2019-07-07T19:39:43.086856Z",
     "start_time": "2019-07-07T19:39:43.072837Z"
    }
   },
   "outputs": [
    {
     "name": "stdout",
     "output_type": "stream",
     "text": [
      "318\n",
      "15\n",
      "341\n",
      "332\n"
     ]
    }
   ],
   "source": [
    "additional_politics_english_stop = ['www', 'things', 'does', 'x200b', 'amp', 'want', 'watch',\n",
    "                           'just', 'like', 'https', 'com', 'republican', 'republicans',\n",
    "                           'libertarians', 'democrats', 'democrat', 'people', 'libertarian',\n",
    "                           'says', 'say', 'did', 'this', 'conservative', 'conservatives' ]\n",
    "\n",
    "additional_english_stop = ['www', 'things', 'does', 'x200b', 'amp',\n",
    "                           'just', 'like', 'https', 'com', 'watch', 'want',\n",
    "                           'says', 'say', 'did', 'this']\n",
    "\n",
    "new_stop_list = stop_words.ENGLISH_STOP_WORDS.union(additional_english_stop)\n",
    "new_politics_english_stop_list = stop_words.ENGLISH_STOP_WORDS.union(additional_politics_english_stop)\n",
    "print(len(stop_words.ENGLISH_STOP_WORDS))\n",
    "print(len(additional_english_stop))\n",
    "print(len(new_politics_english_stop_list))\n",
    "print(len(new_stop_list))\n"
   ]
  },
  {
   "cell_type": "code",
   "execution_count": 80,
   "metadata": {
    "ExecuteTime": {
     "end_time": "2019-07-07T19:39:43.292468Z",
     "start_time": "2019-07-07T19:39:43.286223Z"
    }
   },
   "outputs": [],
   "source": [
    "# code originally written by boom\n",
    "# Function to count words in each df\n",
    "def word_counter(title_df,stop_list = []):\n",
    "    \n",
    "    # Count Vectorize\n",
    "    cvec = CountVectorizer(stop_words = stop_list, max_features=15)\n",
    "\n",
    "    # Transform the corpus\n",
    "    X_text = cvec.fit_transform(title_df['Post Text'])\n",
    "\n",
    "    # Converts text to array form\n",
    "    X_text = pd.DataFrame(X_text.toarray(), columns= cvec.get_feature_names())\n",
    "\n",
    "    # See word counts\n",
    "    word_counts = X_text.sum().sort_values(0, ascending=False)\n",
    "    \n",
    "    return word_counts"
   ]
  },
  {
   "cell_type": "code",
   "execution_count": 81,
   "metadata": {
    "ExecuteTime": {
     "end_time": "2019-07-07T19:39:43.543252Z",
     "start_time": "2019-07-07T19:39:43.470608Z"
    }
   },
   "outputs": [
    {
     "data": {
      "text/plain": [
       "the      1387\n",
       "to       1087\n",
       "of        681\n",
       "in        611\n",
       "and       609\n",
       "trump     548\n",
       "is        488\n",
       "on        430\n",
       "for       386\n",
       "that      379\n",
       "it        308\n",
       "you       243\n",
       "he        217\n",
       "are       205\n",
       "be        181\n",
       "dtype: int64"
      ]
     },
     "execution_count": 81,
     "metadata": {},
     "output_type": "execute_result"
    }
   ],
   "source": [
    "# no Stop Words\n",
    "word_counter(dem_df)\n",
    "# we can see that there is still html jargon that needs to be cleaned further"
   ]
  },
  {
   "cell_type": "code",
   "execution_count": 82,
   "metadata": {
    "ExecuteTime": {
     "end_time": "2019-07-07T19:39:44.013646Z",
     "start_time": "2019-07-07T19:39:43.668623Z"
    }
   },
   "outputs": [
    {
     "data": {
      "image/png": "[encoded data removed]",
      "text/plain": [
       "<Figure size 432x288 with 1 Axes>"
      ]
     },
     "metadata": {
      "needs_background": "light"
     },
     "output_type": "display_data"
    }
   ],
   "source": [
    "# Democrats Top 15 Words with no stop words\n",
    "dems_wordcount = pd.DataFrame(word_counter(dem_df), columns=[\"Frequency\"])\n",
    "\n",
    "# Visualization\n",
    "politics_top15 = dems_wordcount.head(15)\n",
    "politics_top15.sort_values('Frequency',ascending=True).plot(kind = \"barh\")\n",
    "plt.title(\"Top 15 Words in Democrats subreddit\")\n",
    "plt.xlabel(\"Frequency (Count)\")\n",
    "plt.ylabel(\"Word\")\n",
    "plt.show()"
   ]
  },
  {
   "cell_type": "code",
   "execution_count": 83,
   "metadata": {
    "ExecuteTime": {
     "end_time": "2019-07-07T19:39:44.110324Z",
     "start_time": "2019-07-07T19:39:44.018400Z"
    },
    "scrolled": true
   },
   "outputs": [
    {
     "data": {
      "text/plain": [
       "trump         548\n",
       "president     138\n",
       "00            108\n",
       "twitter       105\n",
       "warren         82\n",
       "people         80\n",
       "01             77\n",
       "democrats      75\n",
       "just           74\n",
       "house          73\n",
       "democratic     72\n",
       "says           70\n",
       "like           68\n",
       "new            67\n",
       "2020           67\n",
       "dtype: int64"
      ]
     },
     "execution_count": 83,
     "metadata": {},
     "output_type": "execute_result"
    }
   ],
   "source": [
    "# English Stop Words\n",
    "word_counter(dem_df, stop_words.ENGLISH_STOP_WORDS)"
   ]
  },
  {
   "cell_type": "code",
   "execution_count": 84,
   "metadata": {
    "ExecuteTime": {
     "end_time": "2019-07-07T19:39:44.483587Z",
     "start_time": "2019-07-07T19:39:44.114124Z"
    }
   },
   "outputs": [
    {
     "data": {
      "image/png": "[encoded data removed]",
      "text/plain": [
       "<Figure size 432x288 with 1 Axes>"
      ]
     },
     "metadata": {
      "needs_background": "light"
     },
     "output_type": "display_data"
    }
   ],
   "source": [
    "# Democrats Top 15 Words with default english stop words\n",
    "dems_wordcount = pd.DataFrame(word_counter(dem_df, stop_words.ENGLISH_STOP_WORDS), columns=[\"Frequency\"])\n",
    "\n",
    "# Visualization\n",
    "politics_top15 = dems_wordcount.head(15)\n",
    "politics_top15.sort_values('Frequency',ascending=True).plot(kind = \"barh\")\n",
    "plt.title(\"Top 15 Words in Democrats subreddit v2\")\n",
    "plt.xlabel(\"Frequency (Count)\")\n",
    "plt.show()"
   ]
  },
  {
   "cell_type": "code",
   "execution_count": 85,
   "metadata": {
    "ExecuteTime": {
     "end_time": "2019-07-07T19:39:44.654075Z",
     "start_time": "2019-07-07T19:39:44.488010Z"
    }
   },
   "outputs": [
    {
     "data": {
      "text/plain": [
       "trump         548\n",
       "president     138\n",
       "00            108\n",
       "twitter       105\n",
       "warren         82\n",
       "people         80\n",
       "01             77\n",
       "democrats      75\n",
       "house          73\n",
       "democratic     72\n",
       "new            67\n",
       "don            67\n",
       "2020           67\n",
       "children       65\n",
       "border         64\n",
       "dtype: int64"
      ]
     },
     "execution_count": 85,
     "metadata": {},
     "output_type": "execute_result"
    }
   ],
   "source": [
    "#displaying word list with new stop list\n",
    "word_counter(dem_df,new_stop_list)\n"
   ]
  },
  {
   "cell_type": "code",
   "execution_count": 86,
   "metadata": {
    "ExecuteTime": {
     "end_time": "2019-07-07T19:39:44.985040Z",
     "start_time": "2019-07-07T19:39:44.660017Z"
    }
   },
   "outputs": [
    {
     "data": {
      "image/png": "[encoded data removed]",
      "text/plain": [
       "<Figure size 432x288 with 1 Axes>"
      ]
     },
     "metadata": {
      "needs_background": "light"
     },
     "output_type": "display_data"
    }
   ],
   "source": [
    "# Democrats Top 15 Words with custom stop words \n",
    "dems_wordcount = pd.DataFrame(word_counter(dem_df, stop_words.ENGLISH_STOP_WORDS), columns=[\"Frequency\"])\n",
    "\n",
    "# Visualization\n",
    "politics_top15 = dems_wordcount.head(15)\n",
    "politics_top15.sort_values('Frequency',ascending=True).plot(kind = \"barh\")\n",
    "plt.title(\"Top 15 Words in Democrats subreddit v3\")\n",
    "plt.xlabel(\"Frequency (Count)\")\n",
    "plt.show()"
   ]
  },
  {
   "cell_type": "code",
   "execution_count": 87,
   "metadata": {
    "ExecuteTime": {
     "end_time": "2019-07-07T19:39:45.084838Z",
     "start_time": "2019-07-07T19:39:44.991094Z"
    },
    "scrolled": true
   },
   "outputs": [
    {
     "data": {
      "text/plain": [
       "trump         548\n",
       "president     138\n",
       "00            108\n",
       "twitter       105\n",
       "warren         82\n",
       "01             77\n",
       "house          73\n",
       "democratic     72\n",
       "new            67\n",
       "don            67\n",
       "2020           67\n",
       "children       65\n",
       "border         64\n",
       "sanders        61\n",
       "think          60\n",
       "dtype: int64"
      ]
     },
     "execution_count": 87,
     "metadata": {},
     "output_type": "execute_result"
    }
   ],
   "source": [
    "#displaying word list with new political stop list \n",
    "word_counter(dem_df, new_politics_english_stop_list)"
   ]
  },
  {
   "cell_type": "code",
   "execution_count": 88,
   "metadata": {
    "ExecuteTime": {
     "end_time": "2019-07-07T19:39:45.451622Z",
     "start_time": "2019-07-07T19:39:45.090910Z"
    }
   },
   "outputs": [
    {
     "data": {
      "image/png": "[encoded data removed]",
      "text/plain": [
       "<Figure size 432x288 with 1 Axes>"
      ]
     },
     "metadata": {
      "needs_background": "light"
     },
     "output_type": "display_data"
    }
   ],
   "source": [
    "# Democrats Top 15 Words with custom political stop words\n",
    "dems_wordcount = pd.DataFrame(word_counter(dem_df, new_politics_english_stop_list), columns=[\"Frequency\"])\n",
    "\n",
    "# Visualization\n",
    "politics_top15 = dems_wordcount.head(15)\n",
    "politics_top15.sort_values('Frequency',ascending=True).plot(kind = \"barh\")\n",
    "plt.title(\"Top 15 Words in Democrats subreddit v4\")\n",
    "plt.xlabel(\"Frequency (Count)\")\n",
    "plt.show()"
   ]
  },
  {
   "cell_type": "code",
   "execution_count": 89,
   "metadata": {
    "ExecuteTime": {
     "end_time": "2019-07-07T19:39:45.511593Z",
     "start_time": "2019-07-07T19:39:45.459340Z"
    }
   },
   "outputs": [
    {
     "data": {
      "text/plain": [
       "the      387\n",
       "to       353\n",
       "of       270\n",
       "and      178\n",
       "in       175\n",
       "is       126\n",
       "for      126\n",
       "trump    120\n",
       "on       115\n",
       "it        86\n",
       "you       68\n",
       "that      68\n",
       "with      62\n",
       "be        62\n",
       "are       54\n",
       "dtype: int64"
      ]
     },
     "execution_count": 89,
     "metadata": {},
     "output_type": "execute_result"
    }
   ],
   "source": [
    "#displaying word list with no stop list\n",
    "word_counter(cons_df)\n",
    "# we can see that there is still html jargon that needs to be cleaned further"
   ]
  },
  {
   "cell_type": "code",
   "execution_count": 90,
   "metadata": {
    "ExecuteTime": {
     "end_time": "2019-07-07T19:39:45.878652Z",
     "start_time": "2019-07-07T19:39:45.520039Z"
    }
   },
   "outputs": [
    {
     "data": {
      "image/png": "[encoded data removed]",
      "text/plain": [
       "<Figure size 432x288 with 1 Axes>"
      ]
     },
     "metadata": {
      "needs_background": "light"
     },
     "output_type": "display_data"
    }
   ],
   "source": [
    "# Democrats Top 15 Words with custom political stop words\n",
    "cons_wordcount = pd.DataFrame(word_counter(cons_df), columns=[\"Frequency\"])\n",
    "\n",
    "# Visualization\n",
    "politics_top15 = cons_wordcount.head(15)\n",
    "politics_top15.sort_values('Frequency',ascending=True).plot(kind = \"barh\")\n",
    "plt.title(\"Top 15 Words in Republican subreddit v1\")\n",
    "plt.xlabel(\"Frequency (Count)\")\n",
    "plt.show()"
   ]
  },
  {
   "cell_type": "code",
   "execution_count": 91,
   "metadata": {
    "ExecuteTime": {
     "end_time": "2019-07-07T19:39:45.959228Z",
     "start_time": "2019-07-07T19:39:45.886419Z"
    }
   },
   "outputs": [
    {
     "data": {
      "text/plain": [
       "trump        120\n",
       "july          47\n",
       "america       47\n",
       "flag          46\n",
       "antifa        37\n",
       "american      37\n",
       "border        35\n",
       "left          32\n",
       "says          31\n",
       "people        30\n",
       "president     29\n",
       "media         28\n",
       "aoc           28\n",
       "4th           28\n",
       "speech        27\n",
       "dtype: int64"
      ]
     },
     "execution_count": 91,
     "metadata": {},
     "output_type": "execute_result"
    }
   ],
   "source": [
    "#displaying word list with vanilla english stop list\n",
    "word_counter(cons_df, stop_words.ENGLISH_STOP_WORDS)"
   ]
  },
  {
   "cell_type": "code",
   "execution_count": 92,
   "metadata": {
    "ExecuteTime": {
     "end_time": "2019-07-07T19:39:46.295029Z",
     "start_time": "2019-07-07T19:39:45.969105Z"
    }
   },
   "outputs": [
    {
     "data": {
      "image/png": "[encoded data removed]",
      "text/plain": [
       "<Figure size 432x288 with 1 Axes>"
      ]
     },
     "metadata": {
      "needs_background": "light"
     },
     "output_type": "display_data"
    }
   ],
   "source": [
    "# Democrats Top 15 Words with standard english stop words\n",
    "cons_wordcount = pd.DataFrame(word_counter(cons_df,stop_words.ENGLISH_STOP_WORDS), columns=[\"Frequency\"])\n",
    "\n",
    "# Visualization\n",
    "politics_top15 = cons_wordcount.head(15)\n",
    "politics_top15.sort_values('Frequency',ascending=True).plot(kind = \"barh\")\n",
    "plt.title(\"Top 15 Words in Republican subreddit v2\")\n",
    "plt.xlabel(\"Frequency (Count)\")\n",
    "plt.ylabel(\"Word\")\n",
    "plt.show()"
   ]
  },
  {
   "cell_type": "code",
   "execution_count": 93,
   "metadata": {
    "ExecuteTime": {
     "end_time": "2019-07-07T19:39:46.359279Z",
     "start_time": "2019-07-07T19:39:46.297950Z"
    }
   },
   "outputs": [
    {
     "data": {
      "text/plain": [
       "trump        120\n",
       "july          47\n",
       "america       47\n",
       "flag          46\n",
       "antifa        37\n",
       "american      37\n",
       "border        35\n",
       "left          32\n",
       "people        30\n",
       "president     29\n",
       "media         28\n",
       "aoc           28\n",
       "4th           28\n",
       "speech        27\n",
       "don           26\n",
       "dtype: int64"
      ]
     },
     "execution_count": 93,
     "metadata": {},
     "output_type": "execute_result"
    }
   ],
   "source": [
    "#displaying word list with new stop list\n",
    "word_counter(cons_df, new_stop_list)"
   ]
  },
  {
   "cell_type": "code",
   "execution_count": 94,
   "metadata": {
    "ExecuteTime": {
     "end_time": "2019-07-07T19:39:46.697210Z",
     "start_time": "2019-07-07T19:39:46.365318Z"
    }
   },
   "outputs": [
    {
     "data": {
      "image/png": "[encoded data removed]",
      "text/plain": [
       "<Figure size 432x288 with 1 Axes>"
      ]
     },
     "metadata": {
      "needs_background": "light"
     },
     "output_type": "display_data"
    }
   ],
   "source": [
    "# Democrats Top 15 Words with custom english stop words\n",
    "cons_wordcount = pd.DataFrame(word_counter(cons_df,new_stop_list), columns=[\"Frequency\"])\n",
    "\n",
    "# Visualization\n",
    "politics_top15 = cons_wordcount.head(15)\n",
    "politics_top15.sort_values('Frequency',ascending=True).plot(kind = \"barh\")\n",
    "plt.title(\"Top 15 Words in Republican subreddit v3\")\n",
    "plt.xlabel(\"Frequency (Count)\")\n",
    "plt.ylabel(\"Word\")\n",
    "plt.show()"
   ]
  },
  {
   "cell_type": "code",
   "execution_count": 95,
   "metadata": {
    "ExecuteTime": {
     "end_time": "2019-07-07T19:39:46.754168Z",
     "start_time": "2019-07-07T19:39:46.701251Z"
    },
    "scrolled": true
   },
   "outputs": [
    {
     "data": {
      "text/plain": [
       "trump        120\n",
       "july          47\n",
       "america       47\n",
       "flag          46\n",
       "antifa        37\n",
       "american      37\n",
       "border        35\n",
       "left          32\n",
       "president     29\n",
       "media         28\n",
       "aoc           28\n",
       "4th           28\n",
       "speech        27\n",
       "don           26\n",
       "day           26\n",
       "dtype: int64"
      ]
     },
     "execution_count": 95,
     "metadata": {},
     "output_type": "execute_result"
    }
   ],
   "source": [
    "#displaying word list with new politics stop list\n",
    "word_counter(cons_df, new_politics_english_stop_list)"
   ]
  },
  {
   "cell_type": "code",
   "execution_count": 96,
   "metadata": {
    "ExecuteTime": {
     "end_time": "2019-07-07T19:39:47.064927Z",
     "start_time": "2019-07-07T19:39:46.762706Z"
    }
   },
   "outputs": [
    {
     "data": {
      "image/png": "[encoded data removed]",
      "text/plain": [
       "<Figure size 432x288 with 1 Axes>"
      ]
     },
     "metadata": {
      "needs_background": "light"
     },
     "output_type": "display_data"
    }
   ],
   "source": [
    "# Democrats Top 15 Words with custom politics stop words\n",
    "cons_wordcount = pd.DataFrame(word_counter(cons_df,new_politics_english_stop_list), columns=[\"Frequency\"])\n",
    "\n",
    "# Visualization\n",
    "politics_top15 = cons_wordcount.head(15)\n",
    "politics_top15.sort_values('Frequency',ascending=True).plot(kind = \"barh\")\n",
    "plt.title(\"Top 15 Words in Republican subreddit v4\")\n",
    "plt.xlabel(\"Frequency (Count)\")\n",
    "plt.show()"
   ]
  },
  {
   "cell_type": "code",
   "execution_count": 97,
   "metadata": {
    "ExecuteTime": {
     "end_time": "2019-07-07T19:39:47.107822Z",
     "start_time": "2019-07-07T19:39:47.068233Z"
    }
   },
   "outputs": [
    {
     "data": {
      "text/html": [
       "<div>\n",
       "<style scoped>\n",
       "    .dataframe tbody tr th:only-of-type {\n",
       "        vertical-align: middle;\n",
       "    }\n",
       "\n",
       "    .dataframe tbody tr th {\n",
       "        vertical-align: top;\n",
       "    }\n",
       "\n",
       "    .dataframe thead th {\n",
       "        text-align: right;\n",
       "    }\n",
       "</style>\n",
       "<table border=\"1\" class=\"dataframe\">\n",
       "  <thead>\n",
       "    <tr style=\"text-align: right;\">\n",
       "      <th></th>\n",
       "      <th>ID</th>\n",
       "      <th>Length of Title</th>\n",
       "      <th>Post Text</th>\n",
       "      <th>Subreddit</th>\n",
       "    </tr>\n",
       "  </thead>\n",
       "  <tbody>\n",
       "    <tr>\n",
       "      <th>0</th>\n",
       "      <td>t3_bu8owc</td>\n",
       "      <td>63</td>\n",
       "      <td>Research Confirms It: Weak Men Are More Likely...</td>\n",
       "      <td>0</td>\n",
       "    </tr>\n",
       "    <tr>\n",
       "      <th>1</th>\n",
       "      <td>t3_c926ee</td>\n",
       "      <td>60</td>\n",
       "      <td>The 3 Big Differences Between Conservatives an...</td>\n",
       "      <td>0</td>\n",
       "    </tr>\n",
       "    <tr>\n",
       "      <th>2</th>\n",
       "      <td>t3_c9upog</td>\n",
       "      <td>273</td>\n",
       "      <td>It's time for trump to do more than lip Servic...</td>\n",
       "      <td>0</td>\n",
       "    </tr>\n",
       "    <tr>\n",
       "      <th>3</th>\n",
       "      <td>t3_c9lci0</td>\n",
       "      <td>65</td>\n",
       "      <td>Koch Groups Renew Push to Reform ‘Broken’ U.S....</td>\n",
       "      <td>0</td>\n",
       "    </tr>\n",
       "    <tr>\n",
       "      <th>4</th>\n",
       "      <td>t3_c9i6zr</td>\n",
       "      <td>95</td>\n",
       "      <td>30 people have been shot in Chicago since the ...</td>\n",
       "      <td>0</td>\n",
       "    </tr>\n",
       "    <tr>\n",
       "      <th>5</th>\n",
       "      <td>t3_c9f8m4</td>\n",
       "      <td>45</td>\n",
       "      <td>Bill Weld: Trump believes he is above the law\\n</td>\n",
       "      <td>0</td>\n",
       "    </tr>\n",
       "    <tr>\n",
       "      <th>6</th>\n",
       "      <td>t3_c9cukg</td>\n",
       "      <td>153</td>\n",
       "      <td>It is a huge setup, it is a framed cloth/canva...</td>\n",
       "      <td>0</td>\n",
       "    </tr>\n",
       "    <tr>\n",
       "      <th>7</th>\n",
       "      <td>t3_c8mrt1</td>\n",
       "      <td>38</td>\n",
       "      <td>Democrats Flip-Flop On Border Security\\n</td>\n",
       "      <td>0</td>\n",
       "    </tr>\n",
       "    <tr>\n",
       "      <th>8</th>\n",
       "      <td>t3_c8pptb</td>\n",
       "      <td>20</td>\n",
       "      <td>Mission Accomplished\\n</td>\n",
       "      <td>0</td>\n",
       "    </tr>\n",
       "    <tr>\n",
       "      <th>9</th>\n",
       "      <td>t3_c8jxfv</td>\n",
       "      <td>23</td>\n",
       "      <td>Happy Independence Week\\n</td>\n",
       "      <td>0</td>\n",
       "    </tr>\n",
       "    <tr>\n",
       "      <th>10</th>\n",
       "      <td>t3_c8bdsj</td>\n",
       "      <td>110</td>\n",
       "      <td>Conservatives give out free hugs at Pride Para...</td>\n",
       "      <td>0</td>\n",
       "    </tr>\n",
       "    <tr>\n",
       "      <th>11</th>\n",
       "      <td>t3_c8jkpi</td>\n",
       "      <td>75</td>\n",
       "      <td>The Supreme Court Draws a Line on Partisan Ger...</td>\n",
       "      <td>0</td>\n",
       "    </tr>\n",
       "    <tr>\n",
       "      <th>12</th>\n",
       "      <td>t3_c8jcqu</td>\n",
       "      <td>24</td>\n",
       "      <td>Happy Independence Week!\\n</td>\n",
       "      <td>0</td>\n",
       "    </tr>\n",
       "    <tr>\n",
       "      <th>13</th>\n",
       "      <td>t3_c8jq69</td>\n",
       "      <td>24</td>\n",
       "      <td>Happy Independence Week!\\n</td>\n",
       "      <td>0</td>\n",
       "    </tr>\n",
       "    <tr>\n",
       "      <th>14</th>\n",
       "      <td>t3_c7y6at</td>\n",
       "      <td>39</td>\n",
       "      <td>Formulating The Perfect Slogan for 2020\\n</td>\n",
       "      <td>0</td>\n",
       "    </tr>\n",
       "    <tr>\n",
       "      <th>15</th>\n",
       "      <td>t3_c7k3u7</td>\n",
       "      <td>60</td>\n",
       "      <td>Republican challenger Weld talks trout, Trump ...</td>\n",
       "      <td>0</td>\n",
       "    </tr>\n",
       "    <tr>\n",
       "      <th>16</th>\n",
       "      <td>t3_c6qa95</td>\n",
       "      <td>15</td>\n",
       "      <td>... Waitress?!?\\n</td>\n",
       "      <td>0</td>\n",
       "    </tr>\n",
       "    <tr>\n",
       "      <th>17</th>\n",
       "      <td>t3_c6ps3e</td>\n",
       "      <td>59</td>\n",
       "      <td>Something tells me this wouldn't be the first ...</td>\n",
       "      <td>0</td>\n",
       "    </tr>\n",
       "    <tr>\n",
       "      <th>18</th>\n",
       "      <td>t3_c6q9vn</td>\n",
       "      <td>38</td>\n",
       "      <td>Mueller Set To Testify Before Congress\\n</td>\n",
       "      <td>0</td>\n",
       "    </tr>\n",
       "    <tr>\n",
       "      <th>19</th>\n",
       "      <td>t3_c5blad</td>\n",
       "      <td>87</td>\n",
       "      <td>Nikki Haley blasts Roy Moore's Senate bid: 'He...</td>\n",
       "      <td>0</td>\n",
       "    </tr>\n",
       "    <tr>\n",
       "      <th>20</th>\n",
       "      <td>t3_c4zhns</td>\n",
       "      <td>60</td>\n",
       "      <td>VETS &amp;amp; MINORITIES for TRUMP 2020 Rally | L...</td>\n",
       "      <td>0</td>\n",
       "    </tr>\n",
       "    <tr>\n",
       "      <th>21</th>\n",
       "      <td>t3_c4a2y5</td>\n",
       "      <td>74</td>\n",
       "      <td>Trump dismisses UN request for FBI to investig...</td>\n",
       "      <td>0</td>\n",
       "    </tr>\n",
       "    <tr>\n",
       "      <th>22</th>\n",
       "      <td>t3_c4cs6v</td>\n",
       "      <td>106</td>\n",
       "      <td>Please consider signing this CitisenGO petitio...</td>\n",
       "      <td>0</td>\n",
       "    </tr>\n",
       "    <tr>\n",
       "      <th>23</th>\n",
       "      <td>t3_c3ypsh</td>\n",
       "      <td>63</td>\n",
       "      <td>Migrant Crisis at Border: How Central America ...</td>\n",
       "      <td>0</td>\n",
       "    </tr>\n",
       "    <tr>\n",
       "      <th>24</th>\n",
       "      <td>t3_c3so4t</td>\n",
       "      <td>48</td>\n",
       "      <td>US unveils $50 billion Palestinian economic pl...</td>\n",
       "      <td>0</td>\n",
       "    </tr>\n",
       "    <tr>\n",
       "      <th>25</th>\n",
       "      <td>t3_c32qa9</td>\n",
       "      <td>67</td>\n",
       "      <td>‘This place has enough creepy old men’: GOP vo...</td>\n",
       "      <td>0</td>\n",
       "    </tr>\n",
       "    <tr>\n",
       "      <th>26</th>\n",
       "      <td>t3_c356a3</td>\n",
       "      <td>58</td>\n",
       "      <td>GOP Pres. Candidate Bill Weld endorses impeach...</td>\n",
       "      <td>0</td>\n",
       "    </tr>\n",
       "    <tr>\n",
       "      <th>27</th>\n",
       "      <td>t3_c2ztpw</td>\n",
       "      <td>81</td>\n",
       "      <td>Emails show FBI's mad scramble to correct Jame...</td>\n",
       "      <td>0</td>\n",
       "    </tr>\n",
       "    <tr>\n",
       "      <th>28</th>\n",
       "      <td>t3_c32lik</td>\n",
       "      <td>106</td>\n",
       "      <td>FNC's Carlson: 'Conservatives Might Want to Pa...</td>\n",
       "      <td>0</td>\n",
       "    </tr>\n",
       "    <tr>\n",
       "      <th>29</th>\n",
       "      <td>t3_c2a2sk</td>\n",
       "      <td>55</td>\n",
       "      <td>McConnell on reparations for slavery: Not a 'g...</td>\n",
       "      <td>0</td>\n",
       "    </tr>\n",
       "    <tr>\n",
       "      <th>30</th>\n",
       "      <td>t3_c248bh</td>\n",
       "      <td>98</td>\n",
       "      <td>State Department identifies 23 violations, 'mu...</td>\n",
       "      <td>0</td>\n",
       "    </tr>\n",
       "    <tr>\n",
       "      <th>31</th>\n",
       "      <td>t3_c24hi8</td>\n",
       "      <td>63</td>\n",
       "      <td>Dad of Sandy Hook victim wins suit against con...</td>\n",
       "      <td>0</td>\n",
       "    </tr>\n",
       "    <tr>\n",
       "      <th>32</th>\n",
       "      <td>t3_c250ou</td>\n",
       "      <td>82</td>\n",
       "      <td>Exclusive: Pompeo blocks inclusion of Saudis o...</td>\n",
       "      <td>0</td>\n",
       "    </tr>\n",
       "    <tr>\n",
       "      <th>33</th>\n",
       "      <td>t3_c297mi</td>\n",
       "      <td>63</td>\n",
       "      <td>The Evangelical, the ‘Pool Boy,’ the Comedian ...</td>\n",
       "      <td>0</td>\n",
       "    </tr>\n",
       "    <tr>\n",
       "      <th>34</th>\n",
       "      <td>t3_c1q3if</td>\n",
       "      <td>44</td>\n",
       "      <td>Congressional Solutions To the Asylum Crisis\\n</td>\n",
       "      <td>0</td>\n",
       "    </tr>\n",
       "  </tbody>\n",
       "</table>\n",
       "</div>"
      ],
      "text/plain": [
       "           ID  Length of Title  \\\n",
       "0   t3_bu8owc               63   \n",
       "1   t3_c926ee               60   \n",
       "2   t3_c9upog              273   \n",
       "3   t3_c9lci0               65   \n",
       "4   t3_c9i6zr               95   \n",
       "5   t3_c9f8m4               45   \n",
       "6   t3_c9cukg              153   \n",
       "7   t3_c8mrt1               38   \n",
       "8   t3_c8pptb               20   \n",
       "9   t3_c8jxfv               23   \n",
       "10  t3_c8bdsj              110   \n",
       "11  t3_c8jkpi               75   \n",
       "12  t3_c8jcqu               24   \n",
       "13  t3_c8jq69               24   \n",
       "14  t3_c7y6at               39   \n",
       "15  t3_c7k3u7               60   \n",
       "16  t3_c6qa95               15   \n",
       "17  t3_c6ps3e               59   \n",
       "18  t3_c6q9vn               38   \n",
       "19  t3_c5blad               87   \n",
       "20  t3_c4zhns               60   \n",
       "21  t3_c4a2y5               74   \n",
       "22  t3_c4cs6v              106   \n",
       "23  t3_c3ypsh               63   \n",
       "24  t3_c3so4t               48   \n",
       "25  t3_c32qa9               67   \n",
       "26  t3_c356a3               58   \n",
       "27  t3_c2ztpw               81   \n",
       "28  t3_c32lik              106   \n",
       "29  t3_c2a2sk               55   \n",
       "30  t3_c248bh               98   \n",
       "31  t3_c24hi8               63   \n",
       "32  t3_c250ou               82   \n",
       "33  t3_c297mi               63   \n",
       "34  t3_c1q3if               44   \n",
       "\n",
       "                                            Post Text  Subreddit  \n",
       "0   Research Confirms It: Weak Men Are More Likely...          0  \n",
       "1   The 3 Big Differences Between Conservatives an...          0  \n",
       "2   It's time for trump to do more than lip Servic...          0  \n",
       "3   Koch Groups Renew Push to Reform ‘Broken’ U.S....          0  \n",
       "4   30 people have been shot in Chicago since the ...          0  \n",
       "5     Bill Weld: Trump believes he is above the law\\n          0  \n",
       "6   It is a huge setup, it is a framed cloth/canva...          0  \n",
       "7            Democrats Flip-Flop On Border Security\\n          0  \n",
       "8                              Mission Accomplished\\n          0  \n",
       "9                           Happy Independence Week\\n          0  \n",
       "10  Conservatives give out free hugs at Pride Para...          0  \n",
       "11  The Supreme Court Draws a Line on Partisan Ger...          0  \n",
       "12                         Happy Independence Week!\\n          0  \n",
       "13                         Happy Independence Week!\\n          0  \n",
       "14          Formulating The Perfect Slogan for 2020\\n          0  \n",
       "15  Republican challenger Weld talks trout, Trump ...          0  \n",
       "16                                  ... Waitress?!?\\n          0  \n",
       "17  Something tells me this wouldn't be the first ...          0  \n",
       "18           Mueller Set To Testify Before Congress\\n          0  \n",
       "19  Nikki Haley blasts Roy Moore's Senate bid: 'He...          0  \n",
       "20  VETS &amp; MINORITIES for TRUMP 2020 Rally | L...          0  \n",
       "21  Trump dismisses UN request for FBI to investig...          0  \n",
       "22  Please consider signing this CitisenGO petitio...          0  \n",
       "23  Migrant Crisis at Border: How Central America ...          0  \n",
       "24  US unveils $50 billion Palestinian economic pl...          0  \n",
       "25  ‘This place has enough creepy old men’: GOP vo...          0  \n",
       "26  GOP Pres. Candidate Bill Weld endorses impeach...          0  \n",
       "27  Emails show FBI's mad scramble to correct Jame...          0  \n",
       "28  FNC's Carlson: 'Conservatives Might Want to Pa...          0  \n",
       "29  McConnell on reparations for slavery: Not a 'g...          0  \n",
       "30  State Department identifies 23 violations, 'mu...          0  \n",
       "31  Dad of Sandy Hook victim wins suit against con...          0  \n",
       "32  Exclusive: Pompeo blocks inclusion of Saudis o...          0  \n",
       "33  The Evangelical, the ‘Pool Boy,’ the Comedian ...          0  \n",
       "34     Congressional Solutions To the Asylum Crisis\\n          0  "
      ]
     },
     "execution_count": 97,
     "metadata": {},
     "output_type": "execute_result"
    }
   ],
   "source": [
    "master_df.head(35)"
   ]
  },
  {
   "cell_type": "code",
   "execution_count": 98,
   "metadata": {
    "ExecuteTime": {
     "end_time": "2019-07-07T19:39:47.143787Z",
     "start_time": "2019-07-07T19:39:47.113789Z"
    }
   },
   "outputs": [],
   "source": [
    "master_df.to_csv('./data/master_df.csv', index=False)"
   ]
  },
  {
   "cell_type": "markdown",
   "metadata": {},
   "source": [
    "## Continue to Part 2\n",
    "### Please exit notebook and open appropriately titled .ipynb file"
   ]
  }
 ],
 "metadata": {
  "kernelspec": {
   "display_name": "Python 3",
   "language": "python",
   "name": "python3"
  },
  "language_info": {
   "codemirror_mode": {
    "name": "ipython",
    "version": 3
   },
   "file_extension": ".py",
   "mimetype": "text/x-python",
   "name": "python",
   "nbconvert_exporter": "python",
   "pygments_lexer": "ipython3",
   "version": "3.7.1"
  },
  "latex_envs": {
   "LaTeX_envs_menu_present": true,
   "autoclose": true,
   "autocomplete": true,
   "bibliofile": "biblio.bib",
   "cite_by": "apalike",
   "current_citInitial": 1,
   "eqLabelWithNumbers": true,
   "eqNumInitial": 1,
   "hotkeys": {
    "equation": "Ctrl-E",
    "itemize": "Ctrl-I"
   },
   "labels_anchors": false,
   "latex_user_defs": false,
   "report_style_numbering": false,
   "user_envs_cfg": false
  },
  "toc": {
   "base_numbering": 1,
   "nav_menu": {},
   "number_sections": true,
   "sideBar": true,
   "skip_h1_title": false,
   "title_cell": "Table of Contents",
   "title_sidebar": "Contents",
   "toc_cell": false,
   "toc_position": {},
   "toc_section_display": true,
   "toc_window_display": false
  }
 },
 "nbformat": 4,
 "nbformat_minor": 2
}
