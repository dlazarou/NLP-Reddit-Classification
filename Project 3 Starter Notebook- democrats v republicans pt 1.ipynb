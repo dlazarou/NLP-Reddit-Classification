{
 "cells": [
  {
   "cell_type": "markdown",
   "metadata": {},
   "source": [
    "\n",
    "# Utilizing NLP to Classify Political Subreddits (Democrats vs Republicans)\n",
    "## Content List- Part 1"
   ]
  },
  {
   "cell_type": "markdown",
   "metadata": {},
   "source": [
    "- [Problem Statement](#Problem-Statement)\n",
    "- [Executive Summary](#Executive-Summary)\n",
    "- [Data Collection](#Data-Collection)\n",
    "- [Data Cleaning and EDA](#Data-Cleaning-and-EDA)"
   ]
  },
  {
   "cell_type": "markdown",
   "metadata": {},
   "source": [
    "## Problem Statement\n",
    "\n",
    "What patterns exist in online text that we can extract, analyze and use to refine online business models? I will be utilizing Natural Language Processing (NLP) to determine whether the author would be closer aligned to the Democratic or Conservative parties, by analyzing /r/Democrats and /r/Conservative on Reddit. \n",
    "The goal will be to build and test an assortment of classification models that can predict whether the author is more likely to hold conservative or liberal views, so that we can advise an online advertiser which ads to run for which audiences.\n"
   ]
  },
  {
   "cell_type": "markdown",
   "metadata": {},
   "source": [
    "## Executive Summary"
   ]
  },
  {
   "cell_type": "markdown",
   "metadata": {},
   "source": [
    "Part 1 of this project focuses on the data gathering, wrangling, cleaning and processing from \"Natural Language\" to something that computers can interpret and model, specifically numerical values. \n",
    "\n",
    "The source of our data is one of the current most popular websites for conversations, discussions and arguments on the internet, none other than www.Reddit.com. Home to over 26 Million monthly users, 850,000 subreddits and 18 billion monthly pageviews, Reddit is one of the premier locations on the internet for distribution, manipulation and consumption of data. What better way for us to test a model's ability to classify input into discrete classes than the hotbed of online discussion itself?\n",
    "\n",
    "In our efforts to classify the text, we will be combining the text from the title as well as the body of the post in order to maximize our analytical process' capacity. This will provide a larger corpus for each post, which will result in a largely and hopefully more robust corpora to train our algorithm. In comparing the subreddits by the numbers, r/Democrats has less subscribers with 91k as compared to /r/Conservative’s 205k, but how do their word usages stack up?\n",
    "\n",
    "We begin by utilizing the Reddit API to scrape the information from two politically themed subreddits: /r/Democrats and /r/Republicans. In total, we will attempt to pull 1000 posts per subreddit for a total of 2000, but understand that we may fall short due to duplicates or issues with the API's limits. \n",
    "\n",
    "After reading in the data, we ensure there are no duplicate posts, we utilize the Pandas library to convert all title and post text dictionaries into dataframes where the text and subreddit location are included, but the subreddit itself is binarized in order to make it feasible for our model to understand. \n",
    "\n",
    "Our dataset is then split up into train and test partitions before being fed into a series of models in order to determine the most apt model for our use. The vectorizers that we will employ in order to tokenize the words and additionally clean the text are: CountVectorizer as well as TF-IDF Vectorizer. Although similar to CountVectorizer, TF-IDF is being utilized due to the vectorizer's purpose in controlling the frequency of terms across documents and datasets alike, introducing penalties for reoccuring words. This will help us in our attempts to understand the online text that we have scraped.\n",
    "\n",
    "For the model selection, we have many at our disposal but will be utilizing the following: LogisticRegression, MultinomialNaiveBayes, RandomForest and finally AdaBoost. These are models that are adept at classification problems in which we are seeking to understand if something is one of two possibilities, with success being measured in Accuracy.\n",
    "\n",
    "Before getting to the modeling however, we will save the dataframe to a .csv file, in order to lower the potential for needing to rescrape the data and subsequently starting over on the analytical process. Part 2 of this Notebook will pick up from where the end of Part 1 leaves off, with importing the newly formed .csv files and proceeding as planned."
   ]
  },
  {
   "cell_type": "markdown",
   "metadata": {},
   "source": [
    "## Data Collection"
   ]
  },
  {
   "cell_type": "markdown",
   "metadata": {},
   "source": [
    "#### Import libraries"
   ]
  },
  {
   "cell_type": "code",
   "execution_count": 1,
   "metadata": {},
   "outputs": [],
   "source": [
    "import matplotlib.pyplot as plt\n",
    "\n",
    "from nltk.stem import WordNetLemmatizer\n",
    "import warnings\n",
    "warnings.filterwarnings('ignore')\n",
    "import requests\n",
    "import time\n",
    "import numpy as np\n",
    "import pandas as pd"
   ]
  },
  {
   "cell_type": "code",
   "execution_count": 2,
   "metadata": {},
   "outputs": [],
   "source": [
    "# Define URL and username\n",
    "url_democrats = \"https://www.reddit.com/r/Democrats/.json\" # change subreddit here\n",
    "url_conservative = \"https://www.reddit.com/r/Conservative/.json\"\n",
    "username = {\"User-agent\": 'omgitsjonnn'}      # header to prevent 429 error```"
   ]
  },
  {
   "cell_type": "code",
   "execution_count": 3,
   "metadata": {},
   "outputs": [],
   "source": [
    "# Function to pull subreddit posts\n",
    "def get_subreddit(url, n_pulls, headers):    \n",
    "\n",
    "    # Create empty templates\n",
    "    posts = []\n",
    "    after = None\n",
    "    duplicates = []\n",
    "    # Create a loop that does max 25 requests per pull\n",
    "    for pull_num in range(n_pulls):\n",
    "        print(\"Pulling data attempted\", pull_num+1,\"time(s)\")\n",
    "\n",
    "        if after == None:\n",
    "            new_url = url                 # base case\n",
    "        else:\n",
    "            new_url = url+\"?after=\"+after # subsequent iterations\n",
    "\n",
    "        res = requests.get(new_url, headers=headers)\n",
    "\n",
    "        if res.status_code == 200:\n",
    "            subreddit_json = res.json()                      # Pull JSON\n",
    "            posts.extend(subreddit_json['data']['children']) # Get subreddit posts\n",
    "            after = subreddit_json['data']['after']          # 'after' = ID of the last post in this iteration\n",
    "        else:\n",
    "            print(\"We've run into an error. The status code is:\", res.status_code)\n",
    "            break\n",
    "\n",
    "        time.sleep(1)\n",
    "        \n",
    "    return(posts)\n"
   ]
  },
  {
   "cell_type": "code",
   "execution_count": 4,
   "metadata": {},
   "outputs": [
    {
     "name": "stdout",
     "output_type": "stream",
     "text": [
      "Pulling data attempted 1 time(s)\n",
      "Pulling data attempted 2 time(s)\n",
      "Pulling data attempted 3 time(s)\n",
      "Pulling data attempted 4 time(s)\n",
      "Pulling data attempted 5 time(s)\n",
      "Pulling data attempted 6 time(s)\n",
      "Pulling data attempted 7 time(s)\n",
      "Pulling data attempted 8 time(s)\n",
      "Pulling data attempted 9 time(s)\n",
      "Pulling data attempted 10 time(s)\n",
      "Pulling data attempted 11 time(s)\n",
      "Pulling data attempted 12 time(s)\n",
      "Pulling data attempted 13 time(s)\n",
      "Pulling data attempted 14 time(s)\n",
      "Pulling data attempted 15 time(s)\n",
      "Pulling data attempted 16 time(s)\n",
      "Pulling data attempted 17 time(s)\n",
      "Pulling data attempted 18 time(s)\n",
      "Pulling data attempted 19 time(s)\n",
      "Pulling data attempted 20 time(s)\n",
      "Pulling data attempted 21 time(s)\n",
      "Pulling data attempted 22 time(s)\n",
      "Pulling data attempted 23 time(s)\n",
      "Pulling data attempted 24 time(s)\n",
      "Pulling data attempted 25 time(s)\n",
      "Pulling data attempted 26 time(s)\n",
      "Pulling data attempted 27 time(s)\n",
      "Pulling data attempted 28 time(s)\n",
      "Pulling data attempted 29 time(s)\n",
      "Pulling data attempted 30 time(s)\n",
      "Pulling data attempted 31 time(s)\n",
      "Pulling data attempted 32 time(s)\n",
      "Pulling data attempted 33 time(s)\n",
      "Pulling data attempted 34 time(s)\n",
      "Pulling data attempted 35 time(s)\n",
      "Pulling data attempted 36 time(s)\n",
      "Pulling data attempted 37 time(s)\n",
      "Pulling data attempted 38 time(s)\n",
      "Pulling data attempted 39 time(s)\n",
      "Pulling data attempted 40 time(s)\n",
      "Pulling data attempted 41 time(s)\n",
      "Pulling data attempted 42 time(s)\n",
      "Pulling data attempted 43 time(s)\n",
      "Pulling data attempted 44 time(s)\n",
      "Pulling data attempted 45 time(s)\n",
      "Pulling data attempted 46 time(s)\n",
      "Pulling data attempted 47 time(s)\n",
      "Pulling data attempted 48 time(s)\n",
      "Pulling data attempted 49 time(s)\n",
      "Pulling data attempted 50 time(s)\n"
     ]
    }
   ],
   "source": [
    "get_conservative = get_subreddit(url_conservative, n_pulls = 50, headers= username)"
   ]
  },
  {
   "cell_type": "code",
   "execution_count": 5,
   "metadata": {
    "scrolled": false
   },
   "outputs": [
    {
     "name": "stdout",
     "output_type": "stream",
     "text": [
      "Pulling data attempted 1 time(s)\n",
      "Pulling data attempted 2 time(s)\n",
      "Pulling data attempted 3 time(s)\n",
      "Pulling data attempted 4 time(s)\n",
      "Pulling data attempted 5 time(s)\n",
      "Pulling data attempted 6 time(s)\n",
      "Pulling data attempted 7 time(s)\n",
      "Pulling data attempted 8 time(s)\n",
      "Pulling data attempted 9 time(s)\n",
      "Pulling data attempted 10 time(s)\n",
      "Pulling data attempted 11 time(s)\n",
      "Pulling data attempted 12 time(s)\n",
      "Pulling data attempted 13 time(s)\n",
      "Pulling data attempted 14 time(s)\n",
      "Pulling data attempted 15 time(s)\n",
      "Pulling data attempted 16 time(s)\n",
      "Pulling data attempted 17 time(s)\n",
      "Pulling data attempted 18 time(s)\n",
      "Pulling data attempted 19 time(s)\n",
      "Pulling data attempted 20 time(s)\n",
      "Pulling data attempted 21 time(s)\n",
      "Pulling data attempted 22 time(s)\n",
      "Pulling data attempted 23 time(s)\n",
      "Pulling data attempted 24 time(s)\n",
      "Pulling data attempted 25 time(s)\n",
      "Pulling data attempted 26 time(s)\n",
      "Pulling data attempted 27 time(s)\n",
      "Pulling data attempted 28 time(s)\n",
      "Pulling data attempted 29 time(s)\n",
      "Pulling data attempted 30 time(s)\n",
      "Pulling data attempted 31 time(s)\n",
      "Pulling data attempted 32 time(s)\n",
      "Pulling data attempted 33 time(s)\n",
      "Pulling data attempted 34 time(s)\n",
      "Pulling data attempted 35 time(s)\n",
      "Pulling data attempted 36 time(s)\n",
      "Pulling data attempted 37 time(s)\n",
      "Pulling data attempted 38 time(s)\n",
      "Pulling data attempted 39 time(s)\n",
      "Pulling data attempted 40 time(s)\n",
      "Pulling data attempted 41 time(s)\n",
      "Pulling data attempted 42 time(s)\n",
      "Pulling data attempted 43 time(s)\n",
      "Pulling data attempted 44 time(s)\n",
      "Pulling data attempted 45 time(s)\n",
      "Pulling data attempted 46 time(s)\n",
      "Pulling data attempted 47 time(s)\n",
      "Pulling data attempted 48 time(s)\n",
      "Pulling data attempted 49 time(s)\n",
      "Pulling data attempted 50 time(s)\n"
     ]
    }
   ],
   "source": [
    "# Call function to get democrats data\n",
    "get_democrats = get_subreddit(url_democrats, n_pulls = 50, headers = username)"
   ]
  },
  {
   "cell_type": "code",
   "execution_count": 12,
   "metadata": {
    "scrolled": true
   },
   "outputs": [
    {
     "data": {
      "text/plain": [
       "{'kind': 't3',\n",
       " 'data': {'approved_at_utc': None,\n",
       "  'subreddit': 'democrats',\n",
       "  'selftext': '',\n",
       "  'author_fullname': 't2_nkk56',\n",
       "  'saved': False,\n",
       "  'mod_reason_title': None,\n",
       "  'gilded': 0,\n",
       "  'clicked': False,\n",
       "  'title': 'Trump blocks three Florida congresswomen from visiting Homestead child detention center',\n",
       "  'link_flair_richtext': [],\n",
       "  'subreddit_name_prefixed': 'r/democrats',\n",
       "  'hidden': False,\n",
       "  'pwls': 6,\n",
       "  'link_flair_css_class': None,\n",
       "  'downs': 0,\n",
       "  'thumbnail_height': 78,\n",
       "  'hide_score': False,\n",
       "  'name': 't3_bagmbv',\n",
       "  'quarantine': False,\n",
       "  'link_flair_text_color': 'dark',\n",
       "  'author_flair_background_color': None,\n",
       "  'subreddit_type': 'public',\n",
       "  'ups': 526,\n",
       "  'domain': 'miamiherald.com',\n",
       "  'media_embed': {},\n",
       "  'thumbnail_width': 140,\n",
       "  'author_flair_template_id': None,\n",
       "  'is_original_content': False,\n",
       "  'user_reports': [],\n",
       "  'secure_media': None,\n",
       "  'is_reddit_media_domain': False,\n",
       "  'is_meta': False,\n",
       "  'category': None,\n",
       "  'secure_media_embed': {},\n",
       "  'link_flair_text': None,\n",
       "  'can_mod_post': False,\n",
       "  'score': 526,\n",
       "  'approved_by': None,\n",
       "  'thumbnail': 'https://b.thumbs.redditmedia.com/KrTeWTxBaKh5WRHwTimq29VowQkubt9MkXW7GAYdD4E.jpg',\n",
       "  'edited': False,\n",
       "  'author_flair_css_class': None,\n",
       "  'author_flair_richtext': [],\n",
       "  'gildings': {'gid_1': 0, 'gid_2': 0, 'gid_3': 0},\n",
       "  'post_hint': 'link',\n",
       "  'content_categories': None,\n",
       "  'is_self': False,\n",
       "  'mod_note': None,\n",
       "  'created': 1554646364.0,\n",
       "  'link_flair_type': 'text',\n",
       "  'wls': 6,\n",
       "  'banned_by': None,\n",
       "  'author_flair_type': 'text',\n",
       "  'contest_mode': False,\n",
       "  'selftext_html': None,\n",
       "  'likes': None,\n",
       "  'suggested_sort': None,\n",
       "  'banned_at_utc': None,\n",
       "  'view_count': None,\n",
       "  'archived': False,\n",
       "  'no_follow': False,\n",
       "  'is_crosspostable': False,\n",
       "  'pinned': False,\n",
       "  'over_18': False,\n",
       "  'preview': {'images': [{'source': {'url': 'https://external-preview.redd.it/CLyX4mGRsTvkuKe4FG1Hvdsu8LKNXV7rK6AvI0uiP9Y.jpg?auto=webp&amp;s=bb878c4232562bdcddcd4707015c6ac939052e45',\n",
       "      'width': 1140,\n",
       "      'height': 641},\n",
       "     'resolutions': [{'url': 'https://external-preview.redd.it/CLyX4mGRsTvkuKe4FG1Hvdsu8LKNXV7rK6AvI0uiP9Y.jpg?width=108&amp;crop=smart&amp;auto=webp&amp;s=5c0503032519104f9c2c0e11d10386268033e705',\n",
       "       'width': 108,\n",
       "       'height': 60},\n",
       "      {'url': 'https://external-preview.redd.it/CLyX4mGRsTvkuKe4FG1Hvdsu8LKNXV7rK6AvI0uiP9Y.jpg?width=216&amp;crop=smart&amp;auto=webp&amp;s=40b5d78e3b281265f9932069c0abe0cc6afc6690',\n",
       "       'width': 216,\n",
       "       'height': 121},\n",
       "      {'url': 'https://external-preview.redd.it/CLyX4mGRsTvkuKe4FG1Hvdsu8LKNXV7rK6AvI0uiP9Y.jpg?width=320&amp;crop=smart&amp;auto=webp&amp;s=1d23c94fe73c1d56a3340fa895aa84034f25d494',\n",
       "       'width': 320,\n",
       "       'height': 179},\n",
       "      {'url': 'https://external-preview.redd.it/CLyX4mGRsTvkuKe4FG1Hvdsu8LKNXV7rK6AvI0uiP9Y.jpg?width=640&amp;crop=smart&amp;auto=webp&amp;s=2140fbbd61f3c9f187954040afb893b71495d1da',\n",
       "       'width': 640,\n",
       "       'height': 359},\n",
       "      {'url': 'https://external-preview.redd.it/CLyX4mGRsTvkuKe4FG1Hvdsu8LKNXV7rK6AvI0uiP9Y.jpg?width=960&amp;crop=smart&amp;auto=webp&amp;s=393fa80f5a5149c9fcff227e211fb91022ac6b4d',\n",
       "       'width': 960,\n",
       "       'height': 539},\n",
       "      {'url': 'https://external-preview.redd.it/CLyX4mGRsTvkuKe4FG1Hvdsu8LKNXV7rK6AvI0uiP9Y.jpg?width=1080&amp;crop=smart&amp;auto=webp&amp;s=7fbeab1c3f4daaf1f767dde8ff615378e82ba00c',\n",
       "       'width': 1080,\n",
       "       'height': 607}],\n",
       "     'variants': {},\n",
       "     'id': '0ykeglkjHdqvSHUSkBd3fydB6XJpAJonB-EVzf3MhNQ'}],\n",
       "   'enabled': False},\n",
       "  'media_only': False,\n",
       "  'can_gild': False,\n",
       "  'spoiler': False,\n",
       "  'locked': False,\n",
       "  'author_flair_text': None,\n",
       "  'visited': False,\n",
       "  'num_reports': None,\n",
       "  'distinguished': None,\n",
       "  'subreddit_id': 't5_2qn70',\n",
       "  'mod_reason_by': None,\n",
       "  'removal_reason': None,\n",
       "  'link_flair_background_color': '',\n",
       "  'id': 'bagmbv',\n",
       "  'is_robot_indexable': True,\n",
       "  'report_reasons': None,\n",
       "  'author': 'progress18',\n",
       "  'num_crossposts': 0,\n",
       "  'num_comments': 23,\n",
       "  'send_replies': False,\n",
       "  'whitelist_status': 'all_ads',\n",
       "  'mod_reports': [],\n",
       "  'author_patreon_flair': False,\n",
       "  'author_flair_text_color': None,\n",
       "  'permalink': '/r/democrats/comments/bagmbv/trump_blocks_three_florida_congresswomen_from/',\n",
       "  'parent_whitelist_status': 'all_ads',\n",
       "  'stickied': False,\n",
       "  'url': 'https://www.miamiherald.com/news/local/immigration/article228933679.html',\n",
       "  'subreddit_subscribers': 91414,\n",
       "  'created_utc': 1554646364.0,\n",
       "  'media': None,\n",
       "  'is_video': False}}"
      ]
     },
     "execution_count": 12,
     "metadata": {},
     "output_type": "execute_result"
    }
   ],
   "source": [
    "# choosing what information we should be extracting for our analysis\n",
    "get_democrats[1]"
   ]
  },
  {
   "cell_type": "code",
   "execution_count": 13,
   "metadata": {},
   "outputs": [
    {
     "data": {
      "text/plain": [
       "'t3_baf5b7'"
      ]
     },
     "execution_count": 13,
     "metadata": {},
     "output_type": "execute_result"
    }
   ],
   "source": [
    "#displaying the unique identifier that we will use to differentiate posts\n",
    "get_conservative[1]['data']['name']"
   ]
  },
  {
   "cell_type": "code",
   "execution_count": 14,
   "metadata": {},
   "outputs": [],
   "source": [
    "#build a function to automatically convert the data from post lists to df\n",
    "def df_posts(post_list):\n",
    "    post_titles = []\n",
    "    dupes = []\n",
    "    \n",
    "    for i in range(len(post_list)):\n",
    "        if post_list[i]['data']['name'] in dupes:\n",
    "            pass\n",
    "        else:\n",
    "            title_dict = {}\n",
    "            if type(post_list[i]['data']['selftext']) == str:\n",
    "                title_dict['Post Text']= post_list[i]['data']['title'] + '\\n' + post_list[i]['data']['selftext']\n",
    "            \n",
    "            else:\n",
    "                title_dict['Post Text'] = post_list[i]['data']['title']\n",
    "            title_dict['Subreddit'] = post_list[i]['data']['subreddit']\n",
    "            title_dict['Length of Title'] = len(post_list[i]['data']['title'])\n",
    "            title_dict['ID'] = post_list[i]['data']['name']\n",
    "            post_titles.append(title_dict)\n",
    "            dupes.append(post_list[i]['data']['name'])\n",
    "\n",
    "    return pd.DataFrame(post_titles)"
   ]
  },
  {
   "cell_type": "code",
   "execution_count": 15,
   "metadata": {},
   "outputs": [
    {
     "data": {
      "text/html": [
       "<div>\n",
       "<style scoped>\n",
       "    .dataframe tbody tr th:only-of-type {\n",
       "        vertical-align: middle;\n",
       "    }\n",
       "\n",
       "    .dataframe tbody tr th {\n",
       "        vertical-align: top;\n",
       "    }\n",
       "\n",
       "    .dataframe thead th {\n",
       "        text-align: right;\n",
       "    }\n",
       "</style>\n",
       "<table border=\"1\" class=\"dataframe\">\n",
       "  <thead>\n",
       "    <tr style=\"text-align: right;\">\n",
       "      <th></th>\n",
       "      <th>ID</th>\n",
       "      <th>Length of Title</th>\n",
       "      <th>Post Text</th>\n",
       "      <th>Subreddit</th>\n",
       "    </tr>\n",
       "  </thead>\n",
       "  <tbody>\n",
       "    <tr>\n",
       "      <th>0</th>\n",
       "      <td>t3_bal6v7</td>\n",
       "      <td>214</td>\n",
       "      <td>William Barr’s stunt has backfired: Barr has s...</td>\n",
       "      <td>democrats</td>\n",
       "    </tr>\n",
       "    <tr>\n",
       "      <th>1</th>\n",
       "      <td>t3_bagmbv</td>\n",
       "      <td>87</td>\n",
       "      <td>Trump blocks three Florida congresswomen from ...</td>\n",
       "      <td>democrats</td>\n",
       "    </tr>\n",
       "    <tr>\n",
       "      <th>2</th>\n",
       "      <td>t3_balovh</td>\n",
       "      <td>241</td>\n",
       "      <td>The U.S. Is Tracking Migrant Girls' Periods to...</td>\n",
       "      <td>democrats</td>\n",
       "    </tr>\n",
       "    <tr>\n",
       "      <th>3</th>\n",
       "      <td>t3_bah81y</td>\n",
       "      <td>83</td>\n",
       "      <td>The majority of Americans tend to agree with D...</td>\n",
       "      <td>democrats</td>\n",
       "    </tr>\n",
       "    <tr>\n",
       "      <th>4</th>\n",
       "      <td>t3_bag1p5</td>\n",
       "      <td>68</td>\n",
       "      <td>Fourth person in six months dies in ICE immigr...</td>\n",
       "      <td>democrats</td>\n",
       "    </tr>\n",
       "  </tbody>\n",
       "</table>\n",
       "</div>"
      ],
      "text/plain": [
       "          ID  Length of Title  \\\n",
       "0  t3_bal6v7              214   \n",
       "1  t3_bagmbv               87   \n",
       "2  t3_balovh              241   \n",
       "3  t3_bah81y               83   \n",
       "4  t3_bag1p5               68   \n",
       "\n",
       "                                           Post Text  Subreddit  \n",
       "0  William Barr’s stunt has backfired: Barr has s...  democrats  \n",
       "1  Trump blocks three Florida congresswomen from ...  democrats  \n",
       "2  The U.S. Is Tracking Migrant Girls' Periods to...  democrats  \n",
       "3  The majority of Americans tend to agree with D...  democrats  \n",
       "4  Fourth person in six months dies in ICE immigr...  democrats  "
      ]
     },
     "execution_count": 15,
     "metadata": {},
     "output_type": "execute_result"
    }
   ],
   "source": [
    "#convert the list of democrat posts to a dataframe\n",
    "dem_df = df_posts(get_democrats)\n",
    "dem_df.head()"
   ]
  },
  {
   "cell_type": "code",
   "execution_count": 16,
   "metadata": {},
   "outputs": [
    {
     "data": {
      "text/plain": [
       "(787, 4)"
      ]
     },
     "execution_count": 16,
     "metadata": {},
     "output_type": "execute_result"
    }
   ],
   "source": [
    "#convert the list of conservative posts to a dataframe\n",
    "cons_df = df_posts(get_conservative)\n",
    "cons_df.shape"
   ]
  },
  {
   "cell_type": "code",
   "execution_count": 17,
   "metadata": {
    "scrolled": true
   },
   "outputs": [
    {
     "data": {
      "text/html": [
       "<div>\n",
       "<style scoped>\n",
       "    .dataframe tbody tr th:only-of-type {\n",
       "        vertical-align: middle;\n",
       "    }\n",
       "\n",
       "    .dataframe tbody tr th {\n",
       "        vertical-align: top;\n",
       "    }\n",
       "\n",
       "    .dataframe thead th {\n",
       "        text-align: right;\n",
       "    }\n",
       "</style>\n",
       "<table border=\"1\" class=\"dataframe\">\n",
       "  <thead>\n",
       "    <tr style=\"text-align: right;\">\n",
       "      <th></th>\n",
       "      <th>ID</th>\n",
       "      <th>Length of Title</th>\n",
       "      <th>Post Text</th>\n",
       "      <th>Subreddit</th>\n",
       "    </tr>\n",
       "  </thead>\n",
       "  <tbody>\n",
       "    <tr>\n",
       "      <th>0</th>\n",
       "      <td>t3_bal6v7</td>\n",
       "      <td>214</td>\n",
       "      <td>William Barr’s stunt has backfired: Barr has s...</td>\n",
       "      <td>democrats</td>\n",
       "    </tr>\n",
       "    <tr>\n",
       "      <th>1</th>\n",
       "      <td>t3_bagmbv</td>\n",
       "      <td>87</td>\n",
       "      <td>Trump blocks three Florida congresswomen from ...</td>\n",
       "      <td>democrats</td>\n",
       "    </tr>\n",
       "    <tr>\n",
       "      <th>2</th>\n",
       "      <td>t3_balovh</td>\n",
       "      <td>241</td>\n",
       "      <td>The U.S. Is Tracking Migrant Girls' Periods to...</td>\n",
       "      <td>democrats</td>\n",
       "    </tr>\n",
       "    <tr>\n",
       "      <th>3</th>\n",
       "      <td>t3_bah81y</td>\n",
       "      <td>83</td>\n",
       "      <td>The majority of Americans tend to agree with D...</td>\n",
       "      <td>democrats</td>\n",
       "    </tr>\n",
       "    <tr>\n",
       "      <th>4</th>\n",
       "      <td>t3_bag1p5</td>\n",
       "      <td>68</td>\n",
       "      <td>Fourth person in six months dies in ICE immigr...</td>\n",
       "      <td>democrats</td>\n",
       "    </tr>\n",
       "  </tbody>\n",
       "</table>\n",
       "</div>"
      ],
      "text/plain": [
       "          ID  Length of Title  \\\n",
       "0  t3_bal6v7              214   \n",
       "1  t3_bagmbv               87   \n",
       "2  t3_balovh              241   \n",
       "3  t3_bah81y               83   \n",
       "4  t3_bag1p5               68   \n",
       "\n",
       "                                           Post Text  Subreddit  \n",
       "0  William Barr’s stunt has backfired: Barr has s...  democrats  \n",
       "1  Trump blocks three Florida congresswomen from ...  democrats  \n",
       "2  The U.S. Is Tracking Migrant Girls' Periods to...  democrats  \n",
       "3  The majority of Americans tend to agree with D...  democrats  \n",
       "4  Fourth person in six months dies in ICE immigr...  democrats  "
      ]
     },
     "execution_count": 17,
     "metadata": {},
     "output_type": "execute_result"
    }
   ],
   "source": [
    "dem_df.head()"
   ]
  },
  {
   "cell_type": "code",
   "execution_count": 18,
   "metadata": {},
   "outputs": [
    {
     "data": {
      "text/html": [
       "<div>\n",
       "<style scoped>\n",
       "    .dataframe tbody tr th:only-of-type {\n",
       "        vertical-align: middle;\n",
       "    }\n",
       "\n",
       "    .dataframe tbody tr th {\n",
       "        vertical-align: top;\n",
       "    }\n",
       "\n",
       "    .dataframe thead th {\n",
       "        text-align: right;\n",
       "    }\n",
       "</style>\n",
       "<table border=\"1\" class=\"dataframe\">\n",
       "  <thead>\n",
       "    <tr style=\"text-align: right;\">\n",
       "      <th></th>\n",
       "      <th>ID</th>\n",
       "      <th>Length of Title</th>\n",
       "      <th>Post Text</th>\n",
       "      <th>Subreddit</th>\n",
       "    </tr>\n",
       "  </thead>\n",
       "  <tbody>\n",
       "    <tr>\n",
       "      <th>0</th>\n",
       "      <td>t3_bafvy6</td>\n",
       "      <td>293</td>\n",
       "      <td>In her own words... Antonia Okafor responds to...</td>\n",
       "      <td>Conservative</td>\n",
       "    </tr>\n",
       "    <tr>\n",
       "      <th>1</th>\n",
       "      <td>t3_baf5b7</td>\n",
       "      <td>54</td>\n",
       "      <td>Science shows that white liberals condescend t...</td>\n",
       "      <td>Conservative</td>\n",
       "    </tr>\n",
       "    <tr>\n",
       "      <th>2</th>\n",
       "      <td>t3_bah4s9</td>\n",
       "      <td>20</td>\n",
       "      <td>That's not racist...\\n</td>\n",
       "      <td>Conservative</td>\n",
       "    </tr>\n",
       "    <tr>\n",
       "      <th>3</th>\n",
       "      <td>t3_bagod9</td>\n",
       "      <td>237</td>\n",
       "      <td>Sir Mick Jagger had a heart valve problem and ...</td>\n",
       "      <td>Conservative</td>\n",
       "    </tr>\n",
       "    <tr>\n",
       "      <th>4</th>\n",
       "      <td>t3_bah4s7</td>\n",
       "      <td>24</td>\n",
       "      <td>🎶My Heart Will Go Onnnn🎶\\n</td>\n",
       "      <td>Conservative</td>\n",
       "    </tr>\n",
       "  </tbody>\n",
       "</table>\n",
       "</div>"
      ],
      "text/plain": [
       "          ID  Length of Title  \\\n",
       "0  t3_bafvy6              293   \n",
       "1  t3_baf5b7               54   \n",
       "2  t3_bah4s9               20   \n",
       "3  t3_bagod9              237   \n",
       "4  t3_bah4s7               24   \n",
       "\n",
       "                                           Post Text     Subreddit  \n",
       "0  In her own words... Antonia Okafor responds to...  Conservative  \n",
       "1  Science shows that white liberals condescend t...  Conservative  \n",
       "2                             That's not racist...\\n  Conservative  \n",
       "3  Sir Mick Jagger had a heart valve problem and ...  Conservative  \n",
       "4                         🎶My Heart Will Go Onnnn🎶\\n  Conservative  "
      ]
     },
     "execution_count": 18,
     "metadata": {},
     "output_type": "execute_result"
    }
   ],
   "source": [
    "cons_df.head()"
   ]
  },
  {
   "cell_type": "code",
   "execution_count": 19,
   "metadata": {},
   "outputs": [
    {
     "data": {
      "text/plain": [
       "787"
      ]
     },
     "execution_count": 19,
     "metadata": {},
     "output_type": "execute_result"
    }
   ],
   "source": [
    "#check length of Conservative posts dataframe\n",
    "len(set(cons_df['ID']))"
   ]
  },
  {
   "cell_type": "code",
   "execution_count": 20,
   "metadata": {
    "scrolled": true
   },
   "outputs": [
    {
     "data": {
      "text/plain": [
       "991"
      ]
     },
     "execution_count": 20,
     "metadata": {},
     "output_type": "execute_result"
    }
   ],
   "source": [
    "#check length of Democrats posts dataframe\n",
    "len(set(dem_df['ID']))"
   ]
  },
  {
   "cell_type": "markdown",
   "metadata": {},
   "source": [
    "## Data Cleaning and EDA"
   ]
  },
  {
   "cell_type": "code",
   "execution_count": 21,
   "metadata": {},
   "outputs": [],
   "source": [
    "#concatenate each df into one master_df\n",
    "master_df = pd.merge(cons_df, dem_df, how= 'outer')"
   ]
  },
  {
   "cell_type": "code",
   "execution_count": 22,
   "metadata": {},
   "outputs": [
    {
     "data": {
      "text/plain": [
       "1778"
      ]
     },
     "execution_count": 22,
     "metadata": {},
     "output_type": "execute_result"
    }
   ],
   "source": [
    "len(master_df)"
   ]
  },
  {
   "cell_type": "code",
   "execution_count": 23,
   "metadata": {
    "scrolled": false
   },
   "outputs": [
    {
     "data": {
      "text/plain": [
       "ID                 0\n",
       "Length of Title    0\n",
       "Post Text          0\n",
       "Subreddit          0\n",
       "dtype: int64"
      ]
     },
     "execution_count": 23,
     "metadata": {},
     "output_type": "execute_result"
    }
   ],
   "source": [
    "#check for nulls\n",
    "master_df.isnull().sum()"
   ]
  },
  {
   "cell_type": "markdown",
   "metadata": {},
   "source": [
    "#### Binarizing Target Features: Democrats vs Conservative"
   ]
  },
  {
   "cell_type": "code",
   "execution_count": 24,
   "metadata": {},
   "outputs": [],
   "source": [
    "#transforming the target into 1 for Democrats and 0 for Conservative\n",
    "master_df['Subreddit'] = master_df['Subreddit'].map(lambda x : 1 if x == \"democrats\" else 0)"
   ]
  },
  {
   "cell_type": "code",
   "execution_count": 25,
   "metadata": {
    "scrolled": false
   },
   "outputs": [
    {
     "data": {
      "text/html": [
       "<div>\n",
       "<style scoped>\n",
       "    .dataframe tbody tr th:only-of-type {\n",
       "        vertical-align: middle;\n",
       "    }\n",
       "\n",
       "    .dataframe tbody tr th {\n",
       "        vertical-align: top;\n",
       "    }\n",
       "\n",
       "    .dataframe thead th {\n",
       "        text-align: right;\n",
       "    }\n",
       "</style>\n",
       "<table border=\"1\" class=\"dataframe\">\n",
       "  <thead>\n",
       "    <tr style=\"text-align: right;\">\n",
       "      <th></th>\n",
       "      <th>ID</th>\n",
       "      <th>Length of Title</th>\n",
       "      <th>Post Text</th>\n",
       "      <th>Subreddit</th>\n",
       "    </tr>\n",
       "  </thead>\n",
       "  <tbody>\n",
       "    <tr>\n",
       "      <th>1773</th>\n",
       "      <td>t3_ayl6wn</td>\n",
       "      <td>83</td>\n",
       "      <td>Republicans manage to get Democrats out of a j...</td>\n",
       "      <td>1</td>\n",
       "    </tr>\n",
       "    <tr>\n",
       "      <th>1774</th>\n",
       "      <td>t3_aypii0</td>\n",
       "      <td>152</td>\n",
       "      <td>Trump’s TRAP; The new federal gag rule is desi...</td>\n",
       "      <td>1</td>\n",
       "    </tr>\n",
       "    <tr>\n",
       "      <th>1775</th>\n",
       "      <td>t3_aylnxe</td>\n",
       "      <td>106</td>\n",
       "      <td>Who voted 'no' on the resolution to condemn bi...</td>\n",
       "      <td>1</td>\n",
       "    </tr>\n",
       "    <tr>\n",
       "      <th>1776</th>\n",
       "      <td>t3_ays75x</td>\n",
       "      <td>163</td>\n",
       "      <td>Woman who co-founded spa where Kraft was cough...</td>\n",
       "      <td>1</td>\n",
       "    </tr>\n",
       "    <tr>\n",
       "      <th>1777</th>\n",
       "      <td>t3_ayx8h6</td>\n",
       "      <td>148</td>\n",
       "      <td>GOP congressman complains wearing a MAGA hat i...</td>\n",
       "      <td>1</td>\n",
       "    </tr>\n",
       "  </tbody>\n",
       "</table>\n",
       "</div>"
      ],
      "text/plain": [
       "             ID  Length of Title  \\\n",
       "1773  t3_ayl6wn               83   \n",
       "1774  t3_aypii0              152   \n",
       "1775  t3_aylnxe              106   \n",
       "1776  t3_ays75x              163   \n",
       "1777  t3_ayx8h6              148   \n",
       "\n",
       "                                              Post Text  Subreddit  \n",
       "1773  Republicans manage to get Democrats out of a j...          1  \n",
       "1774  Trump’s TRAP; The new federal gag rule is desi...          1  \n",
       "1775  Who voted 'no' on the resolution to condemn bi...          1  \n",
       "1776  Woman who co-founded spa where Kraft was cough...          1  \n",
       "1777  GOP congressman complains wearing a MAGA hat i...          1  "
      ]
     },
     "execution_count": 25,
     "metadata": {},
     "output_type": "execute_result"
    }
   ],
   "source": [
    "#verify that the mapping worked\n",
    "master_df.tail()"
   ]
  },
  {
   "cell_type": "code",
   "execution_count": 26,
   "metadata": {},
   "outputs": [
    {
     "data": {
      "text/html": [
       "<div>\n",
       "<style scoped>\n",
       "    .dataframe tbody tr th:only-of-type {\n",
       "        vertical-align: middle;\n",
       "    }\n",
       "\n",
       "    .dataframe tbody tr th {\n",
       "        vertical-align: top;\n",
       "    }\n",
       "\n",
       "    .dataframe thead th {\n",
       "        text-align: right;\n",
       "    }\n",
       "</style>\n",
       "<table border=\"1\" class=\"dataframe\">\n",
       "  <thead>\n",
       "    <tr style=\"text-align: right;\">\n",
       "      <th></th>\n",
       "      <th>ID</th>\n",
       "      <th>Length of Title</th>\n",
       "      <th>Post Text</th>\n",
       "      <th>Subreddit</th>\n",
       "    </tr>\n",
       "  </thead>\n",
       "  <tbody>\n",
       "    <tr>\n",
       "      <th>562</th>\n",
       "      <td>t3_b96ei1</td>\n",
       "      <td>3</td>\n",
       "      <td>😂😂😂\\n</td>\n",
       "      <td>0</td>\n",
       "    </tr>\n",
       "    <tr>\n",
       "      <th>425</th>\n",
       "      <td>t3_b941ug</td>\n",
       "      <td>5</td>\n",
       "      <td>Think\\n</td>\n",
       "      <td>0</td>\n",
       "    </tr>\n",
       "    <tr>\n",
       "      <th>369</th>\n",
       "      <td>t3_b9hly0</td>\n",
       "      <td>6</td>\n",
       "      <td>Oh No!\\n</td>\n",
       "      <td>0</td>\n",
       "    </tr>\n",
       "    <tr>\n",
       "      <th>263</th>\n",
       "      <td>t3_b9lh7n</td>\n",
       "      <td>7</td>\n",
       "      <td>Period?\\n</td>\n",
       "      <td>0</td>\n",
       "    </tr>\n",
       "    <tr>\n",
       "      <th>573</th>\n",
       "      <td>t3_b97ldf</td>\n",
       "      <td>7</td>\n",
       "      <td>Factual\\n</td>\n",
       "      <td>0</td>\n",
       "    </tr>\n",
       "    <tr>\n",
       "      <th>766</th>\n",
       "      <td>t3_b8mqyi</td>\n",
       "      <td>8</td>\n",
       "      <td>Oh Biden\\n</td>\n",
       "      <td>0</td>\n",
       "    </tr>\n",
       "    <tr>\n",
       "      <th>700</th>\n",
       "      <td>t3_b8py7h</td>\n",
       "      <td>11</td>\n",
       "      <td>Drink Milk?\\n</td>\n",
       "      <td>0</td>\n",
       "    </tr>\n",
       "    <tr>\n",
       "      <th>775</th>\n",
       "      <td>t3_b8kvmb</td>\n",
       "      <td>12</td>\n",
       "      <td>APRIL FOOLS!\\nThanks for participating.  r/Con...</td>\n",
       "      <td>0</td>\n",
       "    </tr>\n",
       "    <tr>\n",
       "      <th>691</th>\n",
       "      <td>t3_b8l5bm</td>\n",
       "      <td>13</td>\n",
       "      <td>AOC Logic 2.0\\n</td>\n",
       "      <td>0</td>\n",
       "    </tr>\n",
       "    <tr>\n",
       "      <th>776</th>\n",
       "      <td>t3_b8z8wh</td>\n",
       "      <td>13</td>\n",
       "      <td>Are you safe?\\n</td>\n",
       "      <td>0</td>\n",
       "    </tr>\n",
       "    <tr>\n",
       "      <th>455</th>\n",
       "      <td>t3_b9kgyc</td>\n",
       "      <td>14</td>\n",
       "      <td>Fresh From LMU\\n</td>\n",
       "      <td>0</td>\n",
       "    </tr>\n",
       "    <tr>\n",
       "      <th>731</th>\n",
       "      <td>t3_b8fjhe</td>\n",
       "      <td>14</td>\n",
       "      <td>CNN can't read\\n</td>\n",
       "      <td>0</td>\n",
       "    </tr>\n",
       "    <tr>\n",
       "      <th>927</th>\n",
       "      <td>t3_b940px</td>\n",
       "      <td>14</td>\n",
       "      <td>All About Pete\\n</td>\n",
       "      <td>1</td>\n",
       "    </tr>\n",
       "    <tr>\n",
       "      <th>780</th>\n",
       "      <td>t3_b8id89</td>\n",
       "      <td>14</td>\n",
       "      <td>Coincidence???\\n</td>\n",
       "      <td>0</td>\n",
       "    </tr>\n",
       "    <tr>\n",
       "      <th>246</th>\n",
       "      <td>t3_b9rrlp</td>\n",
       "      <td>14</td>\n",
       "      <td>Biden or Beto?\\n</td>\n",
       "      <td>0</td>\n",
       "    </tr>\n",
       "    <tr>\n",
       "      <th>1726</th>\n",
       "      <td>t3_az5c6x</td>\n",
       "      <td>15</td>\n",
       "      <td>Helleworld 2019\\nFound this in my feed.\\n\\nHou...</td>\n",
       "      <td>1</td>\n",
       "    </tr>\n",
       "    <tr>\n",
       "      <th>624</th>\n",
       "      <td>t3_b9cl43</td>\n",
       "      <td>15</td>\n",
       "      <td>You Had One Job\\n</td>\n",
       "      <td>0</td>\n",
       "    </tr>\n",
       "    <tr>\n",
       "      <th>1098</th>\n",
       "      <td>t3_b6zpx7</td>\n",
       "      <td>16</td>\n",
       "      <td>Andrew Yang 2020\\nI'm an independent and hones...</td>\n",
       "      <td>1</td>\n",
       "    </tr>\n",
       "    <tr>\n",
       "      <th>664</th>\n",
       "      <td>t3_b8k6a7</td>\n",
       "      <td>16</td>\n",
       "      <td>Bias? What Bias?\\n</td>\n",
       "      <td>0</td>\n",
       "    </tr>\n",
       "    <tr>\n",
       "      <th>115</th>\n",
       "      <td>t3_ba517d</td>\n",
       "      <td>16</td>\n",
       "      <td>Bernie's isms...\\n</td>\n",
       "      <td>0</td>\n",
       "    </tr>\n",
       "    <tr>\n",
       "      <th>720</th>\n",
       "      <td>t3_b8i6ru</td>\n",
       "      <td>17</td>\n",
       "      <td>Time’s Next Issue\\n</td>\n",
       "      <td>0</td>\n",
       "    </tr>\n",
       "    <tr>\n",
       "      <th>599</th>\n",
       "      <td>t3_b9g3qp</td>\n",
       "      <td>17</td>\n",
       "      <td>Biden being Biden\\n</td>\n",
       "      <td>0</td>\n",
       "    </tr>\n",
       "    <tr>\n",
       "      <th>618</th>\n",
       "      <td>t3_b8y001</td>\n",
       "      <td>18</td>\n",
       "      <td>What Is Collusion?\\n</td>\n",
       "      <td>0</td>\n",
       "    </tr>\n",
       "    <tr>\n",
       "      <th>99</th>\n",
       "      <td>t3_ba5224</td>\n",
       "      <td>18</td>\n",
       "      <td>Democrat Hypocrisy\\n</td>\n",
       "      <td>0</td>\n",
       "    </tr>\n",
       "    <tr>\n",
       "      <th>2</th>\n",
       "      <td>t3_bah4s9</td>\n",
       "      <td>20</td>\n",
       "      <td>That's not racist...\\n</td>\n",
       "      <td>0</td>\n",
       "    </tr>\n",
       "  </tbody>\n",
       "</table>\n",
       "</div>"
      ],
      "text/plain": [
       "             ID  Length of Title  \\\n",
       "562   t3_b96ei1                3   \n",
       "425   t3_b941ug                5   \n",
       "369   t3_b9hly0                6   \n",
       "263   t3_b9lh7n                7   \n",
       "573   t3_b97ldf                7   \n",
       "766   t3_b8mqyi                8   \n",
       "700   t3_b8py7h               11   \n",
       "775   t3_b8kvmb               12   \n",
       "691   t3_b8l5bm               13   \n",
       "776   t3_b8z8wh               13   \n",
       "455   t3_b9kgyc               14   \n",
       "731   t3_b8fjhe               14   \n",
       "927   t3_b940px               14   \n",
       "780   t3_b8id89               14   \n",
       "246   t3_b9rrlp               14   \n",
       "1726  t3_az5c6x               15   \n",
       "624   t3_b9cl43               15   \n",
       "1098  t3_b6zpx7               16   \n",
       "664   t3_b8k6a7               16   \n",
       "115   t3_ba517d               16   \n",
       "720   t3_b8i6ru               17   \n",
       "599   t3_b9g3qp               17   \n",
       "618   t3_b8y001               18   \n",
       "99    t3_ba5224               18   \n",
       "2     t3_bah4s9               20   \n",
       "\n",
       "                                              Post Text  Subreddit  \n",
       "562                                               😂😂😂\\n          0  \n",
       "425                                             Think\\n          0  \n",
       "369                                            Oh No!\\n          0  \n",
       "263                                           Period?\\n          0  \n",
       "573                                           Factual\\n          0  \n",
       "766                                          Oh Biden\\n          0  \n",
       "700                                       Drink Milk?\\n          0  \n",
       "775   APRIL FOOLS!\\nThanks for participating.  r/Con...          0  \n",
       "691                                     AOC Logic 2.0\\n          0  \n",
       "776                                     Are you safe?\\n          0  \n",
       "455                                    Fresh From LMU\\n          0  \n",
       "731                                    CNN can't read\\n          0  \n",
       "927                                    All About Pete\\n          1  \n",
       "780                                    Coincidence???\\n          0  \n",
       "246                                    Biden or Beto?\\n          0  \n",
       "1726  Helleworld 2019\\nFound this in my feed.\\n\\nHou...          1  \n",
       "624                                   You Had One Job\\n          0  \n",
       "1098  Andrew Yang 2020\\nI'm an independent and hones...          1  \n",
       "664                                  Bias? What Bias?\\n          0  \n",
       "115                                  Bernie's isms...\\n          0  \n",
       "720                                 Time’s Next Issue\\n          0  \n",
       "599                                 Biden being Biden\\n          0  \n",
       "618                                What Is Collusion?\\n          0  \n",
       "99                                 Democrat Hypocrisy\\n          0  \n",
       "2                                That's not racist...\\n          0  "
      ]
     },
     "execution_count": 26,
     "metadata": {},
     "output_type": "execute_result"
    }
   ],
   "source": [
    "# checking to see if any nulls on the Length of Title\n",
    "master_df.sort_values('Length of Title').head(25)"
   ]
  },
  {
   "cell_type": "markdown",
   "metadata": {},
   "source": [
    "Here we can see quite clearly that there is a correlation between length of post text and class, as 24 out of 25 of the lowest length text are of the Conservative party. This may indicate a higher prevalence of meme usage and thus shorter posts."
   ]
  },
  {
   "cell_type": "code",
   "execution_count": 27,
   "metadata": {},
   "outputs": [],
   "source": [
    "### Export dataframe to use \n",
    "master_df.to_csv('./data/master_df.csv')"
   ]
  },
  {
   "cell_type": "markdown",
   "metadata": {},
   "source": [
    "#### Top Frequencies for Subreddits"
   ]
  },
  {
   "cell_type": "code",
   "execution_count": 36,
   "metadata": {
    "scrolled": true
   },
   "outputs": [],
   "source": [
    "# import text based modules\n",
    "from sklearn.feature_extraction.text import CountVectorizer,TfidfVectorizer\n",
    "from sklearn.feature_extraction import text, stop_words"
   ]
  },
  {
   "cell_type": "code",
   "execution_count": 37,
   "metadata": {},
   "outputs": [
    {
     "name": "stdout",
     "output_type": "stream",
     "text": [
      "318\n",
      "15\n",
      "342\n",
      "332\n"
     ]
    }
   ],
   "source": [
    "additional_politics_english_stop = ['www', 'things', 'does', 'x200b', 'amp', 'want', 'watch',\n",
    "                           'just', 'like', 'https', 'com', 'trump', 'republican', 'republicans',\n",
    "                           'libertarians', 'democrats', 'democrat', 'people', 'libertarian',\n",
    "                           'says', 'say', 'did', 'this', 'conservative', 'conservatives' ]\n",
    "\n",
    "additional_english_stop = ['www', 'things', 'does', 'x200b', 'amp',\n",
    "                           'just', 'like', 'https', 'com', 'watch', 'want',\n",
    "                           'says', 'say', 'did', 'this']\n",
    "\n",
    "new_stop_list = stop_words.ENGLISH_STOP_WORDS.union(additional_english_stop)\n",
    "new_politics_english_stop_list = stop_words.ENGLISH_STOP_WORDS.union(additional_politics_english_stop)\n",
    "print(len(stop_words.ENGLISH_STOP_WORDS))\n",
    "print(len(additional_english_stop))\n",
    "print(len(new_politics_english_stop_list))\n",
    "print(len(new_stop_list))\n"
   ]
  },
  {
   "cell_type": "code",
   "execution_count": 38,
   "metadata": {},
   "outputs": [],
   "source": [
    "# code originally written by boom\n",
    "# Function to count words in each df\n",
    "def word_counter(title_df,stop_list = []):\n",
    "    \n",
    "    # Count Vectorize\n",
    "    cvec = CountVectorizer(stop_words = stop_list, max_features=15)\n",
    "\n",
    "    # Transform the corpus\n",
    "    X_text = cvec.fit_transform(title_df['Post Text'])\n",
    "\n",
    "    # Converts text to array form\n",
    "    X_text = pd.DataFrame(X_text.toarray(), columns= cvec.get_feature_names())\n",
    "\n",
    "    # See word counts\n",
    "    word_counts = X_text.sum().sort_values(0, ascending=False)\n",
    "    \n",
    "    return word_counts"
   ]
  },
  {
   "cell_type": "code",
   "execution_count": 39,
   "metadata": {},
   "outputs": [
    {
     "data": {
      "text/plain": [
       "the      979\n",
       "to       740\n",
       "trump    508\n",
       "of       478\n",
       "and      445\n",
       "in       367\n",
       "is       287\n",
       "for      280\n",
       "on       261\n",
       "that     219\n",
       "he       196\n",
       "it       188\n",
       "his      165\n",
       "with     155\n",
       "not      133\n",
       "dtype: int64"
      ]
     },
     "execution_count": 39,
     "metadata": {},
     "output_type": "execute_result"
    }
   ],
   "source": [
    "# no Stop Words\n",
    "word_counter(dem_df)\n",
    "# we can see that there is still html jargon that needs to be cleaned further"
   ]
  },
  {
   "cell_type": "code",
   "execution_count": 52,
   "metadata": {},
   "outputs": [
    {
     "data": {
      "image/png": "[encoded data removed]",
      "text/plain": [
       "<Figure size 432x288 with 1 Axes>"
      ]
     },
     "metadata": {
      "needs_background": "light"
     },
     "output_type": "display_data"
    }
   ],
   "source": [
    "# Democrats Top 15 Words with no stop words\n",
    "dems_wordcount = pd.DataFrame(word_counter(dem_df), columns=[\"Frequency\"])\n",
    "\n",
    "# Visualization\n",
    "politics_top15 = dems_wordcount.head(15)\n",
    "politics_top15.sort_values('Frequency',ascending=True).plot(kind = \"barh\")\n",
    "plt.title(\"Top 15 Words in Democrats subreddit\")\n",
    "plt.xlabel(\"Frequency (Count)\")\n",
    "plt.ylabel(\"Word\")\n",
    "plt.show()"
   ]
  },
  {
   "cell_type": "code",
   "execution_count": 40,
   "metadata": {
    "scrolled": true
   },
   "outputs": [
    {
     "data": {
      "text/plain": [
       "trump          508\n",
       "president       98\n",
       "democrats       93\n",
       "mueller         89\n",
       "new             78\n",
       "2020            78\n",
       "report          74\n",
       "house           71\n",
       "just            69\n",
       "white           68\n",
       "people          68\n",
       "twitter         65\n",
       "says            64\n",
       "republicans     62\n",
       "donald          51\n",
       "dtype: int64"
      ]
     },
     "execution_count": 40,
     "metadata": {},
     "output_type": "execute_result"
    }
   ],
   "source": [
    "# English Stop Words\n",
    "word_counter(dem_df, stop_words.ENGLISH_STOP_WORDS)"
   ]
  },
  {
   "cell_type": "code",
   "execution_count": 54,
   "metadata": {},
   "outputs": [
    {
     "data": {
      "image/png": "[encoded data removed]",
      "text/plain": [
       "<Figure size 432x288 with 1 Axes>"
      ]
     },
     "metadata": {
      "needs_background": "light"
     },
     "output_type": "display_data"
    }
   ],
   "source": [
    "# Democrats Top 15 Words with default english stop words\n",
    "dems_wordcount = pd.DataFrame(word_counter(dem_df, stop_words.ENGLISH_STOP_WORDS), columns=[\"Frequency\"])\n",
    "\n",
    "# Visualization\n",
    "politics_top15 = dems_wordcount.head(15)\n",
    "politics_top15.sort_values('Frequency',ascending=True).plot(kind = \"barh\")\n",
    "plt.title(\"Top 15 Words in Democrats subreddit v2\")\n",
    "plt.xlabel(\"Frequency (Count)\")\n",
    "plt.ylabel(\"Word\")\n",
    "plt.show()"
   ]
  },
  {
   "cell_type": "code",
   "execution_count": 41,
   "metadata": {},
   "outputs": [
    {
     "data": {
      "text/plain": [
       "trump          508\n",
       "president       98\n",
       "democrats       93\n",
       "mueller         89\n",
       "new             78\n",
       "2020            78\n",
       "report          74\n",
       "house           71\n",
       "white           68\n",
       "people          68\n",
       "twitter         65\n",
       "republicans     62\n",
       "donald          51\n",
       "democratic      50\n",
       "time            49\n",
       "dtype: int64"
      ]
     },
     "execution_count": 41,
     "metadata": {},
     "output_type": "execute_result"
    }
   ],
   "source": [
    "#displaying word list with new stop list\n",
    "word_counter(dem_df,new_stop_list)\n"
   ]
  },
  {
   "cell_type": "code",
   "execution_count": 55,
   "metadata": {},
   "outputs": [
    {
     "data": {
      "image/png": "[encoded data removed]",
      "text/plain": [
       "<Figure size 432x288 with 1 Axes>"
      ]
     },
     "metadata": {
      "needs_background": "light"
     },
     "output_type": "display_data"
    }
   ],
   "source": [
    "# Democrats Top 15 Words with custom stop words \n",
    "dems_wordcount = pd.DataFrame(word_counter(dem_df, stop_words.ENGLISH_STOP_WORDS), columns=[\"Frequency\"])\n",
    "\n",
    "# Visualization\n",
    "politics_top15 = dems_wordcount.head(15)\n",
    "politics_top15.sort_values('Frequency',ascending=True).plot(kind = \"barh\")\n",
    "plt.title(\"Top 15 Words in Democrats subreddit v3\")\n",
    "plt.xlabel(\"Frequency (Count)\")\n",
    "plt.ylabel(\"Word\")\n",
    "plt.show()"
   ]
  },
  {
   "cell_type": "code",
   "execution_count": 42,
   "metadata": {
    "scrolled": true
   },
   "outputs": [
    {
     "data": {
      "text/plain": [
       "president         98\n",
       "mueller           89\n",
       "new               78\n",
       "2020              78\n",
       "report            74\n",
       "house             71\n",
       "white             68\n",
       "twitter           65\n",
       "donald            51\n",
       "democratic        50\n",
       "time              49\n",
       "campaign          47\n",
       "buttigieg         46\n",
       "beto              41\n",
       "administration    38\n",
       "dtype: int64"
      ]
     },
     "execution_count": 42,
     "metadata": {},
     "output_type": "execute_result"
    }
   ],
   "source": [
    "#displaying word list with new political stop list \n",
    "word_counter(dem_df, new_politics_english_stop_list)"
   ]
  },
  {
   "cell_type": "code",
   "execution_count": 56,
   "metadata": {},
   "outputs": [
    {
     "data": {
      "image/png": "[encoded data removed]",
      "text/plain": [
       "<Figure size 432x288 with 1 Axes>"
      ]
     },
     "metadata": {
      "needs_background": "light"
     },
     "output_type": "display_data"
    }
   ],
   "source": [
    "# Democrats Top 15 Words with custom political stop words\n",
    "dems_wordcount = pd.DataFrame(word_counter(dem_df, new_politics_english_stop_list), columns=[\"Frequency\"])\n",
    "\n",
    "# Visualization\n",
    "politics_top15 = dems_wordcount.head(15)\n",
    "politics_top15.sort_values('Frequency',ascending=True).plot(kind = \"barh\")\n",
    "plt.title(\"Top 15 Words in Democrats subreddit v4\")\n",
    "plt.xlabel(\"Frequency (Count)\")\n",
    "plt.ylabel(\"Word\")\n",
    "plt.show()"
   ]
  },
  {
   "cell_type": "code",
   "execution_count": 43,
   "metadata": {},
   "outputs": [
    {
     "data": {
      "text/plain": [
       "the      457\n",
       "to       409\n",
       "of       295\n",
       "in       207\n",
       "and      207\n",
       "for      177\n",
       "is       139\n",
       "that     135\n",
       "it       121\n",
       "on       109\n",
       "trump    108\n",
       "be        89\n",
       "as        71\n",
       "about     71\n",
       "with      70\n",
       "dtype: int64"
      ]
     },
     "execution_count": 43,
     "metadata": {},
     "output_type": "execute_result"
    }
   ],
   "source": [
    "#displaying word list with no stop list\n",
    "word_counter(cons_df)\n",
    "# we can see that there is still html jargon that needs to be cleaned further"
   ]
  },
  {
   "cell_type": "code",
   "execution_count": 62,
   "metadata": {},
   "outputs": [
    {
     "data": {
      "image/png": "[encoded data removed]",
      "text/plain": [
       "<Figure size 432x288 with 1 Axes>"
      ]
     },
     "metadata": {
      "needs_background": "light"
     },
     "output_type": "display_data"
    }
   ],
   "source": [
    "# Democrats Top 15 Words with custom political stop words\n",
    "cons_wordcount = pd.DataFrame(word_counter(cons_df), columns=[\"Frequency\"])\n",
    "\n",
    "# Visualization\n",
    "politics_top15 = cons_wordcount.head(15)\n",
    "politics_top15.sort_values('Frequency',ascending=True).plot(kind = \"barh\")\n",
    "plt.title(\"Top 15 Words in Conservative subreddit v1\")\n",
    "plt.xlabel(\"Frequency (Count)\")\n",
    "plt.ylabel(\"Word\")\n",
    "plt.show()"
   ]
  },
  {
   "cell_type": "code",
   "execution_count": 44,
   "metadata": {},
   "outputs": [
    {
     "data": {
      "text/plain": [
       "trump           108\n",
       "people           60\n",
       "biden            53\n",
       "new              48\n",
       "white            44\n",
       "state            38\n",
       "like             35\n",
       "conservative     35\n",
       "democrats        33\n",
       "mueller          32\n",
       "watch            31\n",
       "report           30\n",
       "black            30\n",
       "abortion         29\n",
       "president        28\n",
       "dtype: int64"
      ]
     },
     "execution_count": 44,
     "metadata": {},
     "output_type": "execute_result"
    }
   ],
   "source": [
    "#displaying word list with vanilla english stop list\n",
    "word_counter(cons_df, stop_words.ENGLISH_STOP_WORDS)"
   ]
  },
  {
   "cell_type": "code",
   "execution_count": 63,
   "metadata": {},
   "outputs": [
    {
     "data": {
      "image/png": "[encoded data removed]",
      "text/plain": [
       "<Figure size 432x288 with 1 Axes>"
      ]
     },
     "metadata": {
      "needs_background": "light"
     },
     "output_type": "display_data"
    }
   ],
   "source": [
    "# Democrats Top 15 Words with standard english stop words\n",
    "cons_wordcount = pd.DataFrame(word_counter(cons_df,stop_words.ENGLISH_STOP_WORDS), columns=[\"Frequency\"])\n",
    "\n",
    "# Visualization\n",
    "politics_top15 = cons_wordcount.head(15)\n",
    "politics_top15.sort_values('Frequency',ascending=True).plot(kind = \"barh\")\n",
    "plt.title(\"Top 15 Words in Conservative subreddit v2\")\n",
    "plt.xlabel(\"Frequency (Count)\")\n",
    "plt.ylabel(\"Word\")\n",
    "plt.show()"
   ]
  },
  {
   "cell_type": "code",
   "execution_count": 45,
   "metadata": {},
   "outputs": [
    {
     "data": {
      "text/plain": [
       "trump           108\n",
       "people           60\n",
       "biden            53\n",
       "new              48\n",
       "white            44\n",
       "state            38\n",
       "conservative     35\n",
       "democrats        33\n",
       "mueller          32\n",
       "report           30\n",
       "black            30\n",
       "abortion         29\n",
       "president        28\n",
       "states           25\n",
       "racist           25\n",
       "dtype: int64"
      ]
     },
     "execution_count": 45,
     "metadata": {},
     "output_type": "execute_result"
    }
   ],
   "source": [
    "#displaying word list with new stop list\n",
    "word_counter(cons_df, new_stop_list)"
   ]
  },
  {
   "cell_type": "code",
   "execution_count": 65,
   "metadata": {},
   "outputs": [
    {
     "data": {
      "image/png": "[encoded data removed]",
      "text/plain": [
       "<Figure size 432x288 with 1 Axes>"
      ]
     },
     "metadata": {
      "needs_background": "light"
     },
     "output_type": "display_data"
    }
   ],
   "source": [
    "# Democrats Top 15 Words with custom english stop words\n",
    "cons_wordcount = pd.DataFrame(word_counter(cons_df,new_stop_list), columns=[\"Frequency\"])\n",
    "\n",
    "# Visualization\n",
    "politics_top15 = cons_wordcount.head(15)\n",
    "politics_top15.sort_values('Frequency',ascending=True).plot(kind = \"barh\")\n",
    "plt.title(\"Top 15 Words in Conservative subreddit v3\")\n",
    "plt.xlabel(\"Frequency (Count)\")\n",
    "plt.ylabel(\"Word\")\n",
    "plt.show()"
   ]
  },
  {
   "cell_type": "code",
   "execution_count": 46,
   "metadata": {
    "scrolled": true
   },
   "outputs": [
    {
     "data": {
      "text/plain": [
       "biden        53\n",
       "new          48\n",
       "white        44\n",
       "state        38\n",
       "mueller      32\n",
       "report       30\n",
       "black        30\n",
       "abortion     29\n",
       "president    28\n",
       "states       25\n",
       "racist       25\n",
       "joe          22\n",
       "left         21\n",
       "america      21\n",
       "2020         20\n",
       "dtype: int64"
      ]
     },
     "execution_count": 46,
     "metadata": {},
     "output_type": "execute_result"
    }
   ],
   "source": [
    "#displaying word list with new politics stop list\n",
    "word_counter(cons_df, new_politics_english_stop_list)"
   ]
  },
  {
   "cell_type": "code",
   "execution_count": 66,
   "metadata": {},
   "outputs": [
    {
     "data": {
      "image/png": "[encoded data removed]",
      "text/plain": [
       "<Figure size 432x288 with 1 Axes>"
      ]
     },
     "metadata": {
      "needs_background": "light"
     },
     "output_type": "display_data"
    }
   ],
   "source": [
    "# Democrats Top 15 Words with custom politics stop words\n",
    "cons_wordcount = pd.DataFrame(word_counter(cons_df,new_politics_english_stop_list), columns=[\"Frequency\"])\n",
    "\n",
    "# Visualization\n",
    "politics_top15 = cons_wordcount.head(15)\n",
    "politics_top15.sort_values('Frequency',ascending=True).plot(kind = \"barh\")\n",
    "plt.title(\"Top 15 Words in Conservative subreddit v4\")\n",
    "plt.xlabel(\"Frequency (Count)\")\n",
    "plt.ylabel(\"Word\")\n",
    "plt.show()"
   ]
  },
  {
   "cell_type": "code",
   "execution_count": 47,
   "metadata": {},
   "outputs": [
    {
     "data": {
      "text/html": [
       "<div>\n",
       "<style scoped>\n",
       "    .dataframe tbody tr th:only-of-type {\n",
       "        vertical-align: middle;\n",
       "    }\n",
       "\n",
       "    .dataframe tbody tr th {\n",
       "        vertical-align: top;\n",
       "    }\n",
       "\n",
       "    .dataframe thead th {\n",
       "        text-align: right;\n",
       "    }\n",
       "</style>\n",
       "<table border=\"1\" class=\"dataframe\">\n",
       "  <thead>\n",
       "    <tr style=\"text-align: right;\">\n",
       "      <th></th>\n",
       "      <th>ID</th>\n",
       "      <th>Length of Title</th>\n",
       "      <th>Post Text</th>\n",
       "      <th>Subreddit</th>\n",
       "    </tr>\n",
       "  </thead>\n",
       "  <tbody>\n",
       "    <tr>\n",
       "      <th>0</th>\n",
       "      <td>t3_bafvy6</td>\n",
       "      <td>293</td>\n",
       "      <td>In her own words... Antonia Okafor responds to...</td>\n",
       "      <td>0</td>\n",
       "    </tr>\n",
       "    <tr>\n",
       "      <th>1</th>\n",
       "      <td>t3_baf5b7</td>\n",
       "      <td>54</td>\n",
       "      <td>Science shows that white liberals condescend t...</td>\n",
       "      <td>0</td>\n",
       "    </tr>\n",
       "    <tr>\n",
       "      <th>2</th>\n",
       "      <td>t3_bah4s9</td>\n",
       "      <td>20</td>\n",
       "      <td>That's not racist...\\n</td>\n",
       "      <td>0</td>\n",
       "    </tr>\n",
       "    <tr>\n",
       "      <th>3</th>\n",
       "      <td>t3_bagod9</td>\n",
       "      <td>237</td>\n",
       "      <td>Sir Mick Jagger had a heart valve problem and ...</td>\n",
       "      <td>0</td>\n",
       "    </tr>\n",
       "    <tr>\n",
       "      <th>4</th>\n",
       "      <td>t3_bah4s7</td>\n",
       "      <td>24</td>\n",
       "      <td>🎶My Heart Will Go Onnnn🎶\\n</td>\n",
       "      <td>0</td>\n",
       "    </tr>\n",
       "    <tr>\n",
       "      <th>5</th>\n",
       "      <td>t3_bamcol</td>\n",
       "      <td>69</td>\n",
       "      <td>FEC Records Indicate Hillary Campaign Illegall...</td>\n",
       "      <td>0</td>\n",
       "    </tr>\n",
       "    <tr>\n",
       "      <th>6</th>\n",
       "      <td>t3_bafral</td>\n",
       "      <td>81</td>\n",
       "      <td>Elderly Communist Is Worried About Authoritari...</td>\n",
       "      <td>0</td>\n",
       "    </tr>\n",
       "    <tr>\n",
       "      <th>7</th>\n",
       "      <td>t3_bag2pw</td>\n",
       "      <td>77</td>\n",
       "      <td>WATCH: Black Conservative Movement for America...</td>\n",
       "      <td>0</td>\n",
       "    </tr>\n",
       "    <tr>\n",
       "      <th>8</th>\n",
       "      <td>t3_badtnx</td>\n",
       "      <td>242</td>\n",
       "      <td>Kids Aren’t Born Trans — People who pursue a c...</td>\n",
       "      <td>0</td>\n",
       "    </tr>\n",
       "    <tr>\n",
       "      <th>9</th>\n",
       "      <td>t3_bakn6o</td>\n",
       "      <td>102</td>\n",
       "      <td>Mexican Trump Supporter Assaulted by Psychotic...</td>\n",
       "      <td>0</td>\n",
       "    </tr>\n",
       "    <tr>\n",
       "      <th>10</th>\n",
       "      <td>t3_balqu7</td>\n",
       "      <td>94</td>\n",
       "      <td>New Zealand Police Confiscate Airsoft Pellet G...</td>\n",
       "      <td>0</td>\n",
       "    </tr>\n",
       "    <tr>\n",
       "      <th>11</th>\n",
       "      <td>t3_bagky1</td>\n",
       "      <td>66</td>\n",
       "      <td>Ex-democrat Staffer Pleads Guilty to 'Doxxing'...</td>\n",
       "      <td>0</td>\n",
       "    </tr>\n",
       "    <tr>\n",
       "      <th>12</th>\n",
       "      <td>t3_balpll</td>\n",
       "      <td>56</td>\n",
       "      <td>Mexican with a Trump hat gets harassed by psyc...</td>\n",
       "      <td>0</td>\n",
       "    </tr>\n",
       "    <tr>\n",
       "      <th>13</th>\n",
       "      <td>t3_bamd01</td>\n",
       "      <td>68</td>\n",
       "      <td>Inside the Beltway: Obama references himself 4...</td>\n",
       "      <td>0</td>\n",
       "    </tr>\n",
       "    <tr>\n",
       "      <th>14</th>\n",
       "      <td>t3_bakica</td>\n",
       "      <td>118</td>\n",
       "      <td>Cook County States Attorney Kim Foxx Defends S...</td>\n",
       "      <td>0</td>\n",
       "    </tr>\n",
       "    <tr>\n",
       "      <th>15</th>\n",
       "      <td>t3_bag4bh</td>\n",
       "      <td>206</td>\n",
       "      <td>If the Dem-controlled media wanted to protect ...</td>\n",
       "      <td>0</td>\n",
       "    </tr>\n",
       "    <tr>\n",
       "      <th>16</th>\n",
       "      <td>t3_balmbg</td>\n",
       "      <td>245</td>\n",
       "      <td>Richard Nixon had an active role in the strate...</td>\n",
       "      <td>0</td>\n",
       "    </tr>\n",
       "    <tr>\n",
       "      <th>17</th>\n",
       "      <td>t3_bahf2x</td>\n",
       "      <td>116</td>\n",
       "      <td>Obama Has Some Wise Words for Democrats, Warns...</td>\n",
       "      <td>0</td>\n",
       "    </tr>\n",
       "    <tr>\n",
       "      <th>18</th>\n",
       "      <td>t3_bal1gc</td>\n",
       "      <td>87</td>\n",
       "      <td>Blizzard Bans “OK” hand gesture from coverage ...</td>\n",
       "      <td>0</td>\n",
       "    </tr>\n",
       "    <tr>\n",
       "      <th>19</th>\n",
       "      <td>t3_balehl</td>\n",
       "      <td>67</td>\n",
       "      <td>Resisting Born-Alive Bill, Democrats Are Despe...</td>\n",
       "      <td>0</td>\n",
       "    </tr>\n",
       "    <tr>\n",
       "      <th>20</th>\n",
       "      <td>t3_banfwp</td>\n",
       "      <td>155</td>\n",
       "      <td>Video: Elderly White Man Verbally Assaulted fo...</td>\n",
       "      <td>0</td>\n",
       "    </tr>\n",
       "    <tr>\n",
       "      <th>21</th>\n",
       "      <td>t3_baa0mf</td>\n",
       "      <td>57</td>\n",
       "      <td>A good lesson on market economics from an unli...</td>\n",
       "      <td>0</td>\n",
       "    </tr>\n",
       "    <tr>\n",
       "      <th>22</th>\n",
       "      <td>t3_bal328</td>\n",
       "      <td>64</td>\n",
       "      <td>Bernie Sanders joins the Democrats bending a k...</td>\n",
       "      <td>0</td>\n",
       "    </tr>\n",
       "    <tr>\n",
       "      <th>23</th>\n",
       "      <td>t3_balevc</td>\n",
       "      <td>74</td>\n",
       "      <td>Thousands in Britain left to go blind due to e...</td>\n",
       "      <td>0</td>\n",
       "    </tr>\n",
       "    <tr>\n",
       "      <th>24</th>\n",
       "      <td>t3_bah95x</td>\n",
       "      <td>119</td>\n",
       "      <td>Man Who Spent Last 2 Years Drawing Pictures Of...</td>\n",
       "      <td>0</td>\n",
       "    </tr>\n",
       "    <tr>\n",
       "      <th>25</th>\n",
       "      <td>t3_bafs78</td>\n",
       "      <td>60</td>\n",
       "      <td>Conservative Abroad: My Experience As A Trump ...</td>\n",
       "      <td>0</td>\n",
       "    </tr>\n",
       "    <tr>\n",
       "      <th>26</th>\n",
       "      <td>t3_baki60</td>\n",
       "      <td>211</td>\n",
       "      <td>Who Is Getting Rich Off Institutionalizing Tra...</td>\n",
       "      <td>0</td>\n",
       "    </tr>\n",
       "    <tr>\n",
       "      <th>27</th>\n",
       "      <td>t3_bag6wh</td>\n",
       "      <td>75</td>\n",
       "      <td>Candace Owens — I may be leading #BLEXIT...but...</td>\n",
       "      <td>0</td>\n",
       "    </tr>\n",
       "    <tr>\n",
       "      <th>28</th>\n",
       "      <td>t3_bahufu</td>\n",
       "      <td>92</td>\n",
       "      <td>Nunes to send eight criminal referrals to DOJ ...</td>\n",
       "      <td>0</td>\n",
       "    </tr>\n",
       "    <tr>\n",
       "      <th>29</th>\n",
       "      <td>t3_bamuju</td>\n",
       "      <td>50</td>\n",
       "      <td>China's Cultural Revolution Comes to North Ame...</td>\n",
       "      <td>0</td>\n",
       "    </tr>\n",
       "    <tr>\n",
       "      <th>30</th>\n",
       "      <td>t3_bafye4</td>\n",
       "      <td>68</td>\n",
       "      <td>Males at risk: 'Boy crisis' of identity jeopar...</td>\n",
       "      <td>0</td>\n",
       "    </tr>\n",
       "    <tr>\n",
       "      <th>31</th>\n",
       "      <td>t3_bahjxz</td>\n",
       "      <td>56</td>\n",
       "      <td>Andrew Yang | The Ben Shapiro Show Sunday Spec...</td>\n",
       "      <td>0</td>\n",
       "    </tr>\n",
       "    <tr>\n",
       "      <th>32</th>\n",
       "      <td>t3_bah63k</td>\n",
       "      <td>103</td>\n",
       "      <td>Muslim MMA fighter Khabib Nurmagomedov warns r...</td>\n",
       "      <td>0</td>\n",
       "    </tr>\n",
       "    <tr>\n",
       "      <th>33</th>\n",
       "      <td>t3_bagq4z</td>\n",
       "      <td>53</td>\n",
       "      <td>God Help Us: Atheism Becomes Largest Religion ...</td>\n",
       "      <td>0</td>\n",
       "    </tr>\n",
       "    <tr>\n",
       "      <th>34</th>\n",
       "      <td>t3_banve7</td>\n",
       "      <td>22</td>\n",
       "      <td>This speaks for itself\\n</td>\n",
       "      <td>0</td>\n",
       "    </tr>\n",
       "  </tbody>\n",
       "</table>\n",
       "</div>"
      ],
      "text/plain": [
       "           ID  Length of Title  \\\n",
       "0   t3_bafvy6              293   \n",
       "1   t3_baf5b7               54   \n",
       "2   t3_bah4s9               20   \n",
       "3   t3_bagod9              237   \n",
       "4   t3_bah4s7               24   \n",
       "5   t3_bamcol               69   \n",
       "6   t3_bafral               81   \n",
       "7   t3_bag2pw               77   \n",
       "8   t3_badtnx              242   \n",
       "9   t3_bakn6o              102   \n",
       "10  t3_balqu7               94   \n",
       "11  t3_bagky1               66   \n",
       "12  t3_balpll               56   \n",
       "13  t3_bamd01               68   \n",
       "14  t3_bakica              118   \n",
       "15  t3_bag4bh              206   \n",
       "16  t3_balmbg              245   \n",
       "17  t3_bahf2x              116   \n",
       "18  t3_bal1gc               87   \n",
       "19  t3_balehl               67   \n",
       "20  t3_banfwp              155   \n",
       "21  t3_baa0mf               57   \n",
       "22  t3_bal328               64   \n",
       "23  t3_balevc               74   \n",
       "24  t3_bah95x              119   \n",
       "25  t3_bafs78               60   \n",
       "26  t3_baki60              211   \n",
       "27  t3_bag6wh               75   \n",
       "28  t3_bahufu               92   \n",
       "29  t3_bamuju               50   \n",
       "30  t3_bafye4               68   \n",
       "31  t3_bahjxz               56   \n",
       "32  t3_bah63k              103   \n",
       "33  t3_bagq4z               53   \n",
       "34  t3_banve7               22   \n",
       "\n",
       "                                            Post Text  Subreddit  \n",
       "0   In her own words... Antonia Okafor responds to...          0  \n",
       "1   Science shows that white liberals condescend t...          0  \n",
       "2                              That's not racist...\\n          0  \n",
       "3   Sir Mick Jagger had a heart valve problem and ...          0  \n",
       "4                          🎶My Heart Will Go Onnnn🎶\\n          0  \n",
       "5   FEC Records Indicate Hillary Campaign Illegall...          0  \n",
       "6   Elderly Communist Is Worried About Authoritari...          0  \n",
       "7   WATCH: Black Conservative Movement for America...          0  \n",
       "8   Kids Aren’t Born Trans — People who pursue a c...          0  \n",
       "9   Mexican Trump Supporter Assaulted by Psychotic...          0  \n",
       "10  New Zealand Police Confiscate Airsoft Pellet G...          0  \n",
       "11  Ex-democrat Staffer Pleads Guilty to 'Doxxing'...          0  \n",
       "12  Mexican with a Trump hat gets harassed by psyc...          0  \n",
       "13  Inside the Beltway: Obama references himself 4...          0  \n",
       "14  Cook County States Attorney Kim Foxx Defends S...          0  \n",
       "15  If the Dem-controlled media wanted to protect ...          0  \n",
       "16  Richard Nixon had an active role in the strate...          0  \n",
       "17  Obama Has Some Wise Words for Democrats, Warns...          0  \n",
       "18  Blizzard Bans “OK” hand gesture from coverage ...          0  \n",
       "19  Resisting Born-Alive Bill, Democrats Are Despe...          0  \n",
       "20  Video: Elderly White Man Verbally Assaulted fo...          0  \n",
       "21  A good lesson on market economics from an unli...          0  \n",
       "22  Bernie Sanders joins the Democrats bending a k...          0  \n",
       "23  Thousands in Britain left to go blind due to e...          0  \n",
       "24  Man Who Spent Last 2 Years Drawing Pictures Of...          0  \n",
       "25  Conservative Abroad: My Experience As A Trump ...          0  \n",
       "26  Who Is Getting Rich Off Institutionalizing Tra...          0  \n",
       "27  Candace Owens — I may be leading #BLEXIT...but...          0  \n",
       "28  Nunes to send eight criminal referrals to DOJ ...          0  \n",
       "29  China's Cultural Revolution Comes to North Ame...          0  \n",
       "30  Males at risk: 'Boy crisis' of identity jeopar...          0  \n",
       "31  Andrew Yang | The Ben Shapiro Show Sunday Spec...          0  \n",
       "32  Muslim MMA fighter Khabib Nurmagomedov warns r...          0  \n",
       "33  God Help Us: Atheism Becomes Largest Religion ...          0  \n",
       "34                           This speaks for itself\\n          0  "
      ]
     },
     "execution_count": 47,
     "metadata": {},
     "output_type": "execute_result"
    }
   ],
   "source": [
    "master_df.head(35)"
   ]
  },
  {
   "cell_type": "code",
   "execution_count": 48,
   "metadata": {},
   "outputs": [],
   "source": [
    "master_df.to_csv('./data/master_df.csv', index=False)"
   ]
  },
  {
   "cell_type": "markdown",
   "metadata": {},
   "source": [
    "## Continue to Project 3 - Part 2\n",
    "### Please exit notebook and open appropriately titled .ipynb file"
   ]
  },
  {
   "cell_type": "code",
   "execution_count": null,
   "metadata": {},
   "outputs": [],
   "source": []
  }
 ],
 "metadata": {
  "kernelspec": {
   "display_name": "Python 3",
   "language": "python",
   "name": "python3"
  },
  "language_info": {
   "codemirror_mode": {
    "name": "ipython",
    "version": 3
   },
   "file_extension": ".py",
   "mimetype": "text/x-python",
   "name": "python",
   "nbconvert_exporter": "python",
   "pygments_lexer": "ipython3",
   "version": "3.7.1"
  },
  "toc": {
   "base_numbering": 1,
   "nav_menu": {},
   "number_sections": true,
   "sideBar": true,
   "skip_h1_title": false,
   "title_cell": "Table of Contents",
   "title_sidebar": "Contents",
   "toc_cell": false,
   "toc_position": {},
   "toc_section_display": true,
   "toc_window_display": false
  }
 },
 "nbformat": 4,
 "nbformat_minor": 2
}
