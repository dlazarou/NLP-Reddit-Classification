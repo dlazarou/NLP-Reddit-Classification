{
 "cells": [
  {
   "cell_type": "markdown",
   "metadata": {},
   "source": [
    "\n",
    "# Utilizing NLP to Classify Political Subreddits (Democrats vs Republicans)\n",
    "## Content List- Part 1"
   ]
  },
  {
   "cell_type": "markdown",
   "metadata": {},
   "source": [
    "- [Problem Statement](#Problem-Statement)\n",
    "- [Executive Summary](#Executive-Summary)\n",
    "- [Data Collection](#Data-Collection)\n",
    "- [Data Cleaning and EDA](#Data-Cleaning-and-EDA)"
   ]
  },
  {
   "cell_type": "markdown",
   "metadata": {},
   "source": [
    "## Problem Statement\n",
    "\n",
    "What patterns exist in online text that we can extract, analyze and use to refine online business models? I will be utilizing Natural Language Processing (NLP) to determine whether the author would be closer aligned to the Democratic or Conservative parties, by analyzing /r/Democrats and /r/Conservative on Reddit. \n",
    "The goal will be to build and test an assortment of classification models that can predict whether the author is more likely to hold conservative or liberal views, so that we can advise an online advertiser which ads to run for which audiences.\n"
   ]
  },
  {
   "cell_type": "markdown",
   "metadata": {},
   "source": [
    "## Executive Summary"
   ]
  },
  {
   "cell_type": "markdown",
   "metadata": {},
   "source": [
    "Part 1 of this project focuses on the data gathering, wrangling, cleaning and processing from \"Natural Language\" to something that computers can interpret and model, specifically numerical values. \n",
    "\n",
    "The source of our data is one of the current most popular websites for conversations, discussions and arguments on the internet, none other than www.Reddit.com. Home to over 26 Million monthly users, 850,000 subreddits and 18 billion monthly pageviews, Reddit is one of the premier locations on the internet for distribution, manipulation and consumption of data. What better way for us to test a model's ability to classify input into discrete classes than the hotbed of online discussion itself?\n",
    "\n",
    "In our efforts to classify the text, we will be combining the text from the title as well as the body of the post in order to maximize our analytical process' capacity. This will provide a larger corpus for each post, which will result in a largely and hopefully more robust corpora to train our algorithm. In comparing the subreddits by the numbers, r/Democrats has less subscribers with 91k as compared to /r/Conservative’s 205k, but how do their word usages stack up?\n",
    "\n",
    "We begin by utilizing the Reddit API to scrape the information from two politically themed subreddits: /r/Democrats and /r/Republicans. In total, we will attempt to pull 1000 posts per subreddit for a total of 2000, but understand that we may fall short due to duplicates or issues with the API's limits. \n",
    "\n",
    "After reading in the data, we ensure there are no duplicate posts, we utilize the Pandas library to convert all title and post text dictionaries into dataframes where the text and subreddit location are included, but the subreddit itself is binarized in order to make it feasible for our model to understand. \n",
    "\n",
    "Our dataset is then split up into train and test partitions before being fed into a series of models in order to determine the most apt model for our use. The vectorizers that we will employ in order to tokenize the words and additionally clean the text are: CountVectorizer as well as TF-IDF Vectorizer. Although similar to CountVectorizer, TF-IDF is being utilized due to the vectorizer's purpose in controlling the frequency of terms across documents and datasets alike, introducing penalties for reoccuring words. This will help us in our attempts to understand the online text that we have scraped.\n",
    "\n",
    "For the model selection, we have many at our disposal but will be utilizing the following: LogisticRegression, MultinomialNaiveBayes, RandomForest and finally AdaBoost. These are models that are adept at classification problems in which we are seeking to understand if something is one of two possibilities, with success being measured in Accuracy.\n",
    "\n",
    "Before getting to the modeling however, we will save the dataframe to a .csv file, in order to lower the potential for needing to rescrape the data and subsequently starting over on the analytical process. Part 2 of this Notebook will pick up from where the end of Part 1 leaves off, with importing the newly formed .csv files and proceeding as planned."
   ]
  },
  {
   "cell_type": "markdown",
   "metadata": {},
   "source": [
    "## Data Collection"
   ]
  },
  {
   "cell_type": "markdown",
   "metadata": {},
   "source": [
    "#### Import libraries"
   ]
  },
  {
   "cell_type": "code",
   "execution_count": 1,
   "metadata": {
    "ExecuteTime": {
     "end_time": "2019-07-07T19:34:30.658458Z",
     "start_time": "2019-07-07T19:34:30.653066Z"
    }
   },
   "outputs": [],
   "source": [
    "import matplotlib.pyplot as plt\n",
    "\n",
    "from nltk.stem import WordNetLemmatizer\n",
    "import warnings\n",
    "warnings.filterwarnings('ignore')\n",
    "import requests\n",
    "import time\n",
    "import numpy as np\n",
    "import pandas as pd"
   ]
  },
  {
   "cell_type": "code",
   "execution_count": 2,
   "metadata": {
    "ExecuteTime": {
     "end_time": "2019-07-07T19:34:31.087728Z",
     "start_time": "2019-07-07T19:34:31.073707Z"
    }
   },
   "outputs": [],
   "source": [
    "# Define URL and username\n",
    "url_democrats = \"https://www.reddit.com/r/Democrats/.json\" # change subreddit here\n",
    "url_republicans = \"https://www.reddit.com/r/Republicans/.json\"\n",
    "username = {\"User-agent\": 'omgitsjonnn'}      # header to prevent 429 error```"
   ]
  },
  {
   "cell_type": "code",
   "execution_count": 3,
   "metadata": {
    "ExecuteTime": {
     "end_time": "2019-07-07T19:34:31.331575Z",
     "start_time": "2019-07-07T19:34:31.322578Z"
    }
   },
   "outputs": [],
   "source": [
    "# Function to pull subreddit posts\n",
    "def get_subreddit(url, n_pulls, headers):    \n",
    "\n",
    "    # Create empty templates\n",
    "    posts = []\n",
    "    after = None\n",
    "    duplicates = []\n",
    "    # Create a loop that does max 25 requests per pull\n",
    "    for pull_num in range(n_pulls):\n",
    "        print(\"Pulling data attempted\", pull_num+1,\"time(s)\")\n",
    "\n",
    "        if after == None:\n",
    "            new_url = url                 # base case\n",
    "        else:\n",
    "            new_url = url+\"?after=\"+after # subsequent iterations\n",
    "\n",
    "        res = requests.get(new_url, headers=headers)\n",
    "\n",
    "        if res.status_code == 200:\n",
    "            subreddit_json = res.json()                      # Pull JSON\n",
    "            posts.extend(subreddit_json['data']['children']) # Get subreddit posts\n",
    "            after = subreddit_json['data']['after']          # 'after' = ID of the last post in this iteration\n",
    "        else:\n",
    "            print(\"We've run into an error. The status code is:\", res.status_code)\n",
    "            break\n",
    "\n",
    "        time.sleep(1)\n",
    "        \n",
    "    return(posts)\n"
   ]
  },
  {
   "cell_type": "code",
   "execution_count": 4,
   "metadata": {
    "ExecuteTime": {
     "end_time": "2019-07-07T19:35:47.351369Z",
     "start_time": "2019-07-07T19:34:31.796852Z"
    },
    "scrolled": true
   },
   "outputs": [
    {
     "name": "stdout",
     "output_type": "stream",
     "text": [
      "Pulling data attempted 1 time(s)\n",
      "Pulling data attempted 2 time(s)\n",
      "Pulling data attempted 3 time(s)\n",
      "Pulling data attempted 4 time(s)\n",
      "Pulling data attempted 5 time(s)\n",
      "Pulling data attempted 6 time(s)\n",
      "Pulling data attempted 7 time(s)\n",
      "Pulling data attempted 8 time(s)\n",
      "Pulling data attempted 9 time(s)\n",
      "Pulling data attempted 10 time(s)\n",
      "Pulling data attempted 11 time(s)\n",
      "Pulling data attempted 12 time(s)\n",
      "Pulling data attempted 13 time(s)\n",
      "Pulling data attempted 14 time(s)\n",
      "Pulling data attempted 15 time(s)\n",
      "Pulling data attempted 16 time(s)\n",
      "Pulling data attempted 17 time(s)\n",
      "Pulling data attempted 18 time(s)\n",
      "Pulling data attempted 19 time(s)\n",
      "Pulling data attempted 20 time(s)\n",
      "Pulling data attempted 21 time(s)\n",
      "Pulling data attempted 22 time(s)\n",
      "Pulling data attempted 23 time(s)\n",
      "Pulling data attempted 24 time(s)\n",
      "Pulling data attempted 25 time(s)\n",
      "Pulling data attempted 26 time(s)\n",
      "Pulling data attempted 27 time(s)\n",
      "Pulling data attempted 28 time(s)\n",
      "Pulling data attempted 29 time(s)\n",
      "Pulling data attempted 30 time(s)\n",
      "Pulling data attempted 31 time(s)\n",
      "Pulling data attempted 32 time(s)\n",
      "Pulling data attempted 33 time(s)\n",
      "Pulling data attempted 34 time(s)\n",
      "Pulling data attempted 35 time(s)\n",
      "Pulling data attempted 36 time(s)\n",
      "Pulling data attempted 37 time(s)\n",
      "Pulling data attempted 38 time(s)\n",
      "Pulling data attempted 39 time(s)\n",
      "Pulling data attempted 40 time(s)\n",
      "Pulling data attempted 41 time(s)\n",
      "Pulling data attempted 42 time(s)\n",
      "Pulling data attempted 43 time(s)\n",
      "Pulling data attempted 44 time(s)\n",
      "Pulling data attempted 45 time(s)\n",
      "Pulling data attempted 46 time(s)\n",
      "Pulling data attempted 47 time(s)\n",
      "Pulling data attempted 48 time(s)\n",
      "Pulling data attempted 49 time(s)\n",
      "Pulling data attempted 50 time(s)\n"
     ]
    }
   ],
   "source": [
    "get_republicans = get_subreddit(url_republicans, n_pulls = 50, headers= username)"
   ]
  },
  {
   "cell_type": "code",
   "execution_count": 5,
   "metadata": {
    "ExecuteTime": {
     "end_time": "2019-07-07T19:36:58.824678Z",
     "start_time": "2019-07-07T19:35:47.354009Z"
    },
    "scrolled": true
   },
   "outputs": [
    {
     "name": "stdout",
     "output_type": "stream",
     "text": [
      "Pulling data attempted 1 time(s)\n",
      "Pulling data attempted 2 time(s)\n",
      "Pulling data attempted 3 time(s)\n",
      "Pulling data attempted 4 time(s)\n",
      "Pulling data attempted 5 time(s)\n",
      "Pulling data attempted 6 time(s)\n",
      "Pulling data attempted 7 time(s)\n",
      "Pulling data attempted 8 time(s)\n",
      "Pulling data attempted 9 time(s)\n",
      "Pulling data attempted 10 time(s)\n",
      "Pulling data attempted 11 time(s)\n",
      "Pulling data attempted 12 time(s)\n",
      "Pulling data attempted 13 time(s)\n",
      "Pulling data attempted 14 time(s)\n",
      "Pulling data attempted 15 time(s)\n",
      "Pulling data attempted 16 time(s)\n",
      "Pulling data attempted 17 time(s)\n",
      "Pulling data attempted 18 time(s)\n",
      "Pulling data attempted 19 time(s)\n",
      "Pulling data attempted 20 time(s)\n",
      "Pulling data attempted 21 time(s)\n",
      "Pulling data attempted 22 time(s)\n",
      "Pulling data attempted 23 time(s)\n",
      "Pulling data attempted 24 time(s)\n",
      "Pulling data attempted 25 time(s)\n",
      "Pulling data attempted 26 time(s)\n",
      "Pulling data attempted 27 time(s)\n",
      "Pulling data attempted 28 time(s)\n",
      "Pulling data attempted 29 time(s)\n",
      "Pulling data attempted 30 time(s)\n",
      "Pulling data attempted 31 time(s)\n",
      "Pulling data attempted 32 time(s)\n",
      "Pulling data attempted 33 time(s)\n",
      "Pulling data attempted 34 time(s)\n",
      "Pulling data attempted 35 time(s)\n",
      "Pulling data attempted 36 time(s)\n",
      "Pulling data attempted 37 time(s)\n",
      "Pulling data attempted 38 time(s)\n",
      "Pulling data attempted 39 time(s)\n",
      "Pulling data attempted 40 time(s)\n",
      "Pulling data attempted 41 time(s)\n",
      "Pulling data attempted 42 time(s)\n",
      "Pulling data attempted 43 time(s)\n",
      "Pulling data attempted 44 time(s)\n",
      "Pulling data attempted 45 time(s)\n",
      "Pulling data attempted 46 time(s)\n",
      "Pulling data attempted 47 time(s)\n",
      "Pulling data attempted 48 time(s)\n",
      "Pulling data attempted 49 time(s)\n",
      "Pulling data attempted 50 time(s)\n"
     ]
    }
   ],
   "source": [
    "# Call function to get democrats data\n",
    "get_democrats = get_subreddit(url_democrats, n_pulls = 50, headers = username)"
   ]
  },
  {
   "cell_type": "code",
   "execution_count": 6,
   "metadata": {
    "ExecuteTime": {
     "end_time": "2019-07-07T19:39:37.930003Z",
     "start_time": "2019-07-07T19:39:37.917629Z"
    },
    "scrolled": false
   },
   "outputs": [
    {
     "data": {
      "text/plain": [
       "{'kind': 't3',\n",
       " 'data': {'approved_at_utc': None,\n",
       "  'subreddit': 'democrats',\n",
       "  'selftext': '',\n",
       "  'author_fullname': 't2_5yzx71bd',\n",
       "  'saved': False,\n",
       "  'mod_reason_title': None,\n",
       "  'gilded': 0,\n",
       "  'clicked': False,\n",
       "  'title': \"Biden caught on hot mic calling Fox reporter 'a stupid son of a bitch' - Way to go Joe.. Someone had Call Out FoxLies flamethrowers, Jen Psaki is too polite\",\n",
       "  'link_flair_richtext': [{'a': ':snoo_feelsgoodman:',\n",
       "    'e': 'emoji',\n",
       "    'u': 'https://emoji.redditmedia.com/nbv1idzmaezz_t5_3nqvj/snoo_feelsgoodman'},\n",
       "   {'e': 'text', 't': ' Discussion '},\n",
       "   {'a': ':snoo_thoughtful:',\n",
       "    'e': 'emoji',\n",
       "    'u': 'https://emoji.redditmedia.com/7jhvwsc5aezz_t5_3nqvj/snoo_thoughtful'}],\n",
       "  'subreddit_name_prefixed': 'r/democrats',\n",
       "  'hidden': False,\n",
       "  'pwls': 6,\n",
       "  'link_flair_css_class': '',\n",
       "  'downs': 0,\n",
       "  'thumbnail_height': 78,\n",
       "  'top_awarded_type': None,\n",
       "  'hide_score': False,\n",
       "  'name': 't3_sc0485',\n",
       "  'quarantine': False,\n",
       "  'link_flair_text_color': 'light',\n",
       "  'upvote_ratio': 0.91,\n",
       "  'author_flair_background_color': None,\n",
       "  'ups': 1322,\n",
       "  'total_awards_received': 0,\n",
       "  'media_embed': {},\n",
       "  'thumbnail_width': 140,\n",
       "  'author_flair_template_id': None,\n",
       "  'is_original_content': False,\n",
       "  'user_reports': [],\n",
       "  'secure_media': None,\n",
       "  'is_reddit_media_domain': False,\n",
       "  'is_meta': False,\n",
       "  'category': None,\n",
       "  'secure_media_embed': {},\n",
       "  'link_flair_text': ':snoo_feelsgoodman: Discussion :snoo_thoughtful:',\n",
       "  'can_mod_post': False,\n",
       "  'score': 1322,\n",
       "  'approved_by': None,\n",
       "  'is_created_from_ads_ui': False,\n",
       "  'author_premium': False,\n",
       "  'thumbnail': 'https://b.thumbs.redditmedia.com/XABBnE-n0yfO4abdjUZBRJ3zCZcBqb9aqDfO9g-f99k.jpg',\n",
       "  'edited': False,\n",
       "  'author_flair_css_class': None,\n",
       "  'author_flair_richtext': [],\n",
       "  'gildings': {},\n",
       "  'post_hint': 'link',\n",
       "  'content_categories': None,\n",
       "  'is_self': False,\n",
       "  'subreddit_type': 'public',\n",
       "  'created': 1643068083.0,\n",
       "  'link_flair_type': 'richtext',\n",
       "  'wls': 6,\n",
       "  'removed_by_category': None,\n",
       "  'banned_by': None,\n",
       "  'author_flair_type': 'text',\n",
       "  'domain': 'cnn.com',\n",
       "  'allow_live_comments': True,\n",
       "  'selftext_html': None,\n",
       "  'likes': None,\n",
       "  'suggested_sort': None,\n",
       "  'banned_at_utc': None,\n",
       "  'url_overridden_by_dest': 'https://www.cnn.com/2022/01/24/politics/biden-calls-reporter/index.html',\n",
       "  'view_count': None,\n",
       "  'archived': False,\n",
       "  'no_follow': False,\n",
       "  'is_crosspostable': False,\n",
       "  'pinned': False,\n",
       "  'over_18': False,\n",
       "  'preview': {'images': [{'source': {'url': 'https://external-preview.redd.it/mENmr2LOWDogDo1tynGCNtObHjr8vbuWa1heaYu9TAc.jpg?auto=webp&amp;s=d6562ab05682ace943318c4b0b0ae11eafad1de5',\n",
       "      'width': 1100,\n",
       "      'height': 619},\n",
       "     'resolutions': [{'url': 'https://external-preview.redd.it/mENmr2LOWDogDo1tynGCNtObHjr8vbuWa1heaYu9TAc.jpg?width=108&amp;crop=smart&amp;auto=webp&amp;s=b8ff254edfca20482dff59d9195261a22c2fab35',\n",
       "       'width': 108,\n",
       "       'height': 60},\n",
       "      {'url': 'https://external-preview.redd.it/mENmr2LOWDogDo1tynGCNtObHjr8vbuWa1heaYu9TAc.jpg?width=216&amp;crop=smart&amp;auto=webp&amp;s=0f436754bf61fb4eb711c88af5a1dd471bb26e1d',\n",
       "       'width': 216,\n",
       "       'height': 121},\n",
       "      {'url': 'https://external-preview.redd.it/mENmr2LOWDogDo1tynGCNtObHjr8vbuWa1heaYu9TAc.jpg?width=320&amp;crop=smart&amp;auto=webp&amp;s=6c935f92d4e19b106c852f5a370540c050b58111',\n",
       "       'width': 320,\n",
       "       'height': 180},\n",
       "      {'url': 'https://external-preview.redd.it/mENmr2LOWDogDo1tynGCNtObHjr8vbuWa1heaYu9TAc.jpg?width=640&amp;crop=smart&amp;auto=webp&amp;s=ef298ed1fd575f06f9cb17b40fa8dba606f53c4e',\n",
       "       'width': 640,\n",
       "       'height': 360},\n",
       "      {'url': 'https://external-preview.redd.it/mENmr2LOWDogDo1tynGCNtObHjr8vbuWa1heaYu9TAc.jpg?width=960&amp;crop=smart&amp;auto=webp&amp;s=00b700ba33c9f07e665a71c0cf9d032b21d31345',\n",
       "       'width': 960,\n",
       "       'height': 540},\n",
       "      {'url': 'https://external-preview.redd.it/mENmr2LOWDogDo1tynGCNtObHjr8vbuWa1heaYu9TAc.jpg?width=1080&amp;crop=smart&amp;auto=webp&amp;s=5b74cf9236eab5c920b2f69e4067521718922f97',\n",
       "       'width': 1080,\n",
       "       'height': 607}],\n",
       "     'variants': {},\n",
       "     'id': 'LeIXAT4i3IVAeB1CY5ZouSdevh30gGx7SpSjPf6-xc4'}],\n",
       "   'enabled': False},\n",
       "  'all_awardings': [],\n",
       "  'awarders': [],\n",
       "  'media_only': False,\n",
       "  'link_flair_template_id': '0bf3b48c-dd5a-11ea-891c-0eb295b8865f',\n",
       "  'can_gild': False,\n",
       "  'spoiler': False,\n",
       "  'locked': False,\n",
       "  'author_flair_text': None,\n",
       "  'treatment_tags': [],\n",
       "  'visited': False,\n",
       "  'removed_by': None,\n",
       "  'mod_note': None,\n",
       "  'distinguished': None,\n",
       "  'subreddit_id': 't5_2qn70',\n",
       "  'author_is_blocked': False,\n",
       "  'mod_reason_by': None,\n",
       "  'num_reports': None,\n",
       "  'removal_reason': None,\n",
       "  'link_flair_background_color': '#ff4500',\n",
       "  'id': 'sc0485',\n",
       "  'is_robot_indexable': True,\n",
       "  'report_reasons': None,\n",
       "  'author': 'nkaufman11',\n",
       "  'discussion_type': None,\n",
       "  'num_comments': 174,\n",
       "  'send_replies': True,\n",
       "  'whitelist_status': 'all_ads',\n",
       "  'contest_mode': False,\n",
       "  'mod_reports': [],\n",
       "  'author_patreon_flair': False,\n",
       "  'author_flair_text_color': None,\n",
       "  'permalink': '/r/democrats/comments/sc0485/biden_caught_on_hot_mic_calling_fox_reporter_a/',\n",
       "  'parent_whitelist_status': 'all_ads',\n",
       "  'stickied': False,\n",
       "  'url': 'https://www.cnn.com/2022/01/24/politics/biden-calls-reporter/index.html',\n",
       "  'subreddit_subscribers': 351118,\n",
       "  'created_utc': 1643068083.0,\n",
       "  'num_crossposts': 2,\n",
       "  'media': None,\n",
       "  'is_video': False}}"
      ]
     },
     "execution_count": 6,
     "metadata": {},
     "output_type": "execute_result"
    }
   ],
   "source": [
    "# choosing what information we should be extracting for our analysis\n",
    "get_democrats[1]"
   ]
  },
  {
   "cell_type": "code",
   "execution_count": 7,
   "metadata": {
    "ExecuteTime": {
     "end_time": "2019-07-07T19:39:38.750334Z",
     "start_time": "2019-07-07T19:39:38.740633Z"
    }
   },
   "outputs": [
    {
     "data": {
      "text/plain": [
       "'t3_scearb'"
      ]
     },
     "execution_count": 7,
     "metadata": {},
     "output_type": "execute_result"
    }
   ],
   "source": [
    "#displaying the unique identifier that we will use to differentiate posts\n",
    "get_republicans[1]['data']['name']"
   ]
  },
  {
   "cell_type": "code",
   "execution_count": 8,
   "metadata": {
    "ExecuteTime": {
     "end_time": "2019-07-07T19:39:39.097465Z",
     "start_time": "2019-07-07T19:39:39.087822Z"
    }
   },
   "outputs": [],
   "source": [
    "#build a function to automatically convert the data from post lists to df\n",
    "def df_posts(post_list):\n",
    "    post_titles = []\n",
    "    dupes = []\n",
    "    \n",
    "    for i in range(len(post_list)):\n",
    "        if post_list[i]['data']['name'] in dupes:\n",
    "            pass\n",
    "        else:\n",
    "            title_dict = {}\n",
    "            if type(post_list[i]['data']['selftext']) == str:\n",
    "                title_dict['Post Text']= post_list[i]['data']['title'] + '\\n' + post_list[i]['data']['selftext']\n",
    "            \n",
    "            else:\n",
    "                title_dict['Post Text'] = post_list[i]['data']['title']\n",
    "            title_dict['Subreddit'] = post_list[i]['data']['subreddit']\n",
    "            title_dict['Length of Title'] = len(post_list[i]['data']['title'])\n",
    "            title_dict['ID'] = post_list[i]['data']['name']\n",
    "            post_titles.append(title_dict)\n",
    "            dupes.append(post_list[i]['data']['name'])\n",
    "\n",
    "    return pd.DataFrame(post_titles)"
   ]
  },
  {
   "cell_type": "code",
   "execution_count": 9,
   "metadata": {
    "ExecuteTime": {
     "end_time": "2019-07-07T19:39:39.423832Z",
     "start_time": "2019-07-07T19:39:39.384085Z"
    }
   },
   "outputs": [
    {
     "data": {
      "text/html": [
       "<div>\n",
       "<style scoped>\n",
       "    .dataframe tbody tr th:only-of-type {\n",
       "        vertical-align: middle;\n",
       "    }\n",
       "\n",
       "    .dataframe tbody tr th {\n",
       "        vertical-align: top;\n",
       "    }\n",
       "\n",
       "    .dataframe thead th {\n",
       "        text-align: right;\n",
       "    }\n",
       "</style>\n",
       "<table border=\"1\" class=\"dataframe\">\n",
       "  <thead>\n",
       "    <tr style=\"text-align: right;\">\n",
       "      <th></th>\n",
       "      <th>Post Text</th>\n",
       "      <th>Subreddit</th>\n",
       "      <th>Length of Title</th>\n",
       "      <th>ID</th>\n",
       "    </tr>\n",
       "  </thead>\n",
       "  <tbody>\n",
       "    <tr>\n",
       "      <th>0</th>\n",
       "      <td>Democrats Have a Chance to Flip 24 Federal Cou...</td>\n",
       "      <td>democrats</td>\n",
       "      <td>62</td>\n",
       "      <td>t3_scfgda</td>\n",
       "    </tr>\n",
       "    <tr>\n",
       "      <th>1</th>\n",
       "      <td>Biden caught on hot mic calling Fox reporter '...</td>\n",
       "      <td>democrats</td>\n",
       "      <td>156</td>\n",
       "      <td>t3_sc0485</td>\n",
       "    </tr>\n",
       "    <tr>\n",
       "      <th>2</th>\n",
       "      <td>Biden calls Fox News reporter Peter Doocy 'a s...</td>\n",
       "      <td>democrats</td>\n",
       "      <td>67</td>\n",
       "      <td>t3_sc1kip</td>\n",
       "    </tr>\n",
       "    <tr>\n",
       "      <th>3</th>\n",
       "      <td>How gerrymandering makes the US House intensel...</td>\n",
       "      <td>democrats</td>\n",
       "      <td>56</td>\n",
       "      <td>t3_scdn3o</td>\n",
       "    </tr>\n",
       "    <tr>\n",
       "      <th>4</th>\n",
       "      <td>Biden says GOP obstructionism is worse now tha...</td>\n",
       "      <td>democrats</td>\n",
       "      <td>75</td>\n",
       "      <td>t3_sbs636</td>\n",
       "    </tr>\n",
       "  </tbody>\n",
       "</table>\n",
       "</div>"
      ],
      "text/plain": [
       "                                           Post Text  Subreddit  \\\n",
       "0  Democrats Have a Chance to Flip 24 Federal Cou...  democrats   \n",
       "1  Biden caught on hot mic calling Fox reporter '...  democrats   \n",
       "2  Biden calls Fox News reporter Peter Doocy 'a s...  democrats   \n",
       "3  How gerrymandering makes the US House intensel...  democrats   \n",
       "4  Biden says GOP obstructionism is worse now tha...  democrats   \n",
       "\n",
       "   Length of Title         ID  \n",
       "0               62  t3_scfgda  \n",
       "1              156  t3_sc0485  \n",
       "2               67  t3_sc1kip  \n",
       "3               56  t3_scdn3o  \n",
       "4               75  t3_sbs636  "
      ]
     },
     "execution_count": 9,
     "metadata": {},
     "output_type": "execute_result"
    }
   ],
   "source": [
    "#convert the list of democrat posts to a dataframe\n",
    "dem_df = df_posts(get_democrats)\n",
    "dem_df.head()"
   ]
  },
  {
   "cell_type": "code",
   "execution_count": 10,
   "metadata": {
    "ExecuteTime": {
     "end_time": "2019-07-07T19:39:39.724727Z",
     "start_time": "2019-07-07T19:39:39.701078Z"
    }
   },
   "outputs": [
    {
     "data": {
      "text/plain": [
       "(947, 4)"
      ]
     },
     "execution_count": 10,
     "metadata": {},
     "output_type": "execute_result"
    }
   ],
   "source": [
    "#convert the list of conservative posts to a dataframe\n",
    "rep_df = df_posts(get_republicans)\n",
    "rep_df.shape"
   ]
  },
  {
   "cell_type": "code",
   "execution_count": 11,
   "metadata": {
    "ExecuteTime": {
     "end_time": "2019-07-07T19:39:39.960398Z",
     "start_time": "2019-07-07T19:39:39.945627Z"
    },
    "scrolled": true
   },
   "outputs": [
    {
     "data": {
      "text/html": [
       "<div>\n",
       "<style scoped>\n",
       "    .dataframe tbody tr th:only-of-type {\n",
       "        vertical-align: middle;\n",
       "    }\n",
       "\n",
       "    .dataframe tbody tr th {\n",
       "        vertical-align: top;\n",
       "    }\n",
       "\n",
       "    .dataframe thead th {\n",
       "        text-align: right;\n",
       "    }\n",
       "</style>\n",
       "<table border=\"1\" class=\"dataframe\">\n",
       "  <thead>\n",
       "    <tr style=\"text-align: right;\">\n",
       "      <th></th>\n",
       "      <th>Post Text</th>\n",
       "      <th>Subreddit</th>\n",
       "      <th>Length of Title</th>\n",
       "      <th>ID</th>\n",
       "    </tr>\n",
       "  </thead>\n",
       "  <tbody>\n",
       "    <tr>\n",
       "      <th>0</th>\n",
       "      <td>Democrats Have a Chance to Flip 24 Federal Cou...</td>\n",
       "      <td>democrats</td>\n",
       "      <td>62</td>\n",
       "      <td>t3_scfgda</td>\n",
       "    </tr>\n",
       "    <tr>\n",
       "      <th>1</th>\n",
       "      <td>Biden caught on hot mic calling Fox reporter '...</td>\n",
       "      <td>democrats</td>\n",
       "      <td>156</td>\n",
       "      <td>t3_sc0485</td>\n",
       "    </tr>\n",
       "    <tr>\n",
       "      <th>2</th>\n",
       "      <td>Biden calls Fox News reporter Peter Doocy 'a s...</td>\n",
       "      <td>democrats</td>\n",
       "      <td>67</td>\n",
       "      <td>t3_sc1kip</td>\n",
       "    </tr>\n",
       "    <tr>\n",
       "      <th>3</th>\n",
       "      <td>How gerrymandering makes the US House intensel...</td>\n",
       "      <td>democrats</td>\n",
       "      <td>56</td>\n",
       "      <td>t3_scdn3o</td>\n",
       "    </tr>\n",
       "    <tr>\n",
       "      <th>4</th>\n",
       "      <td>Biden says GOP obstructionism is worse now tha...</td>\n",
       "      <td>democrats</td>\n",
       "      <td>75</td>\n",
       "      <td>t3_sbs636</td>\n",
       "    </tr>\n",
       "  </tbody>\n",
       "</table>\n",
       "</div>"
      ],
      "text/plain": [
       "                                           Post Text  Subreddit  \\\n",
       "0  Democrats Have a Chance to Flip 24 Federal Cou...  democrats   \n",
       "1  Biden caught on hot mic calling Fox reporter '...  democrats   \n",
       "2  Biden calls Fox News reporter Peter Doocy 'a s...  democrats   \n",
       "3  How gerrymandering makes the US House intensel...  democrats   \n",
       "4  Biden says GOP obstructionism is worse now tha...  democrats   \n",
       "\n",
       "   Length of Title         ID  \n",
       "0               62  t3_scfgda  \n",
       "1              156  t3_sc0485  \n",
       "2               67  t3_sc1kip  \n",
       "3               56  t3_scdn3o  \n",
       "4               75  t3_sbs636  "
      ]
     },
     "execution_count": 11,
     "metadata": {},
     "output_type": "execute_result"
    }
   ],
   "source": [
    "dem_df.head()"
   ]
  },
  {
   "cell_type": "code",
   "execution_count": 12,
   "metadata": {
    "ExecuteTime": {
     "end_time": "2019-07-07T19:39:40.237667Z",
     "start_time": "2019-07-07T19:39:40.217027Z"
    }
   },
   "outputs": [
    {
     "data": {
      "text/html": [
       "<div>\n",
       "<style scoped>\n",
       "    .dataframe tbody tr th:only-of-type {\n",
       "        vertical-align: middle;\n",
       "    }\n",
       "\n",
       "    .dataframe tbody tr th {\n",
       "        vertical-align: top;\n",
       "    }\n",
       "\n",
       "    .dataframe thead th {\n",
       "        text-align: right;\n",
       "    }\n",
       "</style>\n",
       "<table border=\"1\" class=\"dataframe\">\n",
       "  <thead>\n",
       "    <tr style=\"text-align: right;\">\n",
       "      <th></th>\n",
       "      <th>Post Text</th>\n",
       "      <th>Subreddit</th>\n",
       "      <th>Length of Title</th>\n",
       "      <th>ID</th>\n",
       "    </tr>\n",
       "  </thead>\n",
       "  <tbody>\n",
       "    <tr>\n",
       "      <th>0</th>\n",
       "      <td>Kyle Rittenhouse needs to sue the Washington C...</td>\n",
       "      <td>republicans</td>\n",
       "      <td>62</td>\n",
       "      <td>t3_qyl2l1</td>\n",
       "    </tr>\n",
       "    <tr>\n",
       "      <th>1</th>\n",
       "      <td>\"Liz Cheney &amp;amp; her Dem friends are using th...</td>\n",
       "      <td>republicans</td>\n",
       "      <td>165</td>\n",
       "      <td>t3_scearb</td>\n",
       "    </tr>\n",
       "    <tr>\n",
       "      <th>2</th>\n",
       "      <td>Thank God for that!\\n</td>\n",
       "      <td>republicans</td>\n",
       "      <td>19</td>\n",
       "      <td>t3_sci7b6</td>\n",
       "    </tr>\n",
       "    <tr>\n",
       "      <th>3</th>\n",
       "      <td>Criminals are targeting cops at historic level...</td>\n",
       "      <td>republicans</td>\n",
       "      <td>84</td>\n",
       "      <td>t3_scdve8</td>\n",
       "    </tr>\n",
       "    <tr>\n",
       "      <th>4</th>\n",
       "      <td>You cannot make this shit up. 🤣🤣🤣 --- 🤡🌎\\n</td>\n",
       "      <td>republicans</td>\n",
       "      <td>40</td>\n",
       "      <td>t3_sc18ao</td>\n",
       "    </tr>\n",
       "  </tbody>\n",
       "</table>\n",
       "</div>"
      ],
      "text/plain": [
       "                                           Post Text    Subreddit  \\\n",
       "0  Kyle Rittenhouse needs to sue the Washington C...  republicans   \n",
       "1  \"Liz Cheney &amp; her Dem friends are using th...  republicans   \n",
       "2                              Thank God for that!\\n  republicans   \n",
       "3  Criminals are targeting cops at historic level...  republicans   \n",
       "4         You cannot make this shit up. 🤣🤣🤣 --- 🤡🌎\\n  republicans   \n",
       "\n",
       "   Length of Title         ID  \n",
       "0               62  t3_qyl2l1  \n",
       "1              165  t3_scearb  \n",
       "2               19  t3_sci7b6  \n",
       "3               84  t3_scdve8  \n",
       "4               40  t3_sc18ao  "
      ]
     },
     "execution_count": 12,
     "metadata": {},
     "output_type": "execute_result"
    }
   ],
   "source": [
    "rep_df.head()"
   ]
  },
  {
   "cell_type": "code",
   "execution_count": 13,
   "metadata": {
    "ExecuteTime": {
     "end_time": "2019-07-07T19:39:40.438340Z",
     "start_time": "2019-07-07T19:39:40.426938Z"
    }
   },
   "outputs": [
    {
     "data": {
      "text/plain": [
       "947"
      ]
     },
     "execution_count": 13,
     "metadata": {},
     "output_type": "execute_result"
    }
   ],
   "source": [
    "#check length of Conservative posts dataframe\n",
    "len(set(rep_df['ID']))"
   ]
  },
  {
   "cell_type": "code",
   "execution_count": 14,
   "metadata": {
    "ExecuteTime": {
     "end_time": "2019-07-07T19:39:40.649936Z",
     "start_time": "2019-07-07T19:39:40.639757Z"
    },
    "scrolled": true
   },
   "outputs": [
    {
     "data": {
      "text/plain": [
       "578"
      ]
     },
     "execution_count": 14,
     "metadata": {},
     "output_type": "execute_result"
    }
   ],
   "source": [
    "#check length of Democrats posts dataframe\n",
    "len(set(dem_df['ID']))"
   ]
  },
  {
   "cell_type": "markdown",
   "metadata": {},
   "source": [
    "## Data Cleaning and EDA"
   ]
  },
  {
   "cell_type": "code",
   "execution_count": 15,
   "metadata": {
    "ExecuteTime": {
     "end_time": "2019-07-07T19:39:41.061546Z",
     "start_time": "2019-07-07T19:39:41.019795Z"
    }
   },
   "outputs": [],
   "source": [
    "#concatenate each df into one master_df\n",
    "master_df = pd.merge(rep_df, dem_df, how= 'outer')"
   ]
  },
  {
   "cell_type": "code",
   "execution_count": 16,
   "metadata": {
    "ExecuteTime": {
     "end_time": "2019-07-07T19:39:41.222614Z",
     "start_time": "2019-07-07T19:39:41.208342Z"
    }
   },
   "outputs": [
    {
     "data": {
      "text/plain": [
       "1525"
      ]
     },
     "execution_count": 16,
     "metadata": {},
     "output_type": "execute_result"
    }
   ],
   "source": [
    "len(master_df)"
   ]
  },
  {
   "cell_type": "code",
   "execution_count": 17,
   "metadata": {
    "ExecuteTime": {
     "end_time": "2019-07-07T19:39:41.397332Z",
     "start_time": "2019-07-07T19:39:41.384659Z"
    },
    "scrolled": false
   },
   "outputs": [
    {
     "data": {
      "text/plain": [
       "Post Text          0\n",
       "Subreddit          0\n",
       "Length of Title    0\n",
       "ID                 0\n",
       "dtype: int64"
      ]
     },
     "execution_count": 17,
     "metadata": {},
     "output_type": "execute_result"
    }
   ],
   "source": [
    "#check for nulls\n",
    "master_df.isnull().sum()"
   ]
  },
  {
   "cell_type": "markdown",
   "metadata": {},
   "source": [
    "#### Binarizing Target Features: Democrats vs Republicans"
   ]
  },
  {
   "cell_type": "code",
   "execution_count": 18,
   "metadata": {
    "ExecuteTime": {
     "end_time": "2019-07-07T19:39:41.774023Z",
     "start_time": "2019-07-07T19:39:41.763589Z"
    }
   },
   "outputs": [],
   "source": [
    "#transforming the target into 1 for Democrats and 0 for Conservative\n",
    "master_df['Subreddit'] = master_df['Subreddit'].map(lambda x : 1 if x == \"democrats\" else 0)"
   ]
  },
  {
   "cell_type": "code",
   "execution_count": 19,
   "metadata": {
    "ExecuteTime": {
     "end_time": "2019-07-07T19:39:41.964176Z",
     "start_time": "2019-07-07T19:39:41.949520Z"
    },
    "scrolled": false
   },
   "outputs": [
    {
     "data": {
      "text/html": [
       "<div>\n",
       "<style scoped>\n",
       "    .dataframe tbody tr th:only-of-type {\n",
       "        vertical-align: middle;\n",
       "    }\n",
       "\n",
       "    .dataframe tbody tr th {\n",
       "        vertical-align: top;\n",
       "    }\n",
       "\n",
       "    .dataframe thead th {\n",
       "        text-align: right;\n",
       "    }\n",
       "</style>\n",
       "<table border=\"1\" class=\"dataframe\">\n",
       "  <thead>\n",
       "    <tr style=\"text-align: right;\">\n",
       "      <th></th>\n",
       "      <th>Post Text</th>\n",
       "      <th>Subreddit</th>\n",
       "      <th>Length of Title</th>\n",
       "      <th>ID</th>\n",
       "    </tr>\n",
       "  </thead>\n",
       "  <tbody>\n",
       "    <tr>\n",
       "      <th>1520</th>\n",
       "      <td>Opinion | Why Bob Dole's unsavory post-Senate ...</td>\n",
       "      <td>1</td>\n",
       "      <td>69</td>\n",
       "      <td>t3_rdltcu</td>\n",
       "    </tr>\n",
       "    <tr>\n",
       "      <th>1521</th>\n",
       "      <td>In a largely symbolic move, the Senate votes t...</td>\n",
       "      <td>1</td>\n",
       "      <td>85</td>\n",
       "      <td>t3_rdfuuc</td>\n",
       "    </tr>\n",
       "    <tr>\n",
       "      <th>1522</th>\n",
       "      <td>The Jan. 6 committee needs to get louder. Much...</td>\n",
       "      <td>1</td>\n",
       "      <td>54</td>\n",
       "      <td>t3_rcura0</td>\n",
       "    </tr>\n",
       "    <tr>\n",
       "      <th>1523</th>\n",
       "      <td>Trump's sedition allies scramble to refuse tes...</td>\n",
       "      <td>1</td>\n",
       "      <td>140</td>\n",
       "      <td>t3_rdfyos</td>\n",
       "    </tr>\n",
       "    <tr>\n",
       "      <th>1524</th>\n",
       "      <td>Citizen Enforcement of Abortion Law Violates T...</td>\n",
       "      <td>1</td>\n",
       "      <td>76</td>\n",
       "      <td>t3_rcyikd</td>\n",
       "    </tr>\n",
       "  </tbody>\n",
       "</table>\n",
       "</div>"
      ],
      "text/plain": [
       "                                              Post Text  Subreddit  \\\n",
       "1520  Opinion | Why Bob Dole's unsavory post-Senate ...          1   \n",
       "1521  In a largely symbolic move, the Senate votes t...          1   \n",
       "1522  The Jan. 6 committee needs to get louder. Much...          1   \n",
       "1523  Trump's sedition allies scramble to refuse tes...          1   \n",
       "1524  Citizen Enforcement of Abortion Law Violates T...          1   \n",
       "\n",
       "      Length of Title         ID  \n",
       "1520               69  t3_rdltcu  \n",
       "1521               85  t3_rdfuuc  \n",
       "1522               54  t3_rcura0  \n",
       "1523              140  t3_rdfyos  \n",
       "1524               76  t3_rcyikd  "
      ]
     },
     "execution_count": 19,
     "metadata": {},
     "output_type": "execute_result"
    }
   ],
   "source": [
    "#verify that the mapping worked\n",
    "master_df.tail()"
   ]
  },
  {
   "cell_type": "code",
   "execution_count": 20,
   "metadata": {
    "ExecuteTime": {
     "end_time": "2019-07-07T19:39:42.176980Z",
     "start_time": "2019-07-07T19:39:42.149069Z"
    }
   },
   "outputs": [
    {
     "data": {
      "text/html": [
       "<div>\n",
       "<style scoped>\n",
       "    .dataframe tbody tr th:only-of-type {\n",
       "        vertical-align: middle;\n",
       "    }\n",
       "\n",
       "    .dataframe tbody tr th {\n",
       "        vertical-align: top;\n",
       "    }\n",
       "\n",
       "    .dataframe thead th {\n",
       "        text-align: right;\n",
       "    }\n",
       "</style>\n",
       "<table border=\"1\" class=\"dataframe\">\n",
       "  <thead>\n",
       "    <tr style=\"text-align: right;\">\n",
       "      <th></th>\n",
       "      <th>Post Text</th>\n",
       "      <th>Subreddit</th>\n",
       "      <th>Length of Title</th>\n",
       "      <th>ID</th>\n",
       "    </tr>\n",
       "  </thead>\n",
       "  <tbody>\n",
       "    <tr>\n",
       "      <th>976</th>\n",
       "      <td>?\\n</td>\n",
       "      <td>1</td>\n",
       "      <td>1</td>\n",
       "      <td>t3_sbc8gs</td>\n",
       "    </tr>\n",
       "    <tr>\n",
       "      <th>282</th>\n",
       "      <td>🤡🌎\\n</td>\n",
       "      <td>0</td>\n",
       "      <td>2</td>\n",
       "      <td>t3_rsonnu</td>\n",
       "    </tr>\n",
       "    <tr>\n",
       "      <th>132</th>\n",
       "      <td>ha\\n</td>\n",
       "      <td>0</td>\n",
       "      <td>2</td>\n",
       "      <td>t3_s04pau</td>\n",
       "    </tr>\n",
       "    <tr>\n",
       "      <th>338</th>\n",
       "      <td>PNN\\n</td>\n",
       "      <td>0</td>\n",
       "      <td>3</td>\n",
       "      <td>t3_rqwn1j</td>\n",
       "    </tr>\n",
       "    <tr>\n",
       "      <th>926</th>\n",
       "      <td>CNN\\n</td>\n",
       "      <td>0</td>\n",
       "      <td>3</td>\n",
       "      <td>t3_r6upo3</td>\n",
       "    </tr>\n",
       "    <tr>\n",
       "      <th>54</th>\n",
       "      <td>Boom\\n</td>\n",
       "      <td>0</td>\n",
       "      <td>4</td>\n",
       "      <td>t3_s8qgpu</td>\n",
       "    </tr>\n",
       "    <tr>\n",
       "      <th>537</th>\n",
       "      <td>Good\\n</td>\n",
       "      <td>0</td>\n",
       "      <td>4</td>\n",
       "      <td>t3_rjeqv8</td>\n",
       "    </tr>\n",
       "    <tr>\n",
       "      <th>1281</th>\n",
       "      <td>🤦‍♂️\\n</td>\n",
       "      <td>1</td>\n",
       "      <td>4</td>\n",
       "      <td>t3_rt2b2s</td>\n",
       "    </tr>\n",
       "    <tr>\n",
       "      <th>86</th>\n",
       "      <td>Whoa\\n</td>\n",
       "      <td>0</td>\n",
       "      <td>4</td>\n",
       "      <td>t3_s62a0f</td>\n",
       "    </tr>\n",
       "    <tr>\n",
       "      <th>167</th>\n",
       "      <td>Truth\\n</td>\n",
       "      <td>0</td>\n",
       "      <td>5</td>\n",
       "      <td>t3_rxxcu0</td>\n",
       "    </tr>\n",
       "    <tr>\n",
       "      <th>249</th>\n",
       "      <td>Based\\n</td>\n",
       "      <td>0</td>\n",
       "      <td>5</td>\n",
       "      <td>t3_rusj9m</td>\n",
       "    </tr>\n",
       "    <tr>\n",
       "      <th>425</th>\n",
       "      <td>Bravo!\\n</td>\n",
       "      <td>0</td>\n",
       "      <td>6</td>\n",
       "      <td>t3_rn42fh</td>\n",
       "    </tr>\n",
       "    <tr>\n",
       "      <th>664</th>\n",
       "      <td>Preach\\n</td>\n",
       "      <td>0</td>\n",
       "      <td>6</td>\n",
       "      <td>t3_reyf6q</td>\n",
       "    </tr>\n",
       "    <tr>\n",
       "      <th>564</th>\n",
       "      <td>Yep...\\n</td>\n",
       "      <td>0</td>\n",
       "      <td>6</td>\n",
       "      <td>t3_rhyo65</td>\n",
       "    </tr>\n",
       "    <tr>\n",
       "      <th>462</th>\n",
       "      <td>WTF???\\n</td>\n",
       "      <td>0</td>\n",
       "      <td>6</td>\n",
       "      <td>t3_rlo7r9</td>\n",
       "    </tr>\n",
       "    <tr>\n",
       "      <th>403</th>\n",
       "      <td>Merica\\n</td>\n",
       "      <td>0</td>\n",
       "      <td>6</td>\n",
       "      <td>t3_ropcww</td>\n",
       "    </tr>\n",
       "    <tr>\n",
       "      <th>246</th>\n",
       "      <td>Hope so\\n</td>\n",
       "      <td>0</td>\n",
       "      <td>7</td>\n",
       "      <td>t3_rujj1r</td>\n",
       "    </tr>\n",
       "    <tr>\n",
       "      <th>602</th>\n",
       "      <td>Exactly\\n</td>\n",
       "      <td>0</td>\n",
       "      <td>7</td>\n",
       "      <td>t3_rgvvp0</td>\n",
       "    </tr>\n",
       "    <tr>\n",
       "      <th>924</th>\n",
       "      <td>Exactly\\n</td>\n",
       "      <td>0</td>\n",
       "      <td>7</td>\n",
       "      <td>t3_r6lt9r</td>\n",
       "    </tr>\n",
       "    <tr>\n",
       "      <th>817</th>\n",
       "      <td>Scandal\\n</td>\n",
       "      <td>0</td>\n",
       "      <td>7</td>\n",
       "      <td>t3_ra91ws</td>\n",
       "    </tr>\n",
       "    <tr>\n",
       "      <th>866</th>\n",
       "      <td>New Sub\\n</td>\n",
       "      <td>0</td>\n",
       "      <td>7</td>\n",
       "      <td>t3_r93y5t</td>\n",
       "    </tr>\n",
       "    <tr>\n",
       "      <th>55</th>\n",
       "      <td>Warning\\n</td>\n",
       "      <td>0</td>\n",
       "      <td>7</td>\n",
       "      <td>t3_s8pn5i</td>\n",
       "    </tr>\n",
       "    <tr>\n",
       "      <th>449</th>\n",
       "      <td>Exactly\\n</td>\n",
       "      <td>0</td>\n",
       "      <td>7</td>\n",
       "      <td>t3_rmermc</td>\n",
       "    </tr>\n",
       "    <tr>\n",
       "      <th>864</th>\n",
       "      <td>Spot on\\n</td>\n",
       "      <td>0</td>\n",
       "      <td>7</td>\n",
       "      <td>t3_r8ycuf</td>\n",
       "    </tr>\n",
       "    <tr>\n",
       "      <th>927</th>\n",
       "      <td>Bye Joe\\n</td>\n",
       "      <td>0</td>\n",
       "      <td>7</td>\n",
       "      <td>t3_r6pkke</td>\n",
       "    </tr>\n",
       "  </tbody>\n",
       "</table>\n",
       "</div>"
      ],
      "text/plain": [
       "      Post Text  Subreddit  Length of Title         ID\n",
       "976         ?\\n          1                1  t3_sbc8gs\n",
       "282        🤡🌎\\n          0                2  t3_rsonnu\n",
       "132        ha\\n          0                2  t3_s04pau\n",
       "338       PNN\\n          0                3  t3_rqwn1j\n",
       "926       CNN\\n          0                3  t3_r6upo3\n",
       "54       Boom\\n          0                4  t3_s8qgpu\n",
       "537      Good\\n          0                4  t3_rjeqv8\n",
       "1281     🤦‍♂️\\n          1                4  t3_rt2b2s\n",
       "86       Whoa\\n          0                4  t3_s62a0f\n",
       "167     Truth\\n          0                5  t3_rxxcu0\n",
       "249     Based\\n          0                5  t3_rusj9m\n",
       "425    Bravo!\\n          0                6  t3_rn42fh\n",
       "664    Preach\\n          0                6  t3_reyf6q\n",
       "564    Yep...\\n          0                6  t3_rhyo65\n",
       "462    WTF???\\n          0                6  t3_rlo7r9\n",
       "403    Merica\\n          0                6  t3_ropcww\n",
       "246   Hope so\\n          0                7  t3_rujj1r\n",
       "602   Exactly\\n          0                7  t3_rgvvp0\n",
       "924   Exactly\\n          0                7  t3_r6lt9r\n",
       "817   Scandal\\n          0                7  t3_ra91ws\n",
       "866   New Sub\\n          0                7  t3_r93y5t\n",
       "55    Warning\\n          0                7  t3_s8pn5i\n",
       "449   Exactly\\n          0                7  t3_rmermc\n",
       "864   Spot on\\n          0                7  t3_r8ycuf\n",
       "927   Bye Joe\\n          0                7  t3_r6pkke"
      ]
     },
     "execution_count": 20,
     "metadata": {},
     "output_type": "execute_result"
    }
   ],
   "source": [
    "# checking to see if any nulls on the Length of Title\n",
    "master_df.sort_values('Length of Title').head(25)"
   ]
  },
  {
   "cell_type": "markdown",
   "metadata": {},
   "source": [
    "Here we can see quite clearly that there is a correlation between length of post text and class, as 20 out of 25 of the lowest length text are of the Conservative party. This may indicate a higher prevalence of meme usage and thus shorter posts."
   ]
  },
  {
   "cell_type": "code",
   "execution_count": 21,
   "metadata": {
    "ExecuteTime": {
     "end_time": "2019-07-07T19:39:42.534764Z",
     "start_time": "2019-07-07T19:39:42.500020Z"
    }
   },
   "outputs": [],
   "source": [
    "### Export dataframe to use \n",
    "master_df.to_csv('./data/master_df.csv')"
   ]
  },
  {
   "cell_type": "markdown",
   "metadata": {},
   "source": [
    "#### Top Frequencies for Subreddits"
   ]
  },
  {
   "cell_type": "code",
   "execution_count": 22,
   "metadata": {
    "ExecuteTime": {
     "end_time": "2019-07-07T19:39:42.886025Z",
     "start_time": "2019-07-07T19:39:42.880900Z"
    },
    "scrolled": true
   },
   "outputs": [],
   "source": [
    "# import text based modules\n",
    "from sklearn.feature_extraction.text import CountVectorizer,TfidfVectorizer\n",
    "from sklearn.feature_extraction import text, _stop_words"
   ]
  },
  {
   "cell_type": "code",
   "execution_count": 23,
   "metadata": {
    "ExecuteTime": {
     "end_time": "2019-07-07T19:39:43.086856Z",
     "start_time": "2019-07-07T19:39:43.072837Z"
    }
   },
   "outputs": [
    {
     "name": "stdout",
     "output_type": "stream",
     "text": [
      "318\n",
      "15\n",
      "341\n",
      "332\n"
     ]
    }
   ],
   "source": [
    "additional_politics_english_stop = ['www', 'things', 'does', 'x200b', 'amp', 'want', 'watch',\n",
    "                           'just', 'like', 'https', 'com', 'republican', 'republicans',\n",
    "                           'libertarians', 'democrats', 'democrat', 'people', 'libertarian',\n",
    "                           'says', 'say', 'did', 'this', 'conservative', 'conservatives' ]\n",
    "\n",
    "additional_english_stop = ['www', 'things', 'does', 'x200b', 'amp',\n",
    "                           'just', 'like', 'https', 'com', 'watch', 'want',\n",
    "                           'says', 'say', 'did', 'this']\n",
    "\n",
    "new_stop_list = _stop_words.ENGLISH_STOP_WORDS.union(additional_english_stop)\n",
    "new_politics_english_stop_list = _stop_words.ENGLISH_STOP_WORDS.union(additional_politics_english_stop)\n",
    "print(len(_stop_words.ENGLISH_STOP_WORDS))\n",
    "print(len(additional_english_stop))\n",
    "print(len(new_politics_english_stop_list))\n",
    "print(len(new_stop_list))\n"
   ]
  },
  {
   "cell_type": "code",
   "execution_count": 24,
   "metadata": {
    "ExecuteTime": {
     "end_time": "2019-07-07T19:39:43.292468Z",
     "start_time": "2019-07-07T19:39:43.286223Z"
    }
   },
   "outputs": [],
   "source": [
    "# code originally written by boom\n",
    "# Function to count words in each df\n",
    "def word_counter(title_df,stop_list = []):\n",
    "    \n",
    "    # Count Vectorize\n",
    "    cvec = CountVectorizer(stop_words = stop_list, max_features=15)\n",
    "\n",
    "    # Transform the corpus\n",
    "    X_text = cvec.fit_transform(title_df['Post Text'])\n",
    "\n",
    "    # Converts text to array form\n",
    "    X_text = pd.DataFrame(X_text.toarray(), columns= cvec.get_feature_names())\n",
    "\n",
    "    # See word counts\n",
    "    word_counts = X_text.sum().sort_values(0, ascending=False)\n",
    "    \n",
    "    return word_counts"
   ]
  },
  {
   "cell_type": "markdown",
   "metadata": {},
   "source": [
    "#### Democrats words list  (4 versions)"
   ]
  },
  {
   "cell_type": "code",
   "execution_count": 25,
   "metadata": {
    "ExecuteTime": {
     "end_time": "2019-07-07T19:39:43.543252Z",
     "start_time": "2019-07-07T19:39:43.470608Z"
    }
   },
   "outputs": [
    {
     "data": {
      "text/plain": [
       "the          280\n",
       "to           261\n",
       "of           154\n",
       "and          143\n",
       "in           143\n",
       "for          120\n",
       "biden         92\n",
       "is            88\n",
       "on            88\n",
       "trump         82\n",
       "democrats     60\n",
       "it            54\n",
       "that          53\n",
       "with          47\n",
       "as            44\n",
       "dtype: int64"
      ]
     },
     "execution_count": 25,
     "metadata": {},
     "output_type": "execute_result"
    }
   ],
   "source": [
    "# no Stop Words\n",
    "word_counter(dem_df)\n",
    "# we can see that there is still html jargon that needs to be cleaned further"
   ]
  },
  {
   "cell_type": "code",
   "execution_count": 26,
   "metadata": {
    "ExecuteTime": {
     "end_time": "2019-07-07T19:39:44.013646Z",
     "start_time": "2019-07-07T19:39:43.668623Z"
    }
   },
   "outputs": [
    {
     "data": {
      "image/png": "[encoded data removed]",
      "text/plain": [
       "<Figure size 432x288 with 1 Axes>"
      ]
     },
     "metadata": {
      "needs_background": "light"
     },
     "output_type": "display_data"
    }
   ],
   "source": [
    "# Democrats Top 15 Words with no stop words\n",
    "dems_wordcount = pd.DataFrame(word_counter(dem_df), columns=[\"Frequency\"])\n",
    "\n",
    "# Visualization\n",
    "politics_top15 = dems_wordcount.head(15)\n",
    "politics_top15.sort_values('Frequency',ascending=True).plot(kind = \"barh\")\n",
    "plt.title(\"Top 15 Words in Democrats subreddit\")\n",
    "plt.xlabel(\"Frequency (Count)\")\n",
    "plt.ylabel(\"Word\")\n",
    "plt.show()"
   ]
  },
  {
   "cell_type": "code",
   "execution_count": 27,
   "metadata": {
    "ExecuteTime": {
     "end_time": "2019-07-07T19:39:44.110324Z",
     "start_time": "2019-07-07T19:39:44.018400Z"
    },
    "scrolled": true
   },
   "outputs": [
    {
     "data": {
      "text/plain": [
       "biden          92\n",
       "trump          82\n",
       "democrats      60\n",
       "president      38\n",
       "house          35\n",
       "voting         30\n",
       "new            28\n",
       "says           28\n",
       "jan            26\n",
       "republicans    25\n",
       "court          24\n",
       "gop            24\n",
       "joe            24\n",
       "election       23\n",
       "senate         22\n",
       "dtype: int64"
      ]
     },
     "execution_count": 27,
     "metadata": {},
     "output_type": "execute_result"
    }
   ],
   "source": [
    "# English Stop Words\n",
    "word_counter(dem_df, _stop_words.ENGLISH_STOP_WORDS)"
   ]
  },
  {
   "cell_type": "code",
   "execution_count": 28,
   "metadata": {
    "ExecuteTime": {
     "end_time": "2019-07-07T19:39:44.483587Z",
     "start_time": "2019-07-07T19:39:44.114124Z"
    }
   },
   "outputs": [
    {
     "data": {
      "image/png": "[encoded data removed]",
      "text/plain": [
       "<Figure size 432x288 with 1 Axes>"
      ]
     },
     "metadata": {
      "needs_background": "light"
     },
     "output_type": "display_data"
    }
   ],
   "source": [
    "# Democrats Top 15 Words with default english stop words\n",
    "dems_wordcount = pd.DataFrame(word_counter(dem_df, _stop_words.ENGLISH_STOP_WORDS), columns=[\"Frequency\"])\n",
    "\n",
    "# Visualization\n",
    "politics_top15 = dems_wordcount.head(15)\n",
    "politics_top15.sort_values('Frequency',ascending=True).plot(kind = \"barh\")\n",
    "plt.title(\"Top 15 Words in Democrats subreddit v2\")\n",
    "plt.xlabel(\"Frequency (Count)\")\n",
    "plt.show()"
   ]
  },
  {
   "cell_type": "code",
   "execution_count": 29,
   "metadata": {
    "ExecuteTime": {
     "end_time": "2019-07-07T19:39:44.654075Z",
     "start_time": "2019-07-07T19:39:44.488010Z"
    }
   },
   "outputs": [
    {
     "data": {
      "text/plain": [
       "biden          92\n",
       "trump          82\n",
       "democrats      60\n",
       "president      38\n",
       "house          35\n",
       "voting         30\n",
       "new            28\n",
       "jan            26\n",
       "republicans    25\n",
       "court          24\n",
       "gop            24\n",
       "joe            24\n",
       "election       23\n",
       "january        22\n",
       "rights         22\n",
       "dtype: int64"
      ]
     },
     "execution_count": 29,
     "metadata": {},
     "output_type": "execute_result"
    }
   ],
   "source": [
    "#displaying word list with new stop list\n",
    "word_counter(dem_df,new_stop_list)\n"
   ]
  },
  {
   "cell_type": "code",
   "execution_count": 30,
   "metadata": {
    "ExecuteTime": {
     "end_time": "2019-07-07T19:39:44.985040Z",
     "start_time": "2019-07-07T19:39:44.660017Z"
    }
   },
   "outputs": [
    {
     "data": {
      "image/png": "[encoded data removed]",
      "text/plain": [
       "<Figure size 432x288 with 1 Axes>"
      ]
     },
     "metadata": {
      "needs_background": "light"
     },
     "output_type": "display_data"
    }
   ],
   "source": [
    "# Democrats Top 15 Words with custom stop words \n",
    "dems_wordcount = pd.DataFrame(word_counter(dem_df, _stop_words.ENGLISH_STOP_WORDS), columns=[\"Frequency\"])\n",
    "\n",
    "# Visualization\n",
    "politics_top15 = dems_wordcount.head(15)\n",
    "politics_top15.sort_values('Frequency',ascending=True).plot(kind = \"barh\")\n",
    "plt.title(\"Top 15 Words in Democrats subreddit v3\")\n",
    "plt.xlabel(\"Frequency (Count)\")\n",
    "plt.show()"
   ]
  },
  {
   "cell_type": "code",
   "execution_count": 31,
   "metadata": {
    "ExecuteTime": {
     "end_time": "2019-07-07T19:39:45.084838Z",
     "start_time": "2019-07-07T19:39:44.991094Z"
    },
    "scrolled": true
   },
   "outputs": [
    {
     "data": {
      "text/plain": [
       "biden        92\n",
       "trump        82\n",
       "president    38\n",
       "house        35\n",
       "voting       30\n",
       "new          28\n",
       "jan          26\n",
       "court        24\n",
       "gop          24\n",
       "joe          24\n",
       "election     23\n",
       "january      22\n",
       "rights       22\n",
       "senate       22\n",
       "white        21\n",
       "dtype: int64"
      ]
     },
     "execution_count": 31,
     "metadata": {},
     "output_type": "execute_result"
    }
   ],
   "source": [
    "#displaying word list with new political stop list \n",
    "word_counter(dem_df, new_politics_english_stop_list)"
   ]
  },
  {
   "cell_type": "code",
   "execution_count": 32,
   "metadata": {
    "ExecuteTime": {
     "end_time": "2019-07-07T19:39:45.451622Z",
     "start_time": "2019-07-07T19:39:45.090910Z"
    }
   },
   "outputs": [
    {
     "data": {
      "image/png": "[encoded data removed]",
      "text/plain": [
       "<Figure size 432x288 with 1 Axes>"
      ]
     },
     "metadata": {
      "needs_background": "light"
     },
     "output_type": "display_data"
    }
   ],
   "source": [
    "# Democrats Top 15 Words with custom political stop words\n",
    "dems_wordcount = pd.DataFrame(word_counter(dem_df, new_politics_english_stop_list), columns=[\"Frequency\"])\n",
    "\n",
    "# Visualization\n",
    "politics_top15 = dems_wordcount.head(15)\n",
    "politics_top15.sort_values('Frequency',ascending=True).plot(kind = \"barh\")\n",
    "plt.title(\"Top 15 Words in Democrats subreddit v4\")\n",
    "plt.xlabel(\"Frequency (Count)\")\n",
    "plt.show()"
   ]
  },
  {
   "cell_type": "markdown",
   "metadata": {},
   "source": [
    "#### Republicans words list (4 versions)"
   ]
  },
  {
   "cell_type": "code",
   "execution_count": 34,
   "metadata": {
    "ExecuteTime": {
     "end_time": "2019-07-07T19:39:45.511593Z",
     "start_time": "2019-07-07T19:39:45.459340Z"
    }
   },
   "outputs": [
    {
     "data": {
      "text/plain": [
       "the      346\n",
       "to       292\n",
       "trump    285\n",
       "of       186\n",
       "in       184\n",
       "biden    149\n",
       "for      149\n",
       "and      118\n",
       "is       115\n",
       "on        97\n",
       "it        64\n",
       "with      59\n",
       "this      58\n",
       "that      57\n",
       "from      53\n",
       "dtype: int64"
      ]
     },
     "execution_count": 34,
     "metadata": {},
     "output_type": "execute_result"
    }
   ],
   "source": [
    "#displaying word list with no stop list\n",
    "word_counter(rep_df)\n",
    "# we can see that there is still html jargon that needs to be cleaned further"
   ]
  },
  {
   "cell_type": "code",
   "execution_count": 35,
   "metadata": {
    "ExecuteTime": {
     "end_time": "2019-07-07T19:39:45.878652Z",
     "start_time": "2019-07-07T19:39:45.520039Z"
    }
   },
   "outputs": [
    {
     "data": {
      "image/png": "[encoded data removed]",
      "text/plain": [
       "<Figure size 432x288 with 1 Axes>"
      ]
     },
     "metadata": {
      "needs_background": "light"
     },
     "output_type": "display_data"
    }
   ],
   "source": [
    "# Republicans Top 15 Words with custom political stop words\n",
    "cons_wordcount = pd.DataFrame(word_counter(rep_df), columns=[\"Frequency\"])\n",
    "\n",
    "# Visualization\n",
    "politics_top15 = cons_wordcount.head(15)\n",
    "politics_top15.sort_values('Frequency',ascending=True).plot(kind = \"barh\")\n",
    "plt.title(\"Top 15 Words in Republicans subreddit v1\")\n",
    "plt.xlabel(\"Frequency (Count)\")\n",
    "plt.show()"
   ]
  },
  {
   "cell_type": "code",
   "execution_count": 38,
   "metadata": {
    "ExecuteTime": {
     "end_time": "2019-07-07T19:39:45.959228Z",
     "start_time": "2019-07-07T19:39:45.886419Z"
    }
   },
   "outputs": [
    {
     "data": {
      "text/plain": [
       "trump            285\n",
       "biden            149\n",
       "joe               42\n",
       "jan               40\n",
       "media             39\n",
       "poll              39\n",
       "new               38\n",
       "president         35\n",
       "says              32\n",
       "amp               30\n",
       "gop               30\n",
       "people            30\n",
       "donald            29\n",
       "election          29\n",
       "newbostonpost     28\n",
       "dtype: int64"
      ]
     },
     "execution_count": 38,
     "metadata": {},
     "output_type": "execute_result"
    }
   ],
   "source": [
    "#displaying word list with vanilla english stop list\n",
    "word_counter(rep_df, _stop_words.ENGLISH_STOP_WORDS)"
   ]
  },
  {
   "cell_type": "code",
   "execution_count": 40,
   "metadata": {
    "ExecuteTime": {
     "end_time": "2019-07-07T19:39:46.295029Z",
     "start_time": "2019-07-07T19:39:45.969105Z"
    }
   },
   "outputs": [
    {
     "data": {
      "image/png": "[encoded data removed]",
      "text/plain": [
       "<Figure size 432x288 with 1 Axes>"
      ]
     },
     "metadata": {
      "needs_background": "light"
     },
     "output_type": "display_data"
    }
   ],
   "source": [
    "# Republicans Top 15 Words with standard english stop words\n",
    "cons_wordcount = pd.DataFrame(word_counter(rep_df,_stop_words.ENGLISH_STOP_WORDS), columns=[\"Frequency\"])\n",
    "\n",
    "# Visualization\n",
    "politics_top15 = cons_wordcount.head(15)\n",
    "politics_top15.sort_values('Frequency',ascending=True).plot(kind = \"barh\")\n",
    "plt.title(\"Top 15 Words in Republicans subreddit v2\")\n",
    "plt.xlabel(\"Frequency (Count)\")\n",
    "plt.ylabel(\"Word\")\n",
    "plt.show()"
   ]
  },
  {
   "cell_type": "code",
   "execution_count": 41,
   "metadata": {
    "ExecuteTime": {
     "end_time": "2019-07-07T19:39:46.359279Z",
     "start_time": "2019-07-07T19:39:46.297950Z"
    }
   },
   "outputs": [
    {
     "data": {
      "text/plain": [
       "trump            285\n",
       "biden            149\n",
       "joe               42\n",
       "jan               40\n",
       "media             39\n",
       "poll              39\n",
       "new               38\n",
       "president         35\n",
       "gop               30\n",
       "people            30\n",
       "donald            29\n",
       "election          29\n",
       "newbostonpost     28\n",
       "christmas         27\n",
       "news              27\n",
       "dtype: int64"
      ]
     },
     "execution_count": 41,
     "metadata": {},
     "output_type": "execute_result"
    }
   ],
   "source": [
    "#displaying word list with new stop list\n",
    "word_counter(rep_df, new_stop_list)"
   ]
  },
  {
   "cell_type": "code",
   "execution_count": 42,
   "metadata": {
    "ExecuteTime": {
     "end_time": "2019-07-07T19:39:46.697210Z",
     "start_time": "2019-07-07T19:39:46.365318Z"
    }
   },
   "outputs": [
    {
     "data": {
      "image/png": "[encoded data removed]",
      "text/plain": [
       "<Figure size 432x288 with 1 Axes>"
      ]
     },
     "metadata": {
      "needs_background": "light"
     },
     "output_type": "display_data"
    }
   ],
   "source": [
    "# Republicans Top 15 Words with custom english stop words\n",
    "cons_wordcount = pd.DataFrame(word_counter(rep_df,new_stop_list), columns=[\"Frequency\"])\n",
    "\n",
    "# Visualization\n",
    "politics_top15 = cons_wordcount.head(15)\n",
    "politics_top15.sort_values('Frequency',ascending=True).plot(kind = \"barh\")\n",
    "plt.title(\"Top 15 Words in Republican subreddit v3\")\n",
    "plt.xlabel(\"Frequency (Count)\")\n",
    "plt.ylabel(\"Word\")\n",
    "plt.show()"
   ]
  },
  {
   "cell_type": "code",
   "execution_count": 43,
   "metadata": {
    "ExecuteTime": {
     "end_time": "2019-07-07T19:39:46.754168Z",
     "start_time": "2019-07-07T19:39:46.701251Z"
    },
    "scrolled": true
   },
   "outputs": [
    {
     "data": {
      "text/plain": [
       "trump            285\n",
       "biden            149\n",
       "joe               42\n",
       "jan               40\n",
       "media             39\n",
       "poll              39\n",
       "new               38\n",
       "president         35\n",
       "gop               30\n",
       "donald            29\n",
       "election          29\n",
       "newbostonpost     28\n",
       "christmas         27\n",
       "cnn               27\n",
       "news              27\n",
       "dtype: int64"
      ]
     },
     "execution_count": 43,
     "metadata": {},
     "output_type": "execute_result"
    }
   ],
   "source": [
    "#displaying word list with new politics stop list\n",
    "word_counter(rep_df, new_politics_english_stop_list)"
   ]
  },
  {
   "cell_type": "code",
   "execution_count": 44,
   "metadata": {
    "ExecuteTime": {
     "end_time": "2019-07-07T19:39:47.064927Z",
     "start_time": "2019-07-07T19:39:46.762706Z"
    }
   },
   "outputs": [
    {
     "data": {
      "image/png": "[encoded data removed]",
      "text/plain": [
       "<Figure size 432x288 with 1 Axes>"
      ]
     },
     "metadata": {
      "needs_background": "light"
     },
     "output_type": "display_data"
    }
   ],
   "source": [
    "# Republicans Top 15 Words with custom politics stop words\n",
    "cons_wordcount = pd.DataFrame(word_counter(rep_df,new_politics_english_stop_list), columns=[\"Frequency\"])\n",
    "\n",
    "# Visualization\n",
    "politics_top15 = cons_wordcount.head(15)\n",
    "politics_top15.sort_values('Frequency',ascending=True).plot(kind = \"barh\")\n",
    "plt.title(\"Top 15 Words in Republican subreddit v4\")\n",
    "plt.xlabel(\"Frequency (Count)\")\n",
    "plt.show()"
   ]
  },
  {
   "cell_type": "code",
   "execution_count": 45,
   "metadata": {
    "ExecuteTime": {
     "end_time": "2019-07-07T19:39:47.107822Z",
     "start_time": "2019-07-07T19:39:47.068233Z"
    }
   },
   "outputs": [
    {
     "data": {
      "text/html": [
       "<div>\n",
       "<style scoped>\n",
       "    .dataframe tbody tr th:only-of-type {\n",
       "        vertical-align: middle;\n",
       "    }\n",
       "\n",
       "    .dataframe tbody tr th {\n",
       "        vertical-align: top;\n",
       "    }\n",
       "\n",
       "    .dataframe thead th {\n",
       "        text-align: right;\n",
       "    }\n",
       "</style>\n",
       "<table border=\"1\" class=\"dataframe\">\n",
       "  <thead>\n",
       "    <tr style=\"text-align: right;\">\n",
       "      <th></th>\n",
       "      <th>Post Text</th>\n",
       "      <th>Subreddit</th>\n",
       "      <th>Length of Title</th>\n",
       "      <th>ID</th>\n",
       "    </tr>\n",
       "  </thead>\n",
       "  <tbody>\n",
       "    <tr>\n",
       "      <th>0</th>\n",
       "      <td>Kyle Rittenhouse needs to sue the Washington C...</td>\n",
       "      <td>0</td>\n",
       "      <td>62</td>\n",
       "      <td>t3_qyl2l1</td>\n",
       "    </tr>\n",
       "    <tr>\n",
       "      <th>1</th>\n",
       "      <td>\"Liz Cheney &amp;amp; her Dem friends are using th...</td>\n",
       "      <td>0</td>\n",
       "      <td>165</td>\n",
       "      <td>t3_scearb</td>\n",
       "    </tr>\n",
       "    <tr>\n",
       "      <th>2</th>\n",
       "      <td>Thank God for that!\\n</td>\n",
       "      <td>0</td>\n",
       "      <td>19</td>\n",
       "      <td>t3_sci7b6</td>\n",
       "    </tr>\n",
       "    <tr>\n",
       "      <th>3</th>\n",
       "      <td>Criminals are targeting cops at historic level...</td>\n",
       "      <td>0</td>\n",
       "      <td>84</td>\n",
       "      <td>t3_scdve8</td>\n",
       "    </tr>\n",
       "    <tr>\n",
       "      <th>4</th>\n",
       "      <td>You cannot make this shit up. 🤣🤣🤣 --- 🤡🌎\\n</td>\n",
       "      <td>0</td>\n",
       "      <td>40</td>\n",
       "      <td>t3_sc18ao</td>\n",
       "    </tr>\n",
       "    <tr>\n",
       "      <th>5</th>\n",
       "      <td>Biden’s hot-mic controversy\\n</td>\n",
       "      <td>0</td>\n",
       "      <td>27</td>\n",
       "      <td>t3_sccu7x</td>\n",
       "    </tr>\n",
       "    <tr>\n",
       "      <th>6</th>\n",
       "      <td>Yet another reason I wished I lived in Texas.\\n</td>\n",
       "      <td>0</td>\n",
       "      <td>45</td>\n",
       "      <td>t3_sbwwc6</td>\n",
       "    </tr>\n",
       "    <tr>\n",
       "      <th>7</th>\n",
       "      <td>How Republicans Deny People Their Right To Vote\\n</td>\n",
       "      <td>0</td>\n",
       "      <td>47</td>\n",
       "      <td>t3_sbi7fy</td>\n",
       "    </tr>\n",
       "    <tr>\n",
       "      <th>8</th>\n",
       "      <td>No Biden reboot coming from president who thin...</td>\n",
       "      <td>0</td>\n",
       "      <td>66</td>\n",
       "      <td>t3_sc2gtu</td>\n",
       "    </tr>\n",
       "    <tr>\n",
       "      <th>9</th>\n",
       "      <td>Gingrich: Garland, Jan. 6 Panel Could Go to Ja...</td>\n",
       "      <td>0</td>\n",
       "      <td>69</td>\n",
       "      <td>t3_sbrlbi</td>\n",
       "    </tr>\n",
       "    <tr>\n",
       "      <th>10</th>\n",
       "      <td>Name the Wins...\\n</td>\n",
       "      <td>0</td>\n",
       "      <td>16</td>\n",
       "      <td>t3_sbp9lr</td>\n",
       "    </tr>\n",
       "    <tr>\n",
       "      <th>11</th>\n",
       "      <td>What If I Told You\\n</td>\n",
       "      <td>0</td>\n",
       "      <td>18</td>\n",
       "      <td>t3_sbp5sl</td>\n",
       "    </tr>\n",
       "    <tr>\n",
       "      <th>12</th>\n",
       "      <td>REPORT: Trump’s Entertainment Venture Outperfo...</td>\n",
       "      <td>0</td>\n",
       "      <td>73</td>\n",
       "      <td>t3_sbtupa</td>\n",
       "    </tr>\n",
       "    <tr>\n",
       "      <th>13</th>\n",
       "      <td>The Brevard County School Board DEFENDS spendi...</td>\n",
       "      <td>0</td>\n",
       "      <td>195</td>\n",
       "      <td>t3_sbonk7</td>\n",
       "    </tr>\n",
       "    <tr>\n",
       "      <th>14</th>\n",
       "      <td>DEFEAT THE MANDATES DC RALLY\\n</td>\n",
       "      <td>0</td>\n",
       "      <td>28</td>\n",
       "      <td>t3_sbn3en</td>\n",
       "    </tr>\n",
       "    <tr>\n",
       "      <th>15</th>\n",
       "      <td>Oh, poo, a war.\\n</td>\n",
       "      <td>0</td>\n",
       "      <td>15</td>\n",
       "      <td>t3_sbugsg</td>\n",
       "    </tr>\n",
       "    <tr>\n",
       "      <th>16</th>\n",
       "      <td>Never forget\\n</td>\n",
       "      <td>0</td>\n",
       "      <td>12</td>\n",
       "      <td>t3_sb7rtd</td>\n",
       "    </tr>\n",
       "    <tr>\n",
       "      <th>17</th>\n",
       "      <td>Sorry what ??\\n</td>\n",
       "      <td>0</td>\n",
       "      <td>13</td>\n",
       "      <td>t3_sbg23q</td>\n",
       "    </tr>\n",
       "    <tr>\n",
       "      <th>18</th>\n",
       "      <td>After Afghanistan why would anyone respect Bid...</td>\n",
       "      <td>0</td>\n",
       "      <td>77</td>\n",
       "      <td>t3_sblgdh</td>\n",
       "    </tr>\n",
       "    <tr>\n",
       "      <th>19</th>\n",
       "      <td>A Quick History Lesson\\n</td>\n",
       "      <td>0</td>\n",
       "      <td>22</td>\n",
       "      <td>t3_sb1zgh</td>\n",
       "    </tr>\n",
       "    <tr>\n",
       "      <th>20</th>\n",
       "      <td>When real life imitates The Simpsons\\n</td>\n",
       "      <td>0</td>\n",
       "      <td>36</td>\n",
       "      <td>t3_saz239</td>\n",
       "    </tr>\n",
       "    <tr>\n",
       "      <th>21</th>\n",
       "      <td>The Actual Embarrassment\\n</td>\n",
       "      <td>0</td>\n",
       "      <td>24</td>\n",
       "      <td>t3_sax1lc</td>\n",
       "    </tr>\n",
       "    <tr>\n",
       "      <th>22</th>\n",
       "      <td>r/republicans Subdirect Statistics\\n</td>\n",
       "      <td>0</td>\n",
       "      <td>34</td>\n",
       "      <td>t3_sbg0f8</td>\n",
       "    </tr>\n",
       "    <tr>\n",
       "      <th>23</th>\n",
       "      <td>Trump calls reports of rift with DeSantis \"fak...</td>\n",
       "      <td>0</td>\n",
       "      <td>104</td>\n",
       "      <td>t3_sb0c4e</td>\n",
       "    </tr>\n",
       "    <tr>\n",
       "      <th>24</th>\n",
       "      <td>Poll: Trump Remains GOP Favorite To Easily Bea...</td>\n",
       "      <td>0</td>\n",
       "      <td>75</td>\n",
       "      <td>t3_sayr2g</td>\n",
       "    </tr>\n",
       "    <tr>\n",
       "      <th>25</th>\n",
       "      <td>Trump Slams Georgia DA’s Lawfare Attack on Ele...</td>\n",
       "      <td>0</td>\n",
       "      <td>62</td>\n",
       "      <td>t3_saynv8</td>\n",
       "    </tr>\n",
       "    <tr>\n",
       "      <th>26</th>\n",
       "      <td>Trump woke a lot of us up to the lying msm\\n</td>\n",
       "      <td>0</td>\n",
       "      <td>42</td>\n",
       "      <td>t3_sajavd</td>\n",
       "    </tr>\n",
       "    <tr>\n",
       "      <th>27</th>\n",
       "      <td>Donald Trump Jr. on Twitter - Joe Biden: One Y...</td>\n",
       "      <td>0</td>\n",
       "      <td>60</td>\n",
       "      <td>t3_saxv9b</td>\n",
       "    </tr>\n",
       "    <tr>\n",
       "      <th>28</th>\n",
       "      <td>The War to Destroy Christian America\\n</td>\n",
       "      <td>0</td>\n",
       "      <td>36</td>\n",
       "      <td>t3_sb0thy</td>\n",
       "    </tr>\n",
       "    <tr>\n",
       "      <th>29</th>\n",
       "      <td>So Weird\\n</td>\n",
       "      <td>0</td>\n",
       "      <td>8</td>\n",
       "      <td>t3_sadpkj</td>\n",
       "    </tr>\n",
       "    <tr>\n",
       "      <th>30</th>\n",
       "      <td>Dozens of Former Trump RINOs Held a Call to Di...</td>\n",
       "      <td>0</td>\n",
       "      <td>130</td>\n",
       "      <td>t3_sayvke</td>\n",
       "    </tr>\n",
       "    <tr>\n",
       "      <th>31</th>\n",
       "      <td>Joe Biden on 2022 Midterms: 'We Have to Expand...</td>\n",
       "      <td>0</td>\n",
       "      <td>103</td>\n",
       "      <td>t3_sayp5c</td>\n",
       "    </tr>\n",
       "    <tr>\n",
       "      <th>32</th>\n",
       "      <td>Democrat War Mongers and Their Republican Coll...</td>\n",
       "      <td>0</td>\n",
       "      <td>55</td>\n",
       "      <td>t3_savsf6</td>\n",
       "    </tr>\n",
       "    <tr>\n",
       "      <th>33</th>\n",
       "      <td>Trump huddling with advisers on 2022 game plan...</td>\n",
       "      <td>0</td>\n",
       "      <td>108</td>\n",
       "      <td>t3_sb08a5</td>\n",
       "    </tr>\n",
       "    <tr>\n",
       "      <th>34</th>\n",
       "      <td>Sad but true\\n</td>\n",
       "      <td>0</td>\n",
       "      <td>12</td>\n",
       "      <td>t3_sa0jml</td>\n",
       "    </tr>\n",
       "  </tbody>\n",
       "</table>\n",
       "</div>"
      ],
      "text/plain": [
       "                                            Post Text  Subreddit  \\\n",
       "0   Kyle Rittenhouse needs to sue the Washington C...          0   \n",
       "1   \"Liz Cheney &amp; her Dem friends are using th...          0   \n",
       "2                               Thank God for that!\\n          0   \n",
       "3   Criminals are targeting cops at historic level...          0   \n",
       "4          You cannot make this shit up. 🤣🤣🤣 --- 🤡🌎\\n          0   \n",
       "5                       Biden’s hot-mic controversy\\n          0   \n",
       "6     Yet another reason I wished I lived in Texas.\\n          0   \n",
       "7   How Republicans Deny People Their Right To Vote\\n          0   \n",
       "8   No Biden reboot coming from president who thin...          0   \n",
       "9   Gingrich: Garland, Jan. 6 Panel Could Go to Ja...          0   \n",
       "10                                 Name the Wins...\\n          0   \n",
       "11                               What If I Told You\\n          0   \n",
       "12  REPORT: Trump’s Entertainment Venture Outperfo...          0   \n",
       "13  The Brevard County School Board DEFENDS spendi...          0   \n",
       "14                     DEFEAT THE MANDATES DC RALLY\\n          0   \n",
       "15                                  Oh, poo, a war.\\n          0   \n",
       "16                                     Never forget\\n          0   \n",
       "17                                    Sorry what ??\\n          0   \n",
       "18  After Afghanistan why would anyone respect Bid...          0   \n",
       "19                           A Quick History Lesson\\n          0   \n",
       "20             When real life imitates The Simpsons\\n          0   \n",
       "21                         The Actual Embarrassment\\n          0   \n",
       "22               r/republicans Subdirect Statistics\\n          0   \n",
       "23  Trump calls reports of rift with DeSantis \"fak...          0   \n",
       "24  Poll: Trump Remains GOP Favorite To Easily Bea...          0   \n",
       "25  Trump Slams Georgia DA’s Lawfare Attack on Ele...          0   \n",
       "26       Trump woke a lot of us up to the lying msm\\n          0   \n",
       "27  Donald Trump Jr. on Twitter - Joe Biden: One Y...          0   \n",
       "28             The War to Destroy Christian America\\n          0   \n",
       "29                                         So Weird\\n          0   \n",
       "30  Dozens of Former Trump RINOs Held a Call to Di...          0   \n",
       "31  Joe Biden on 2022 Midterms: 'We Have to Expand...          0   \n",
       "32  Democrat War Mongers and Their Republican Coll...          0   \n",
       "33  Trump huddling with advisers on 2022 game plan...          0   \n",
       "34                                     Sad but true\\n          0   \n",
       "\n",
       "    Length of Title         ID  \n",
       "0                62  t3_qyl2l1  \n",
       "1               165  t3_scearb  \n",
       "2                19  t3_sci7b6  \n",
       "3                84  t3_scdve8  \n",
       "4                40  t3_sc18ao  \n",
       "5                27  t3_sccu7x  \n",
       "6                45  t3_sbwwc6  \n",
       "7                47  t3_sbi7fy  \n",
       "8                66  t3_sc2gtu  \n",
       "9                69  t3_sbrlbi  \n",
       "10               16  t3_sbp9lr  \n",
       "11               18  t3_sbp5sl  \n",
       "12               73  t3_sbtupa  \n",
       "13              195  t3_sbonk7  \n",
       "14               28  t3_sbn3en  \n",
       "15               15  t3_sbugsg  \n",
       "16               12  t3_sb7rtd  \n",
       "17               13  t3_sbg23q  \n",
       "18               77  t3_sblgdh  \n",
       "19               22  t3_sb1zgh  \n",
       "20               36  t3_saz239  \n",
       "21               24  t3_sax1lc  \n",
       "22               34  t3_sbg0f8  \n",
       "23              104  t3_sb0c4e  \n",
       "24               75  t3_sayr2g  \n",
       "25               62  t3_saynv8  \n",
       "26               42  t3_sajavd  \n",
       "27               60  t3_saxv9b  \n",
       "28               36  t3_sb0thy  \n",
       "29                8  t3_sadpkj  \n",
       "30              130  t3_sayvke  \n",
       "31              103  t3_sayp5c  \n",
       "32               55  t3_savsf6  \n",
       "33              108  t3_sb08a5  \n",
       "34               12  t3_sa0jml  "
      ]
     },
     "execution_count": 45,
     "metadata": {},
     "output_type": "execute_result"
    }
   ],
   "source": [
    "master_df.head(35)"
   ]
  },
  {
   "cell_type": "code",
   "execution_count": 46,
   "metadata": {
    "ExecuteTime": {
     "end_time": "2019-07-07T19:39:47.143787Z",
     "start_time": "2019-07-07T19:39:47.113789Z"
    }
   },
   "outputs": [],
   "source": [
    "master_df.to_csv('./data/master_df.csv', index=False)"
   ]
  },
  {
   "cell_type": "markdown",
   "metadata": {},
   "source": [
    "## Continue to Part 2\n",
    "### Please exit notebook and open appropriately titled .ipynb file"
   ]
  }
 ],
 "metadata": {
  "kernelspec": {
   "display_name": "Python 3 (ipykernel)",
   "language": "python",
   "name": "python3"
  },
  "language_info": {
   "codemirror_mode": {
    "name": "ipython",
    "version": 3
   },
   "file_extension": ".py",
   "mimetype": "text/x-python",
   "name": "python",
   "nbconvert_exporter": "python",
   "pygments_lexer": "ipython3",
   "version": "3.7.11"
  },
  "latex_envs": {
   "LaTeX_envs_menu_present": true,
   "autoclose": true,
   "autocomplete": true,
   "bibliofile": "biblio.bib",
   "cite_by": "apalike",
   "current_citInitial": 1,
   "eqLabelWithNumbers": true,
   "eqNumInitial": 1,
   "hotkeys": {
    "equation": "Ctrl-E",
    "itemize": "Ctrl-I"
   },
   "labels_anchors": false,
   "latex_user_defs": false,
   "report_style_numbering": false,
   "user_envs_cfg": false
  },
  "toc": {
   "base_numbering": 1,
   "nav_menu": {},
   "number_sections": true,
   "sideBar": true,
   "skip_h1_title": false,
   "title_cell": "Table of Contents",
   "title_sidebar": "Contents",
   "toc_cell": false,
   "toc_position": {},
   "toc_section_display": true,
   "toc_window_display": false
  }
 },
 "nbformat": 4,
 "nbformat_minor": 2
}
